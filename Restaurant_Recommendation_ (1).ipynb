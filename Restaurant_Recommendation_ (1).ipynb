{
  "cells": [
    {
      "cell_type": "code",
      "execution_count": 1,
      "metadata": {
        "id": "yh5JR8iuhAse"
      },
      "outputs": [],
      "source": [
        "import pandas as pd\n",
        "import matplotlib.pyplot as plt\n",
        "import seaborn as sns\n",
        "%matplotlib inline"
      ]
    },
    {
      "cell_type": "code",
      "execution_count": 2,
      "metadata": {
        "id": "E1laNmFghX2g"
      },
      "outputs": [],
      "source": [
        "from google.colab import drive"
      ]
    },
    {
      "cell_type": "code",
      "execution_count": 3,
      "metadata": {
        "colab": {
          "base_uri": "https://localhost:8080/",
          "height": 0
        },
        "id": "X04m3y53hpN-",
        "outputId": "2699cf8b-0b94-4559-e578-f7e174b830cb"
      },
      "outputs": [
        {
          "output_type": "stream",
          "name": "stdout",
          "text": [
            "Mounted at /content/drive\n"
          ]
        }
      ],
      "source": [
        "drive.mount('/content/drive')"
      ]
    },
    {
      "cell_type": "code",
      "execution_count": 4,
      "metadata": {
        "id": "JO_cZEPYiQVx"
      },
      "outputs": [],
      "source": [
        "df1=pd.read_excel('/content/drive/MyDrive/data.xlsx')"
      ]
    },
    {
      "cell_type": "code",
      "execution_count": 5,
      "metadata": {
        "id": "NsEG_qkeieL4"
      },
      "outputs": [],
      "source": [
        "df2=pd.read_excel('/content/drive/MyDrive/variable description.xlsx')"
      ]
    },
    {
      "cell_type": "code",
      "execution_count": 6,
      "metadata": {
        "id": "XJc3qBEOji6w"
      },
      "outputs": [],
      "source": [
        "df3=pd.read_excel('/content/drive/MyDrive/Country-Code.xlsx')"
      ]
    },
    {
      "cell_type": "code",
      "execution_count": 7,
      "metadata": {
        "colab": {
          "base_uri": "https://localhost:8080/",
          "height": 0
        },
        "id": "sXZsS2oWjz42",
        "outputId": "4c4d2a8f-d81d-4138-e48f-1e33b432126d"
      },
      "outputs": [
        {
          "output_type": "stream",
          "name": "stdout",
          "text": [
            "<class 'pandas.core.frame.DataFrame'>\n",
            "RangeIndex: 9551 entries, 0 to 9550\n",
            "Data columns (total 19 columns):\n",
            " #   Column                Non-Null Count  Dtype  \n",
            "---  ------                --------------  -----  \n",
            " 0   Restaurant ID         9551 non-null   int64  \n",
            " 1   Restaurant Name       9550 non-null   object \n",
            " 2   Country Code          9551 non-null   int64  \n",
            " 3   City                  9551 non-null   object \n",
            " 4   Address               9551 non-null   object \n",
            " 5   Locality              9551 non-null   object \n",
            " 6   Locality Verbose      9551 non-null   object \n",
            " 7   Longitude             9551 non-null   float64\n",
            " 8   Latitude              9551 non-null   float64\n",
            " 9   Cuisines              9542 non-null   object \n",
            " 10  Average Cost for two  9551 non-null   int64  \n",
            " 11  Currency              9551 non-null   object \n",
            " 12  Has Table booking     9551 non-null   object \n",
            " 13  Has Online delivery   9551 non-null   object \n",
            " 14  Price range           9551 non-null   int64  \n",
            " 15  Aggregate rating      9551 non-null   float64\n",
            " 16  Rating color          9551 non-null   object \n",
            " 17  Rating text           9551 non-null   object \n",
            " 18  Votes                 9551 non-null   int64  \n",
            "dtypes: float64(3), int64(5), object(11)\n",
            "memory usage: 1.4+ MB\n"
          ]
        }
      ],
      "source": [
        "df1.info()"
      ]
    },
    {
      "cell_type": "code",
      "execution_count": 8,
      "metadata": {
        "colab": {
          "base_uri": "https://localhost:8080/",
          "height": 0
        },
        "id": "L6t-EqX1j5ES",
        "outputId": "c40c175c-f00f-49ed-c722-b18be01f2d08"
      },
      "outputs": [
        {
          "output_type": "stream",
          "name": "stdout",
          "text": [
            "<class 'pandas.core.frame.DataFrame'>\n",
            "RangeIndex: 19 entries, 0 to 18\n",
            "Data columns (total 2 columns):\n",
            " #   Column       Non-Null Count  Dtype \n",
            "---  ------       --------------  ----- \n",
            " 0   Variable     19 non-null     object\n",
            " 1   Description  19 non-null     object\n",
            "dtypes: object(2)\n",
            "memory usage: 432.0+ bytes\n"
          ]
        }
      ],
      "source": [
        "df2.info()"
      ]
    },
    {
      "cell_type": "code",
      "source": [
        "df2"
      ],
      "metadata": {
        "colab": {
          "base_uri": "https://localhost:8080/",
          "height": 648
        },
        "id": "1J67GAcFIEqw",
        "outputId": "e69bab01-e005-477c-ba84-968b44eb7b38"
      },
      "execution_count": 9,
      "outputs": [
        {
          "output_type": "execute_result",
          "data": {
            "text/plain": [
              "                Variable                                        Description\n",
              "0          Restaurant ID                              Identification Number\n",
              "1        Restaurant Name                             Name Of the Restaurant\n",
              "2           Country Code                                       Country code\n",
              "3                   City                        City Name of the Restaurant\n",
              "4                Address                 Detailed address of the restaurant\n",
              "5               Locality                     Shot Address Of the Restaurant\n",
              "6       Locality Verbose                     Long Address of the Restaurant\n",
              "7              Longitude                                          Longitude\n",
              "8               Latitude                                           Latitude\n",
              "9               Cuisines                           Types Of Cuisines Served\n",
              "10  Average Cost for two    Average Cost if two people visit the Restaurant\n",
              "11              Currency                                     Local currency\n",
              "12     Has Table booking           Can we book tables in Restaurant? Yes/No\n",
              "13   Has Online delivery               Can we have online delivery ? Yes/No\n",
              "14           Price range                     Categorized price between 1 -4\n",
              "15      Aggregate rating                  Categorizing ratings between 1-5 \n",
              "16          Rating color      Different colors representing Customer Rating\n",
              "17           Rating text  Different Rating like Excellent, Very Good ,Go...\n",
              "18                 Votes  No.Of Votes received by restaurant from custom..."
            ],
            "text/html": [
              "\n",
              "  <div id=\"df-1779464d-77d1-4d38-becb-c514b6b77d37\">\n",
              "    <div class=\"colab-df-container\">\n",
              "      <div>\n",
              "<style scoped>\n",
              "    .dataframe tbody tr th:only-of-type {\n",
              "        vertical-align: middle;\n",
              "    }\n",
              "\n",
              "    .dataframe tbody tr th {\n",
              "        vertical-align: top;\n",
              "    }\n",
              "\n",
              "    .dataframe thead th {\n",
              "        text-align: right;\n",
              "    }\n",
              "</style>\n",
              "<table border=\"1\" class=\"dataframe\">\n",
              "  <thead>\n",
              "    <tr style=\"text-align: right;\">\n",
              "      <th></th>\n",
              "      <th>Variable</th>\n",
              "      <th>Description</th>\n",
              "    </tr>\n",
              "  </thead>\n",
              "  <tbody>\n",
              "    <tr>\n",
              "      <th>0</th>\n",
              "      <td>Restaurant ID</td>\n",
              "      <td>Identification Number</td>\n",
              "    </tr>\n",
              "    <tr>\n",
              "      <th>1</th>\n",
              "      <td>Restaurant Name</td>\n",
              "      <td>Name Of the Restaurant</td>\n",
              "    </tr>\n",
              "    <tr>\n",
              "      <th>2</th>\n",
              "      <td>Country Code</td>\n",
              "      <td>Country code</td>\n",
              "    </tr>\n",
              "    <tr>\n",
              "      <th>3</th>\n",
              "      <td>City</td>\n",
              "      <td>City Name of the Restaurant</td>\n",
              "    </tr>\n",
              "    <tr>\n",
              "      <th>4</th>\n",
              "      <td>Address</td>\n",
              "      <td>Detailed address of the restaurant</td>\n",
              "    </tr>\n",
              "    <tr>\n",
              "      <th>5</th>\n",
              "      <td>Locality</td>\n",
              "      <td>Shot Address Of the Restaurant</td>\n",
              "    </tr>\n",
              "    <tr>\n",
              "      <th>6</th>\n",
              "      <td>Locality Verbose</td>\n",
              "      <td>Long Address of the Restaurant</td>\n",
              "    </tr>\n",
              "    <tr>\n",
              "      <th>7</th>\n",
              "      <td>Longitude</td>\n",
              "      <td>Longitude</td>\n",
              "    </tr>\n",
              "    <tr>\n",
              "      <th>8</th>\n",
              "      <td>Latitude</td>\n",
              "      <td>Latitude</td>\n",
              "    </tr>\n",
              "    <tr>\n",
              "      <th>9</th>\n",
              "      <td>Cuisines</td>\n",
              "      <td>Types Of Cuisines Served</td>\n",
              "    </tr>\n",
              "    <tr>\n",
              "      <th>10</th>\n",
              "      <td>Average Cost for two</td>\n",
              "      <td>Average Cost if two people visit the Restaurant</td>\n",
              "    </tr>\n",
              "    <tr>\n",
              "      <th>11</th>\n",
              "      <td>Currency</td>\n",
              "      <td>Local currency</td>\n",
              "    </tr>\n",
              "    <tr>\n",
              "      <th>12</th>\n",
              "      <td>Has Table booking</td>\n",
              "      <td>Can we book tables in Restaurant? Yes/No</td>\n",
              "    </tr>\n",
              "    <tr>\n",
              "      <th>13</th>\n",
              "      <td>Has Online delivery</td>\n",
              "      <td>Can we have online delivery ? Yes/No</td>\n",
              "    </tr>\n",
              "    <tr>\n",
              "      <th>14</th>\n",
              "      <td>Price range</td>\n",
              "      <td>Categorized price between 1 -4</td>\n",
              "    </tr>\n",
              "    <tr>\n",
              "      <th>15</th>\n",
              "      <td>Aggregate rating</td>\n",
              "      <td>Categorizing ratings between 1-5</td>\n",
              "    </tr>\n",
              "    <tr>\n",
              "      <th>16</th>\n",
              "      <td>Rating color</td>\n",
              "      <td>Different colors representing Customer Rating</td>\n",
              "    </tr>\n",
              "    <tr>\n",
              "      <th>17</th>\n",
              "      <td>Rating text</td>\n",
              "      <td>Different Rating like Excellent, Very Good ,Go...</td>\n",
              "    </tr>\n",
              "    <tr>\n",
              "      <th>18</th>\n",
              "      <td>Votes</td>\n",
              "      <td>No.Of Votes received by restaurant from custom...</td>\n",
              "    </tr>\n",
              "  </tbody>\n",
              "</table>\n",
              "</div>\n",
              "      <button class=\"colab-df-convert\" onclick=\"convertToInteractive('df-1779464d-77d1-4d38-becb-c514b6b77d37')\"\n",
              "              title=\"Convert this dataframe to an interactive table.\"\n",
              "              style=\"display:none;\">\n",
              "        \n",
              "  <svg xmlns=\"http://www.w3.org/2000/svg\" height=\"24px\"viewBox=\"0 0 24 24\"\n",
              "       width=\"24px\">\n",
              "    <path d=\"M0 0h24v24H0V0z\" fill=\"none\"/>\n",
              "    <path d=\"M18.56 5.44l.94 2.06.94-2.06 2.06-.94-2.06-.94-.94-2.06-.94 2.06-2.06.94zm-11 1L8.5 8.5l.94-2.06 2.06-.94-2.06-.94L8.5 2.5l-.94 2.06-2.06.94zm10 10l.94 2.06.94-2.06 2.06-.94-2.06-.94-.94-2.06-.94 2.06-2.06.94z\"/><path d=\"M17.41 7.96l-1.37-1.37c-.4-.4-.92-.59-1.43-.59-.52 0-1.04.2-1.43.59L10.3 9.45l-7.72 7.72c-.78.78-.78 2.05 0 2.83L4 21.41c.39.39.9.59 1.41.59.51 0 1.02-.2 1.41-.59l7.78-7.78 2.81-2.81c.8-.78.8-2.07 0-2.86zM5.41 20L4 18.59l7.72-7.72 1.47 1.35L5.41 20z\"/>\n",
              "  </svg>\n",
              "      </button>\n",
              "      \n",
              "  <style>\n",
              "    .colab-df-container {\n",
              "      display:flex;\n",
              "      flex-wrap:wrap;\n",
              "      gap: 12px;\n",
              "    }\n",
              "\n",
              "    .colab-df-convert {\n",
              "      background-color: #E8F0FE;\n",
              "      border: none;\n",
              "      border-radius: 50%;\n",
              "      cursor: pointer;\n",
              "      display: none;\n",
              "      fill: #1967D2;\n",
              "      height: 32px;\n",
              "      padding: 0 0 0 0;\n",
              "      width: 32px;\n",
              "    }\n",
              "\n",
              "    .colab-df-convert:hover {\n",
              "      background-color: #E2EBFA;\n",
              "      box-shadow: 0px 1px 2px rgba(60, 64, 67, 0.3), 0px 1px 3px 1px rgba(60, 64, 67, 0.15);\n",
              "      fill: #174EA6;\n",
              "    }\n",
              "\n",
              "    [theme=dark] .colab-df-convert {\n",
              "      background-color: #3B4455;\n",
              "      fill: #D2E3FC;\n",
              "    }\n",
              "\n",
              "    [theme=dark] .colab-df-convert:hover {\n",
              "      background-color: #434B5C;\n",
              "      box-shadow: 0px 1px 3px 1px rgba(0, 0, 0, 0.15);\n",
              "      filter: drop-shadow(0px 1px 2px rgba(0, 0, 0, 0.3));\n",
              "      fill: #FFFFFF;\n",
              "    }\n",
              "  </style>\n",
              "\n",
              "      <script>\n",
              "        const buttonEl =\n",
              "          document.querySelector('#df-1779464d-77d1-4d38-becb-c514b6b77d37 button.colab-df-convert');\n",
              "        buttonEl.style.display =\n",
              "          google.colab.kernel.accessAllowed ? 'block' : 'none';\n",
              "\n",
              "        async function convertToInteractive(key) {\n",
              "          const element = document.querySelector('#df-1779464d-77d1-4d38-becb-c514b6b77d37');\n",
              "          const dataTable =\n",
              "            await google.colab.kernel.invokeFunction('convertToInteractive',\n",
              "                                                     [key], {});\n",
              "          if (!dataTable) return;\n",
              "\n",
              "          const docLinkHtml = 'Like what you see? Visit the ' +\n",
              "            '<a target=\"_blank\" href=https://colab.research.google.com/notebooks/data_table.ipynb>data table notebook</a>'\n",
              "            + ' to learn more about interactive tables.';\n",
              "          element.innerHTML = '';\n",
              "          dataTable['output_type'] = 'display_data';\n",
              "          await google.colab.output.renderOutput(dataTable, element);\n",
              "          const docLink = document.createElement('div');\n",
              "          docLink.innerHTML = docLinkHtml;\n",
              "          element.appendChild(docLink);\n",
              "        }\n",
              "      </script>\n",
              "    </div>\n",
              "  </div>\n",
              "  "
            ]
          },
          "metadata": {},
          "execution_count": 9
        }
      ]
    },
    {
      "cell_type": "code",
      "execution_count": 10,
      "metadata": {
        "colab": {
          "base_uri": "https://localhost:8080/",
          "height": 0
        },
        "id": "o-yWY1lwkBup",
        "outputId": "5730cc74-5044-4728-aa53-a7c4bb753d40"
      },
      "outputs": [
        {
          "output_type": "stream",
          "name": "stdout",
          "text": [
            "<class 'pandas.core.frame.DataFrame'>\n",
            "RangeIndex: 15 entries, 0 to 14\n",
            "Data columns (total 2 columns):\n",
            " #   Column        Non-Null Count  Dtype \n",
            "---  ------        --------------  ----- \n",
            " 0   Country Code  15 non-null     int64 \n",
            " 1   Country       15 non-null     object\n",
            "dtypes: int64(1), object(1)\n",
            "memory usage: 368.0+ bytes\n"
          ]
        }
      ],
      "source": [
        "df3.info()"
      ]
    },
    {
      "cell_type": "markdown",
      "metadata": {
        "id": "f6Kzkz65ktDi"
      },
      "source": [
        "**df2 and df3 is clean.df1 needs  little cleaning**\n",
        "1. Cleaning\n",
        "---\n",
        "\n"
      ]
    },
    {
      "cell_type": "code",
      "execution_count": 11,
      "metadata": {
        "colab": {
          "base_uri": "https://localhost:8080/",
          "height": 377
        },
        "id": "qy6n_MPjkFyT",
        "outputId": "80362bd5-cc3e-470f-fbb0-92c0442b277f"
      },
      "outputs": [
        {
          "output_type": "execute_result",
          "data": {
            "text/plain": [
              "<matplotlib.axes._subplots.AxesSubplot at 0x7f187fbf96d0>"
            ]
          },
          "metadata": {},
          "execution_count": 11
        },
        {
          "output_type": "display_data",
          "data": {
            "text/plain": [
              "<Figure size 432x288 with 1 Axes>"
            ],
            "image/png": "[encoded data removed]"
          },
          "metadata": {
            "needs_background": "light"
          }
        }
      ],
      "source": [
        "df1.isnull().sum().plot(kind='bar',color='red')\n"
      ]
    },
    {
      "cell_type": "code",
      "execution_count": 12,
      "metadata": {
        "colab": {
          "base_uri": "https://localhost:8080/",
          "height": 0
        },
        "id": "KhZfeb8Wkjch",
        "outputId": "9aaf9952-1049-4a38-9514-982a93804dd3"
      },
      "outputs": [
        {
          "output_type": "execute_result",
          "data": {
            "text/plain": [
              "Restaurant ID           0\n",
              "Restaurant Name         1\n",
              "Country Code            0\n",
              "City                    0\n",
              "Address                 0\n",
              "Locality                0\n",
              "Locality Verbose        0\n",
              "Longitude               0\n",
              "Latitude                0\n",
              "Cuisines                9\n",
              "Average Cost for two    0\n",
              "Currency                0\n",
              "Has Table booking       0\n",
              "Has Online delivery     0\n",
              "Price range             0\n",
              "Aggregate rating        0\n",
              "Rating color            0\n",
              "Rating text             0\n",
              "Votes                   0\n",
              "dtype: int64"
            ]
          },
          "metadata": {},
          "execution_count": 12
        }
      ],
      "source": [
        "df1.isnull().sum()"
      ]
    },
    {
      "cell_type": "code",
      "execution_count": 13,
      "metadata": {
        "id": "mz19H9zEkrNf"
      },
      "outputs": [],
      "source": [
        "df1[\"Restaurant Name\"]=df1[\"Restaurant Name\"].fillna(df1[\"Restaurant Name\"].mode()[0])\n",
        "df1[\"Cuisines\"]=df1[\"Cuisines\"].fillna(df1[\"Cuisines\"].mode()[0])"
      ]
    },
    {
      "cell_type": "code",
      "execution_count": 14,
      "metadata": {
        "colab": {
          "base_uri": "https://localhost:8080/",
          "height": 0
        },
        "id": "FjHnnidn7GfZ",
        "outputId": "b497ee33-ed98-4f95-92c6-4114bd378590"
      },
      "outputs": [
        {
          "output_type": "execute_result",
          "data": {
            "text/plain": [
              "Restaurant ID           0\n",
              "Restaurant Name         0\n",
              "Country Code            0\n",
              "City                    0\n",
              "Address                 0\n",
              "Locality                0\n",
              "Locality Verbose        0\n",
              "Longitude               0\n",
              "Latitude                0\n",
              "Cuisines                0\n",
              "Average Cost for two    0\n",
              "Currency                0\n",
              "Has Table booking       0\n",
              "Has Online delivery     0\n",
              "Price range             0\n",
              "Aggregate rating        0\n",
              "Rating color            0\n",
              "Rating text             0\n",
              "Votes                   0\n",
              "dtype: int64"
            ]
          },
          "metadata": {},
          "execution_count": 14
        }
      ],
      "source": [
        "df1.isnull().sum()"
      ]
    },
    {
      "cell_type": "code",
      "execution_count": 15,
      "metadata": {
        "colab": {
          "base_uri": "https://localhost:8080/",
          "height": 486
        },
        "id": "iCipKR2K7OVR",
        "outputId": "2602f5e7-75e6-44f0-97fd-057b117c433f"
      },
      "outputs": [
        {
          "output_type": "execute_result",
          "data": {
            "text/plain": [
              "<matplotlib.axes._subplots.AxesSubplot at 0x7f187fcdf1d0>"
            ]
          },
          "metadata": {},
          "execution_count": 15
        },
        {
          "output_type": "display_data",
          "data": {
            "text/plain": [
              "<Figure size 1440x432 with 1 Axes>"
            ],
            "image/png": "[encoded data removed]"
          },
          "metadata": {
            "needs_background": "light"
          }
        }
      ],
      "source": [
        "colormap = sns.color_palette(\"Greens\")\n",
        "plt.rcParams['figure.figsize']=(20,6)\n",
        "sns.heatmap(df1.isnull(),yticklabels=False,cbar=False,cmap=colormap)"
      ]
    },
    {
      "cell_type": "markdown",
      "source": [
        "**Null Values from column \"Restaurant Name\" AND Cuisines has been replaced with the mode of the columns since both the columns  have categorial variable**"
      ],
      "metadata": {
        "id": "3v48oZ6XHaTS"
      }
    },
    {
      "cell_type": "markdown",
      "metadata": {
        "id": "B1yNHlu0-4QT"
      },
      "source": [
        "*1.Explore the geographical distribution of the restaurants, finding out the \n",
        "cities with maximum / minimum number of restaurants.*"
      ]
    },
    {
      "cell_type": "code",
      "source": [
        "df=df1.merge(df3,on='Country Code',how='left')\n",
        "#merging with df3 to get the country name"
      ],
      "metadata": {
        "id": "9znjYWDZIBKe"
      },
      "execution_count": 16,
      "outputs": []
    },
    {
      "cell_type": "code",
      "source": [
        "b=df.groupby([\"Country\"]).agg({ \"Restaurant ID\" : \"count\"}).reset_index().rename({\"Restaurant ID\" :\"No. of Restaurant\"},axis='columns').sort_values(by='No. of Restaurant',ascending=False)\n",
        "b=b.head(5)"
      ],
      "metadata": {
        "id": "PrPCxsuHZYPt"
      },
      "execution_count": 17,
      "outputs": []
    },
    {
      "cell_type": "code",
      "source": [
        "plt.rcParams['figure.figsize']=(20,6)\n",
        "sns.barplot(\"Country\",\"No. of Restaurant\",data=b)"
      ],
      "metadata": {
        "colab": {
          "base_uri": "https://localhost:8080/",
          "height": 461
        },
        "id": "kPEhoFhKZYW_",
        "outputId": "eff56baa-a766-4b5f-e595-d1eb3163bba9"
      },
      "execution_count": 18,
      "outputs": [
        {
          "output_type": "stream",
          "name": "stderr",
          "text": [
            "/usr/local/lib/python3.7/dist-packages/seaborn/_decorators.py:43: FutureWarning: Pass the following variables as keyword args: x, y. From version 0.12, the only valid positional argument will be `data`, and passing other arguments without an explicit keyword will result in an error or misinterpretation.\n",
            "  FutureWarning\n"
          ]
        },
        {
          "output_type": "execute_result",
          "data": {
            "text/plain": [
              "<matplotlib.axes._subplots.AxesSubplot at 0x7f187fde0dd0>"
            ]
          },
          "metadata": {},
          "execution_count": 18
        },
        {
          "output_type": "display_data",
          "data": {
            "text/plain": [
              "<Figure size 1440x432 with 1 Axes>"
            ],
            "image/png": "[encoded data removed]"
          },
          "metadata": {
            "needs_background": "light"
          }
        }
      ]
    },
    {
      "cell_type": "code",
      "source": [
        "plt.rcParams['figure.figsize']=(20,6)\n",
        "plt.pie(b[\"No. of Restaurant\"],labels=b[\"Country\"],autopct='%1.2f%%',radius=2)"
      ],
      "metadata": {
        "colab": {
          "base_uri": "https://localhost:8080/",
          "height": 824
        },
        "id": "4pZybKUdZYbl",
        "outputId": "05cc32d4-91af-4d13-8c23-1ce210fa7ab5"
      },
      "execution_count": 19,
      "outputs": [
        {
          "output_type": "execute_result",
          "data": {
            "text/plain": [
              "([<matplotlib.patches.Wedge at 0x7f187fc978d0>,\n",
              "  <matplotlib.patches.Wedge at 0x7f187fc7a290>,\n",
              "  <matplotlib.patches.Wedge at 0x7f187fc953d0>,\n",
              "  <matplotlib.patches.Wedge at 0x7f187fd5aad0>,\n",
              "  <matplotlib.patches.Wedge at 0x7f187fd30d10>],\n",
              " [Text(-2.14958641544394, 0.4682715478639219, 'India'),\n",
              "  Text(2.113007155070432, -0.6125363357558145, 'United States'),\n",
              "  Text(2.187120187817026, -0.237708401288674, 'United Kingdom'),\n",
              "  Text(2.1959220340232783, -0.13388958320597136, 'Brazil'),\n",
              "  Text(2.1995467728848292, -0.04465415873057457, 'South Africa')],\n",
              " [Text(-1.1725016811512399, 0.2554208442894119, '93.17%'),\n",
              "  Text(1.1525493573111445, -0.3341107285940806, '4.67%'),\n",
              "  Text(1.192974647900196, -0.12965912797564036, '0.86%'),\n",
              "  Text(1.197775654921788, -0.07303068174871163, '0.65%'),\n",
              "  Text(1.1997527852099066, -0.024356813853040674, '0.65%')])"
            ]
          },
          "metadata": {},
          "execution_count": 19
        },
        {
          "output_type": "display_data",
          "data": {
            "text/plain": [
              "<Figure size 1440x432 with 1 Axes>"
            ],
            "image/png": "[encoded data removed]"
          },
          "metadata": {}
        }
      ]
    },
    {
      "cell_type": "code",
      "source": [
        ""
      ],
      "metadata": {
        "id": "GCAquAYrjZc4"
      },
      "execution_count": 20,
      "outputs": []
    },
    {
      "cell_type": "code",
      "execution_count": 21,
      "metadata": {
        "id": "ra9YmrX7_QON",
        "colab": {
          "base_uri": "https://localhost:8080/",
          "height": 425
        },
        "outputId": "f9cd944b-faa2-47fe-ab04-400d855239e6"
      },
      "outputs": [
        {
          "output_type": "execute_result",
          "data": {
            "text/plain": [
              "            City  No. of Restaurant\n",
              "88     New Delhi               5473\n",
              "50       Gurgaon               1118\n",
              "89         Noida               1080\n",
              "43     Faridabad                251\n",
              "48     Ghaziabad                 25\n",
              "..           ...                ...\n",
              "37   Dicky Beach                  1\n",
              "68          Lorn                  1\n",
              "107  Quezon City                  1\n",
              "66       Lincoln                  1\n",
              "65      Lakeview                  1\n",
              "\n",
              "[141 rows x 2 columns]"
            ],
            "text/html": [
              "\n",
              "  <div id=\"df-327b3189-16e8-4314-a187-f6a79f89a83f\">\n",
              "    <div class=\"colab-df-container\">\n",
              "      <div>\n",
              "<style scoped>\n",
              "    .dataframe tbody tr th:only-of-type {\n",
              "        vertical-align: middle;\n",
              "    }\n",
              "\n",
              "    .dataframe tbody tr th {\n",
              "        vertical-align: top;\n",
              "    }\n",
              "\n",
              "    .dataframe thead th {\n",
              "        text-align: right;\n",
              "    }\n",
              "</style>\n",
              "<table border=\"1\" class=\"dataframe\">\n",
              "  <thead>\n",
              "    <tr style=\"text-align: right;\">\n",
              "      <th></th>\n",
              "      <th>City</th>\n",
              "      <th>No. of Restaurant</th>\n",
              "    </tr>\n",
              "  </thead>\n",
              "  <tbody>\n",
              "    <tr>\n",
              "      <th>88</th>\n",
              "      <td>New Delhi</td>\n",
              "      <td>5473</td>\n",
              "    </tr>\n",
              "    <tr>\n",
              "      <th>50</th>\n",
              "      <td>Gurgaon</td>\n",
              "      <td>1118</td>\n",
              "    </tr>\n",
              "    <tr>\n",
              "      <th>89</th>\n",
              "      <td>Noida</td>\n",
              "      <td>1080</td>\n",
              "    </tr>\n",
              "    <tr>\n",
              "      <th>43</th>\n",
              "      <td>Faridabad</td>\n",
              "      <td>251</td>\n",
              "    </tr>\n",
              "    <tr>\n",
              "      <th>48</th>\n",
              "      <td>Ghaziabad</td>\n",
              "      <td>25</td>\n",
              "    </tr>\n",
              "    <tr>\n",
              "      <th>...</th>\n",
              "      <td>...</td>\n",
              "      <td>...</td>\n",
              "    </tr>\n",
              "    <tr>\n",
              "      <th>37</th>\n",
              "      <td>Dicky Beach</td>\n",
              "      <td>1</td>\n",
              "    </tr>\n",
              "    <tr>\n",
              "      <th>68</th>\n",
              "      <td>Lorn</td>\n",
              "      <td>1</td>\n",
              "    </tr>\n",
              "    <tr>\n",
              "      <th>107</th>\n",
              "      <td>Quezon City</td>\n",
              "      <td>1</td>\n",
              "    </tr>\n",
              "    <tr>\n",
              "      <th>66</th>\n",
              "      <td>Lincoln</td>\n",
              "      <td>1</td>\n",
              "    </tr>\n",
              "    <tr>\n",
              "      <th>65</th>\n",
              "      <td>Lakeview</td>\n",
              "      <td>1</td>\n",
              "    </tr>\n",
              "  </tbody>\n",
              "</table>\n",
              "<p>141 rows × 2 columns</p>\n",
              "</div>\n",
              "      <button class=\"colab-df-convert\" onclick=\"convertToInteractive('df-327b3189-16e8-4314-a187-f6a79f89a83f')\"\n",
              "              title=\"Convert this dataframe to an interactive table.\"\n",
              "              style=\"display:none;\">\n",
              "        \n",
              "  <svg xmlns=\"http://www.w3.org/2000/svg\" height=\"24px\"viewBox=\"0 0 24 24\"\n",
              "       width=\"24px\">\n",
              "    <path d=\"M0 0h24v24H0V0z\" fill=\"none\"/>\n",
              "    <path d=\"M18.56 5.44l.94 2.06.94-2.06 2.06-.94-2.06-.94-.94-2.06-.94 2.06-2.06.94zm-11 1L8.5 8.5l.94-2.06 2.06-.94-2.06-.94L8.5 2.5l-.94 2.06-2.06.94zm10 10l.94 2.06.94-2.06 2.06-.94-2.06-.94-.94-2.06-.94 2.06-2.06.94z\"/><path d=\"M17.41 7.96l-1.37-1.37c-.4-.4-.92-.59-1.43-.59-.52 0-1.04.2-1.43.59L10.3 9.45l-7.72 7.72c-.78.78-.78 2.05 0 2.83L4 21.41c.39.39.9.59 1.41.59.51 0 1.02-.2 1.41-.59l7.78-7.78 2.81-2.81c.8-.78.8-2.07 0-2.86zM5.41 20L4 18.59l7.72-7.72 1.47 1.35L5.41 20z\"/>\n",
              "  </svg>\n",
              "      </button>\n",
              "      \n",
              "  <style>\n",
              "    .colab-df-container {\n",
              "      display:flex;\n",
              "      flex-wrap:wrap;\n",
              "      gap: 12px;\n",
              "    }\n",
              "\n",
              "    .colab-df-convert {\n",
              "      background-color: #E8F0FE;\n",
              "      border: none;\n",
              "      border-radius: 50%;\n",
              "      cursor: pointer;\n",
              "      display: none;\n",
              "      fill: #1967D2;\n",
              "      height: 32px;\n",
              "      padding: 0 0 0 0;\n",
              "      width: 32px;\n",
              "    }\n",
              "\n",
              "    .colab-df-convert:hover {\n",
              "      background-color: #E2EBFA;\n",
              "      box-shadow: 0px 1px 2px rgba(60, 64, 67, 0.3), 0px 1px 3px 1px rgba(60, 64, 67, 0.15);\n",
              "      fill: #174EA6;\n",
              "    }\n",
              "\n",
              "    [theme=dark] .colab-df-convert {\n",
              "      background-color: #3B4455;\n",
              "      fill: #D2E3FC;\n",
              "    }\n",
              "\n",
              "    [theme=dark] .colab-df-convert:hover {\n",
              "      background-color: #434B5C;\n",
              "      box-shadow: 0px 1px 3px 1px rgba(0, 0, 0, 0.15);\n",
              "      filter: drop-shadow(0px 1px 2px rgba(0, 0, 0, 0.3));\n",
              "      fill: #FFFFFF;\n",
              "    }\n",
              "  </style>\n",
              "\n",
              "      <script>\n",
              "        const buttonEl =\n",
              "          document.querySelector('#df-327b3189-16e8-4314-a187-f6a79f89a83f button.colab-df-convert');\n",
              "        buttonEl.style.display =\n",
              "          google.colab.kernel.accessAllowed ? 'block' : 'none';\n",
              "\n",
              "        async function convertToInteractive(key) {\n",
              "          const element = document.querySelector('#df-327b3189-16e8-4314-a187-f6a79f89a83f');\n",
              "          const dataTable =\n",
              "            await google.colab.kernel.invokeFunction('convertToInteractive',\n",
              "                                                     [key], {});\n",
              "          if (!dataTable) return;\n",
              "\n",
              "          const docLinkHtml = 'Like what you see? Visit the ' +\n",
              "            '<a target=\"_blank\" href=https://colab.research.google.com/notebooks/data_table.ipynb>data table notebook</a>'\n",
              "            + ' to learn more about interactive tables.';\n",
              "          element.innerHTML = '';\n",
              "          dataTable['output_type'] = 'display_data';\n",
              "          await google.colab.output.renderOutput(dataTable, element);\n",
              "          const docLink = document.createElement('div');\n",
              "          docLink.innerHTML = docLinkHtml;\n",
              "          element.appendChild(docLink);\n",
              "        }\n",
              "      </script>\n",
              "    </div>\n",
              "  </div>\n",
              "  "
            ]
          },
          "metadata": {},
          "execution_count": 21
        }
      ],
      "source": [
        "#checking distribution at more granular level(City)\n",
        "a=df.groupby([\"City\"]).agg({ \"Restaurant ID\" : \"count\"}).reset_index().rename({\"Restaurant ID\" :\"No. of Restaurant\"},axis='columns').sort_values(by='No. of Restaurant',ascending=False)\n",
        "a"
      ]
    },
    {
      "cell_type": "code",
      "source": [
        "#Top 5 across cities\n",
        "plt.rcParams['figure.figsize']=(20,6)\n",
        "sns.barplot(\"City\",\"No. of Restaurant\",data=a.head(5))"
      ],
      "metadata": {
        "colab": {
          "base_uri": "https://localhost:8080/",
          "height": 461
        },
        "id": "fHSbWrimI2_-",
        "outputId": "a22f6ad1-f8df-4f9e-c187-99f21bdd26ad"
      },
      "execution_count": 22,
      "outputs": [
        {
          "output_type": "stream",
          "name": "stderr",
          "text": [
            "/usr/local/lib/python3.7/dist-packages/seaborn/_decorators.py:43: FutureWarning: Pass the following variables as keyword args: x, y. From version 0.12, the only valid positional argument will be `data`, and passing other arguments without an explicit keyword will result in an error or misinterpretation.\n",
            "  FutureWarning\n"
          ]
        },
        {
          "output_type": "execute_result",
          "data": {
            "text/plain": [
              "<matplotlib.axes._subplots.AxesSubplot at 0x7f187fd3a750>"
            ]
          },
          "metadata": {},
          "execution_count": 22
        },
        {
          "output_type": "display_data",
          "data": {
            "text/plain": [
              "<Figure size 1440x432 with 1 Axes>"
            ],
            "image/png": "[encoded data removed]"
          },
          "metadata": {
            "needs_background": "light"
          }
        }
      ]
    },
    {
      "cell_type": "code",
      "source": [
        "plt.rcParams['figure.figsize']=(20,12)\n",
        "sns.barplot(x='No. of Restaurant',y='City',data=a.tail(50),palette='rocket')\n",
        "plt.title(\"Cities with least no of restaurants\")"
      ],
      "metadata": {
        "colab": {
          "base_uri": "https://localhost:8080/",
          "height": 748
        },
        "id": "YzplFZn_I3DB",
        "outputId": "4845b96c-3458-46f9-efe6-248ae68fcbc2"
      },
      "execution_count": 23,
      "outputs": [
        {
          "output_type": "execute_result",
          "data": {
            "text/plain": [
              "Text(0.5, 1.0, 'Cities with least no of restaurants')"
            ]
          },
          "metadata": {},
          "execution_count": 23
        },
        {
          "output_type": "display_data",
          "data": {
            "text/plain": [
              "<Figure size 1440x864 with 1 Axes>"
            ],
            "image/png": "[encoded data removed]"
          },
          "metadata": {
            "needs_background": "light"
          }
        }
      ]
    },
    {
      "cell_type": "markdown",
      "metadata": {
        "id": "6zfR3r4XEjeu"
      },
      "source": [
        "Explore how ratings are distributed overall"
      ]
    },
    {
      "cell_type": "code",
      "source": [
        "z=df1.groupby(['Aggregate rating','Rating color','Rating text']).size().reset_index().rename(columns={0:\"rating ct\"})"
      ],
      "metadata": {
        "id": "w365EdcEfONH"
      },
      "execution_count": 26,
      "outputs": []
    },
    {
      "cell_type": "code",
      "source": [
        "z"
      ],
      "metadata": {
        "colab": {
          "base_uri": "https://localhost:8080/",
          "height": 1089
        },
        "id": "EweVScbIfpGO",
        "outputId": "2e0cc512-5630-434c-dda9-22cf22f996bf"
      },
      "execution_count": 27,
      "outputs": [
        {
          "output_type": "execute_result",
          "data": {
            "text/plain": [
              "    Aggregate rating Rating color Rating text  rating ct\n",
              "0                0.0        White   Not rated       2148\n",
              "1                1.8          Red        Poor          1\n",
              "2                1.9          Red        Poor          2\n",
              "3                2.0          Red        Poor          7\n",
              "4                2.1          Red        Poor         15\n",
              "5                2.2          Red        Poor         27\n",
              "6                2.3          Red        Poor         47\n",
              "7                2.4          Red        Poor         87\n",
              "8                2.5       Orange     Average        110\n",
              "9                2.6       Orange     Average        191\n",
              "10               2.7       Orange     Average        250\n",
              "11               2.8       Orange     Average        315\n",
              "12               2.9       Orange     Average        381\n",
              "13               3.0       Orange     Average        468\n",
              "14               3.1       Orange     Average        519\n",
              "15               3.2       Orange     Average        522\n",
              "16               3.3       Orange     Average        483\n",
              "17               3.4       Orange     Average        498\n",
              "18               3.5       Yellow        Good        480\n",
              "19               3.6       Yellow        Good        458\n",
              "20               3.7       Yellow        Good        427\n",
              "21               3.8       Yellow        Good        400\n",
              "22               3.9       Yellow        Good        335\n",
              "23               4.0        Green   Very Good        266\n",
              "24               4.1        Green   Very Good        274\n",
              "25               4.2        Green   Very Good        221\n",
              "26               4.3        Green   Very Good        174\n",
              "27               4.4        Green   Very Good        144\n",
              "28               4.5   Dark Green   Excellent         95\n",
              "29               4.6   Dark Green   Excellent         78\n",
              "30               4.7   Dark Green   Excellent         42\n",
              "31               4.8   Dark Green   Excellent         25\n",
              "32               4.9   Dark Green   Excellent         61"
            ],
            "text/html": [
              "\n",
              "  <div id=\"df-d1148a9d-7a17-4482-bb9f-1e13bb68b3d3\">\n",
              "    <div class=\"colab-df-container\">\n",
              "      <div>\n",
              "<style scoped>\n",
              "    .dataframe tbody tr th:only-of-type {\n",
              "        vertical-align: middle;\n",
              "    }\n",
              "\n",
              "    .dataframe tbody tr th {\n",
              "        vertical-align: top;\n",
              "    }\n",
              "\n",
              "    .dataframe thead th {\n",
              "        text-align: right;\n",
              "    }\n",
              "</style>\n",
              "<table border=\"1\" class=\"dataframe\">\n",
              "  <thead>\n",
              "    <tr style=\"text-align: right;\">\n",
              "      <th></th>\n",
              "      <th>Aggregate rating</th>\n",
              "      <th>Rating color</th>\n",
              "      <th>Rating text</th>\n",
              "      <th>rating ct</th>\n",
              "    </tr>\n",
              "  </thead>\n",
              "  <tbody>\n",
              "    <tr>\n",
              "      <th>0</th>\n",
              "      <td>0.0</td>\n",
              "      <td>White</td>\n",
              "      <td>Not rated</td>\n",
              "      <td>2148</td>\n",
              "    </tr>\n",
              "    <tr>\n",
              "      <th>1</th>\n",
              "      <td>1.8</td>\n",
              "      <td>Red</td>\n",
              "      <td>Poor</td>\n",
              "      <td>1</td>\n",
              "    </tr>\n",
              "    <tr>\n",
              "      <th>2</th>\n",
              "      <td>1.9</td>\n",
              "      <td>Red</td>\n",
              "      <td>Poor</td>\n",
              "      <td>2</td>\n",
              "    </tr>\n",
              "    <tr>\n",
              "      <th>3</th>\n",
              "      <td>2.0</td>\n",
              "      <td>Red</td>\n",
              "      <td>Poor</td>\n",
              "      <td>7</td>\n",
              "    </tr>\n",
              "    <tr>\n",
              "      <th>4</th>\n",
              "      <td>2.1</td>\n",
              "      <td>Red</td>\n",
              "      <td>Poor</td>\n",
              "      <td>15</td>\n",
              "    </tr>\n",
              "    <tr>\n",
              "      <th>5</th>\n",
              "      <td>2.2</td>\n",
              "      <td>Red</td>\n",
              "      <td>Poor</td>\n",
              "      <td>27</td>\n",
              "    </tr>\n",
              "    <tr>\n",
              "      <th>6</th>\n",
              "      <td>2.3</td>\n",
              "      <td>Red</td>\n",
              "      <td>Poor</td>\n",
              "      <td>47</td>\n",
              "    </tr>\n",
              "    <tr>\n",
              "      <th>7</th>\n",
              "      <td>2.4</td>\n",
              "      <td>Red</td>\n",
              "      <td>Poor</td>\n",
              "      <td>87</td>\n",
              "    </tr>\n",
              "    <tr>\n",
              "      <th>8</th>\n",
              "      <td>2.5</td>\n",
              "      <td>Orange</td>\n",
              "      <td>Average</td>\n",
              "      <td>110</td>\n",
              "    </tr>\n",
              "    <tr>\n",
              "      <th>9</th>\n",
              "      <td>2.6</td>\n",
              "      <td>Orange</td>\n",
              "      <td>Average</td>\n",
              "      <td>191</td>\n",
              "    </tr>\n",
              "    <tr>\n",
              "      <th>10</th>\n",
              "      <td>2.7</td>\n",
              "      <td>Orange</td>\n",
              "      <td>Average</td>\n",
              "      <td>250</td>\n",
              "    </tr>\n",
              "    <tr>\n",
              "      <th>11</th>\n",
              "      <td>2.8</td>\n",
              "      <td>Orange</td>\n",
              "      <td>Average</td>\n",
              "      <td>315</td>\n",
              "    </tr>\n",
              "    <tr>\n",
              "      <th>12</th>\n",
              "      <td>2.9</td>\n",
              "      <td>Orange</td>\n",
              "      <td>Average</td>\n",
              "      <td>381</td>\n",
              "    </tr>\n",
              "    <tr>\n",
              "      <th>13</th>\n",
              "      <td>3.0</td>\n",
              "      <td>Orange</td>\n",
              "      <td>Average</td>\n",
              "      <td>468</td>\n",
              "    </tr>\n",
              "    <tr>\n",
              "      <th>14</th>\n",
              "      <td>3.1</td>\n",
              "      <td>Orange</td>\n",
              "      <td>Average</td>\n",
              "      <td>519</td>\n",
              "    </tr>\n",
              "    <tr>\n",
              "      <th>15</th>\n",
              "      <td>3.2</td>\n",
              "      <td>Orange</td>\n",
              "      <td>Average</td>\n",
              "      <td>522</td>\n",
              "    </tr>\n",
              "    <tr>\n",
              "      <th>16</th>\n",
              "      <td>3.3</td>\n",
              "      <td>Orange</td>\n",
              "      <td>Average</td>\n",
              "      <td>483</td>\n",
              "    </tr>\n",
              "    <tr>\n",
              "      <th>17</th>\n",
              "      <td>3.4</td>\n",
              "      <td>Orange</td>\n",
              "      <td>Average</td>\n",
              "      <td>498</td>\n",
              "    </tr>\n",
              "    <tr>\n",
              "      <th>18</th>\n",
              "      <td>3.5</td>\n",
              "      <td>Yellow</td>\n",
              "      <td>Good</td>\n",
              "      <td>480</td>\n",
              "    </tr>\n",
              "    <tr>\n",
              "      <th>19</th>\n",
              "      <td>3.6</td>\n",
              "      <td>Yellow</td>\n",
              "      <td>Good</td>\n",
              "      <td>458</td>\n",
              "    </tr>\n",
              "    <tr>\n",
              "      <th>20</th>\n",
              "      <td>3.7</td>\n",
              "      <td>Yellow</td>\n",
              "      <td>Good</td>\n",
              "      <td>427</td>\n",
              "    </tr>\n",
              "    <tr>\n",
              "      <th>21</th>\n",
              "      <td>3.8</td>\n",
              "      <td>Yellow</td>\n",
              "      <td>Good</td>\n",
              "      <td>400</td>\n",
              "    </tr>\n",
              "    <tr>\n",
              "      <th>22</th>\n",
              "      <td>3.9</td>\n",
              "      <td>Yellow</td>\n",
              "      <td>Good</td>\n",
              "      <td>335</td>\n",
              "    </tr>\n",
              "    <tr>\n",
              "      <th>23</th>\n",
              "      <td>4.0</td>\n",
              "      <td>Green</td>\n",
              "      <td>Very Good</td>\n",
              "      <td>266</td>\n",
              "    </tr>\n",
              "    <tr>\n",
              "      <th>24</th>\n",
              "      <td>4.1</td>\n",
              "      <td>Green</td>\n",
              "      <td>Very Good</td>\n",
              "      <td>274</td>\n",
              "    </tr>\n",
              "    <tr>\n",
              "      <th>25</th>\n",
              "      <td>4.2</td>\n",
              "      <td>Green</td>\n",
              "      <td>Very Good</td>\n",
              "      <td>221</td>\n",
              "    </tr>\n",
              "    <tr>\n",
              "      <th>26</th>\n",
              "      <td>4.3</td>\n",
              "      <td>Green</td>\n",
              "      <td>Very Good</td>\n",
              "      <td>174</td>\n",
              "    </tr>\n",
              "    <tr>\n",
              "      <th>27</th>\n",
              "      <td>4.4</td>\n",
              "      <td>Green</td>\n",
              "      <td>Very Good</td>\n",
              "      <td>144</td>\n",
              "    </tr>\n",
              "    <tr>\n",
              "      <th>28</th>\n",
              "      <td>4.5</td>\n",
              "      <td>Dark Green</td>\n",
              "      <td>Excellent</td>\n",
              "      <td>95</td>\n",
              "    </tr>\n",
              "    <tr>\n",
              "      <th>29</th>\n",
              "      <td>4.6</td>\n",
              "      <td>Dark Green</td>\n",
              "      <td>Excellent</td>\n",
              "      <td>78</td>\n",
              "    </tr>\n",
              "    <tr>\n",
              "      <th>30</th>\n",
              "      <td>4.7</td>\n",
              "      <td>Dark Green</td>\n",
              "      <td>Excellent</td>\n",
              "      <td>42</td>\n",
              "    </tr>\n",
              "    <tr>\n",
              "      <th>31</th>\n",
              "      <td>4.8</td>\n",
              "      <td>Dark Green</td>\n",
              "      <td>Excellent</td>\n",
              "      <td>25</td>\n",
              "    </tr>\n",
              "    <tr>\n",
              "      <th>32</th>\n",
              "      <td>4.9</td>\n",
              "      <td>Dark Green</td>\n",
              "      <td>Excellent</td>\n",
              "      <td>61</td>\n",
              "    </tr>\n",
              "  </tbody>\n",
              "</table>\n",
              "</div>\n",
              "      <button class=\"colab-df-convert\" onclick=\"convertToInteractive('df-d1148a9d-7a17-4482-bb9f-1e13bb68b3d3')\"\n",
              "              title=\"Convert this dataframe to an interactive table.\"\n",
              "              style=\"display:none;\">\n",
              "        \n",
              "  <svg xmlns=\"http://www.w3.org/2000/svg\" height=\"24px\"viewBox=\"0 0 24 24\"\n",
              "       width=\"24px\">\n",
              "    <path d=\"M0 0h24v24H0V0z\" fill=\"none\"/>\n",
              "    <path d=\"M18.56 5.44l.94 2.06.94-2.06 2.06-.94-2.06-.94-.94-2.06-.94 2.06-2.06.94zm-11 1L8.5 8.5l.94-2.06 2.06-.94-2.06-.94L8.5 2.5l-.94 2.06-2.06.94zm10 10l.94 2.06.94-2.06 2.06-.94-2.06-.94-.94-2.06-.94 2.06-2.06.94z\"/><path d=\"M17.41 7.96l-1.37-1.37c-.4-.4-.92-.59-1.43-.59-.52 0-1.04.2-1.43.59L10.3 9.45l-7.72 7.72c-.78.78-.78 2.05 0 2.83L4 21.41c.39.39.9.59 1.41.59.51 0 1.02-.2 1.41-.59l7.78-7.78 2.81-2.81c.8-.78.8-2.07 0-2.86zM5.41 20L4 18.59l7.72-7.72 1.47 1.35L5.41 20z\"/>\n",
              "  </svg>\n",
              "      </button>\n",
              "      \n",
              "  <style>\n",
              "    .colab-df-container {\n",
              "      display:flex;\n",
              "      flex-wrap:wrap;\n",
              "      gap: 12px;\n",
              "    }\n",
              "\n",
              "    .colab-df-convert {\n",
              "      background-color: #E8F0FE;\n",
              "      border: none;\n",
              "      border-radius: 50%;\n",
              "      cursor: pointer;\n",
              "      display: none;\n",
              "      fill: #1967D2;\n",
              "      height: 32px;\n",
              "      padding: 0 0 0 0;\n",
              "      width: 32px;\n",
              "    }\n",
              "\n",
              "    .colab-df-convert:hover {\n",
              "      background-color: #E2EBFA;\n",
              "      box-shadow: 0px 1px 2px rgba(60, 64, 67, 0.3), 0px 1px 3px 1px rgba(60, 64, 67, 0.15);\n",
              "      fill: #174EA6;\n",
              "    }\n",
              "\n",
              "    [theme=dark] .colab-df-convert {\n",
              "      background-color: #3B4455;\n",
              "      fill: #D2E3FC;\n",
              "    }\n",
              "\n",
              "    [theme=dark] .colab-df-convert:hover {\n",
              "      background-color: #434B5C;\n",
              "      box-shadow: 0px 1px 3px 1px rgba(0, 0, 0, 0.15);\n",
              "      filter: drop-shadow(0px 1px 2px rgba(0, 0, 0, 0.3));\n",
              "      fill: #FFFFFF;\n",
              "    }\n",
              "  </style>\n",
              "\n",
              "      <script>\n",
              "        const buttonEl =\n",
              "          document.querySelector('#df-d1148a9d-7a17-4482-bb9f-1e13bb68b3d3 button.colab-df-convert');\n",
              "        buttonEl.style.display =\n",
              "          google.colab.kernel.accessAllowed ? 'block' : 'none';\n",
              "\n",
              "        async function convertToInteractive(key) {\n",
              "          const element = document.querySelector('#df-d1148a9d-7a17-4482-bb9f-1e13bb68b3d3');\n",
              "          const dataTable =\n",
              "            await google.colab.kernel.invokeFunction('convertToInteractive',\n",
              "                                                     [key], {});\n",
              "          if (!dataTable) return;\n",
              "\n",
              "          const docLinkHtml = 'Like what you see? Visit the ' +\n",
              "            '<a target=\"_blank\" href=https://colab.research.google.com/notebooks/data_table.ipynb>data table notebook</a>'\n",
              "            + ' to learn more about interactive tables.';\n",
              "          element.innerHTML = '';\n",
              "          dataTable['output_type'] = 'display_data';\n",
              "          await google.colab.output.renderOutput(dataTable, element);\n",
              "          const docLink = document.createElement('div');\n",
              "          docLink.innerHTML = docLinkHtml;\n",
              "          element.appendChild(docLink);\n",
              "        }\n",
              "      </script>\n",
              "    </div>\n",
              "  </div>\n",
              "  "
            ]
          },
          "metadata": {},
          "execution_count": 27
        }
      ]
    },
    {
      "cell_type": "code",
      "source": [
        "plt.rcParams['figure.figsize']=(20,6)\n",
        "sns.barplot(x='Aggregate rating',y='rating ct',data=z,palette=[\"white\",\"red\",\"orange\",\"yellow\",\"green\",\"green\"],hue='Rating color')"
      ],
      "metadata": {
        "colab": {
          "base_uri": "https://localhost:8080/",
          "height": 406
        },
        "id": "T6ZLCMp1gHqn",
        "outputId": "e190af72-b153-41bc-f5b1-55e4e8284933"
      },
      "execution_count": 28,
      "outputs": [
        {
          "output_type": "execute_result",
          "data": {
            "text/plain": [
              "<matplotlib.axes._subplots.AxesSubplot at 0x7f1880675a90>"
            ]
          },
          "metadata": {},
          "execution_count": 28
        },
        {
          "output_type": "display_data",
          "data": {
            "text/plain": [
              "<Figure size 1440x432 with 1 Axes>"
            ],
            "image/png": "[encoded data removed]"
          },
          "metadata": {
            "needs_background": "light"
          }
        }
      ]
    },
    {
      "cell_type": "markdown",
      "source": [
        "![image.png](data:image/png;base64,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)"
      ],
      "metadata": {
        "id": "6BZ7rFXaiFCA"
      }
    },
    {
      "cell_type": "code",
      "source": [
        "a=df.groupby([\"Country\",\"Restaurant Name\"]).agg({ \"Restaurant ID\" : \"count\"}).reset_index().rename({\"Restaurant ID\" :\"No. of Restaurant\"},axis='columns').sort_values(by='No. of Restaurant',ascending=False) \n",
        "a"
      ],
      "metadata": {
        "colab": {
          "base_uri": "https://localhost:8080/",
          "height": 425
        },
        "id": "hkeLDZ8zjLyd",
        "outputId": "27782648-8425-4efc-9c84-26dc737a827c"
      },
      "execution_count": 29,
      "outputs": [
        {
          "output_type": "execute_result",
          "data": {
            "text/plain": [
              "            Country   Restaurant Name  No. of Restaurant\n",
              "1061          India   Cafe Coffee Day                 84\n",
              "1975          India    Domino's Pizza                 79\n",
              "5522          India            Subway                 63\n",
              "2486          India  Green Chick Chop                 51\n",
              "3689          India        McDonald's                 48\n",
              "...             ...               ...                ...\n",
              "2639          India        Hawai Adda                  1\n",
              "2637          India          Havemore                  1\n",
              "2636          India         Haveliram                  1\n",
              "2635          India  Hauz Khas Social                  1\n",
              "7471  United States           Zunzi's                  1\n",
              "\n",
              "[7472 rows x 3 columns]"
            ],
            "text/html": [
              "\n",
              "  <div id=\"df-acf6a7b5-2b32-4d45-abe4-4dc82211f51d\">\n",
              "    <div class=\"colab-df-container\">\n",
              "      <div>\n",
              "<style scoped>\n",
              "    .dataframe tbody tr th:only-of-type {\n",
              "        vertical-align: middle;\n",
              "    }\n",
              "\n",
              "    .dataframe tbody tr th {\n",
              "        vertical-align: top;\n",
              "    }\n",
              "\n",
              "    .dataframe thead th {\n",
              "        text-align: right;\n",
              "    }\n",
              "</style>\n",
              "<table border=\"1\" class=\"dataframe\">\n",
              "  <thead>\n",
              "    <tr style=\"text-align: right;\">\n",
              "      <th></th>\n",
              "      <th>Country</th>\n",
              "      <th>Restaurant Name</th>\n",
              "      <th>No. of Restaurant</th>\n",
              "    </tr>\n",
              "  </thead>\n",
              "  <tbody>\n",
              "    <tr>\n",
              "      <th>1061</th>\n",
              "      <td>India</td>\n",
              "      <td>Cafe Coffee Day</td>\n",
              "      <td>84</td>\n",
              "    </tr>\n",
              "    <tr>\n",
              "      <th>1975</th>\n",
              "      <td>India</td>\n",
              "      <td>Domino's Pizza</td>\n",
              "      <td>79</td>\n",
              "    </tr>\n",
              "    <tr>\n",
              "      <th>5522</th>\n",
              "      <td>India</td>\n",
              "      <td>Subway</td>\n",
              "      <td>63</td>\n",
              "    </tr>\n",
              "    <tr>\n",
              "      <th>2486</th>\n",
              "      <td>India</td>\n",
              "      <td>Green Chick Chop</td>\n",
              "      <td>51</td>\n",
              "    </tr>\n",
              "    <tr>\n",
              "      <th>3689</th>\n",
              "      <td>India</td>\n",
              "      <td>McDonald's</td>\n",
              "      <td>48</td>\n",
              "    </tr>\n",
              "    <tr>\n",
              "      <th>...</th>\n",
              "      <td>...</td>\n",
              "      <td>...</td>\n",
              "      <td>...</td>\n",
              "    </tr>\n",
              "    <tr>\n",
              "      <th>2639</th>\n",
              "      <td>India</td>\n",
              "      <td>Hawai Adda</td>\n",
              "      <td>1</td>\n",
              "    </tr>\n",
              "    <tr>\n",
              "      <th>2637</th>\n",
              "      <td>India</td>\n",
              "      <td>Havemore</td>\n",
              "      <td>1</td>\n",
              "    </tr>\n",
              "    <tr>\n",
              "      <th>2636</th>\n",
              "      <td>India</td>\n",
              "      <td>Haveliram</td>\n",
              "      <td>1</td>\n",
              "    </tr>\n",
              "    <tr>\n",
              "      <th>2635</th>\n",
              "      <td>India</td>\n",
              "      <td>Hauz Khas Social</td>\n",
              "      <td>1</td>\n",
              "    </tr>\n",
              "    <tr>\n",
              "      <th>7471</th>\n",
              "      <td>United States</td>\n",
              "      <td>Zunzi's</td>\n",
              "      <td>1</td>\n",
              "    </tr>\n",
              "  </tbody>\n",
              "</table>\n",
              "<p>7472 rows × 3 columns</p>\n",
              "</div>\n",
              "      <button class=\"colab-df-convert\" onclick=\"convertToInteractive('df-acf6a7b5-2b32-4d45-abe4-4dc82211f51d')\"\n",
              "              title=\"Convert this dataframe to an interactive table.\"\n",
              "              style=\"display:none;\">\n",
              "        \n",
              "  <svg xmlns=\"http://www.w3.org/2000/svg\" height=\"24px\"viewBox=\"0 0 24 24\"\n",
              "       width=\"24px\">\n",
              "    <path d=\"M0 0h24v24H0V0z\" fill=\"none\"/>\n",
              "    <path d=\"M18.56 5.44l.94 2.06.94-2.06 2.06-.94-2.06-.94-.94-2.06-.94 2.06-2.06.94zm-11 1L8.5 8.5l.94-2.06 2.06-.94-2.06-.94L8.5 2.5l-.94 2.06-2.06.94zm10 10l.94 2.06.94-2.06 2.06-.94-2.06-.94-.94-2.06-.94 2.06-2.06.94z\"/><path d=\"M17.41 7.96l-1.37-1.37c-.4-.4-.92-.59-1.43-.59-.52 0-1.04.2-1.43.59L10.3 9.45l-7.72 7.72c-.78.78-.78 2.05 0 2.83L4 21.41c.39.39.9.59 1.41.59.51 0 1.02-.2 1.41-.59l7.78-7.78 2.81-2.81c.8-.78.8-2.07 0-2.86zM5.41 20L4 18.59l7.72-7.72 1.47 1.35L5.41 20z\"/>\n",
              "  </svg>\n",
              "      </button>\n",
              "      \n",
              "  <style>\n",
              "    .colab-df-container {\n",
              "      display:flex;\n",
              "      flex-wrap:wrap;\n",
              "      gap: 12px;\n",
              "    }\n",
              "\n",
              "    .colab-df-convert {\n",
              "      background-color: #E8F0FE;\n",
              "      border: none;\n",
              "      border-radius: 50%;\n",
              "      cursor: pointer;\n",
              "      display: none;\n",
              "      fill: #1967D2;\n",
              "      height: 32px;\n",
              "      padding: 0 0 0 0;\n",
              "      width: 32px;\n",
              "    }\n",
              "\n",
              "    .colab-df-convert:hover {\n",
              "      background-color: #E2EBFA;\n",
              "      box-shadow: 0px 1px 2px rgba(60, 64, 67, 0.3), 0px 1px 3px 1px rgba(60, 64, 67, 0.15);\n",
              "      fill: #174EA6;\n",
              "    }\n",
              "\n",
              "    [theme=dark] .colab-df-convert {\n",
              "      background-color: #3B4455;\n",
              "      fill: #D2E3FC;\n",
              "    }\n",
              "\n",
              "    [theme=dark] .colab-df-convert:hover {\n",
              "      background-color: #434B5C;\n",
              "      box-shadow: 0px 1px 3px 1px rgba(0, 0, 0, 0.15);\n",
              "      filter: drop-shadow(0px 1px 2px rgba(0, 0, 0, 0.3));\n",
              "      fill: #FFFFFF;\n",
              "    }\n",
              "  </style>\n",
              "\n",
              "      <script>\n",
              "        const buttonEl =\n",
              "          document.querySelector('#df-acf6a7b5-2b32-4d45-abe4-4dc82211f51d button.colab-df-convert');\n",
              "        buttonEl.style.display =\n",
              "          google.colab.kernel.accessAllowed ? 'block' : 'none';\n",
              "\n",
              "        async function convertToInteractive(key) {\n",
              "          const element = document.querySelector('#df-acf6a7b5-2b32-4d45-abe4-4dc82211f51d');\n",
              "          const dataTable =\n",
              "            await google.colab.kernel.invokeFunction('convertToInteractive',\n",
              "                                                     [key], {});\n",
              "          if (!dataTable) return;\n",
              "\n",
              "          const docLinkHtml = 'Like what you see? Visit the ' +\n",
              "            '<a target=\"_blank\" href=https://colab.research.google.com/notebooks/data_table.ipynb>data table notebook</a>'\n",
              "            + ' to learn more about interactive tables.';\n",
              "          element.innerHTML = '';\n",
              "          dataTable['output_type'] = 'display_data';\n",
              "          await google.colab.output.renderOutput(dataTable, element);\n",
              "          const docLink = document.createElement('div');\n",
              "          docLink.innerHTML = docLinkHtml;\n",
              "          element.appendChild(docLink);\n",
              "        }\n",
              "      </script>\n",
              "    </div>\n",
              "  </div>\n",
              "  "
            ]
          },
          "metadata": {},
          "execution_count": 29
        }
      ]
    },
    {
      "cell_type": "code",
      "source": [
        "a[\"Country\"].unique()"
      ],
      "metadata": {
        "colab": {
          "base_uri": "https://localhost:8080/",
          "height": 0
        },
        "id": "nR4CUO5NkSxx",
        "outputId": "554477f4-0481-49d7-8e69-fd1bc328876d"
      },
      "execution_count": 30,
      "outputs": [
        {
          "output_type": "execute_result",
          "data": {
            "text/plain": [
              "array(['India', 'United States', 'UAE', 'United Kingdom', 'Indonesia',\n",
              "       'Turkey', 'Phillipines', 'Brazil', 'Australia', 'South Africa',\n",
              "       'Sri Lanka', 'Singapore', 'Qatar', 'New Zealand', 'Canada'],\n",
              "      dtype=object)"
            ]
          },
          "metadata": {},
          "execution_count": 30
        }
      ]
    },
    {
      "cell_type": "code",
      "source": [
        "a[\"rank\"]=a.groupby(['Country'])['No. of Restaurant'].rank(method='first',ascending=False)\n"
      ],
      "metadata": {
        "id": "WNvLvdoGpSiP"
      },
      "execution_count": 33,
      "outputs": []
    },
    {
      "cell_type": "code",
      "source": [
        "a=a[a[\"rank\"]==1]"
      ],
      "metadata": {
        "id": "XggWL0WGqKdu"
      },
      "execution_count": 34,
      "outputs": []
    },
    {
      "cell_type": "code",
      "source": [
        "a[\"Country-Restaurant\"]=a[\"Country\"]+\"-\"+a[\"Restaurant Name\"]"
      ],
      "metadata": {
        "colab": {
          "base_uri": "https://localhost:8080/",
          "height": 0
        },
        "id": "FLzAZJHsqdoh",
        "outputId": "ac8e2d9d-7294-4e78-aeb7-d354793dea02"
      },
      "execution_count": 35,
      "outputs": [
        {
          "output_type": "stream",
          "name": "stderr",
          "text": [
            "/usr/local/lib/python3.7/dist-packages/ipykernel_launcher.py:1: SettingWithCopyWarning: \n",
            "A value is trying to be set on a copy of a slice from a DataFrame.\n",
            "Try using .loc[row_indexer,col_indexer] = value instead\n",
            "\n",
            "See the caveats in the documentation: https://pandas.pydata.org/pandas-docs/stable/user_guide/indexing.html#returning-a-view-versus-a-copy\n",
            "  \"\"\"Entry point for launching an IPython kernel.\n"
          ]
        }
      ]
    },
    {
      "cell_type": "code",
      "source": [
        "plt.rcParams['figure.figsize']=(30,6)\n",
        "sns.barplot(x='No. of Restaurant',y='Country-Restaurant',data=a,palette='magma')\n",
        "plt.title(\"Country and Franchise with the most national presence\")"
      ],
      "metadata": {
        "id": "boEjY4wE-CYz",
        "colab": {
          "base_uri": "https://localhost:8080/",
          "height": 374
        },
        "outputId": "29fcdf8c-8070-473b-c725-5e9971dfbdfc"
      },
      "execution_count": 37,
      "outputs": [
        {
          "output_type": "execute_result",
          "data": {
            "text/plain": [
              "Text(0.5, 1.0, 'Country and Franchise with the most national presence')"
            ]
          },
          "metadata": {},
          "execution_count": 37
        },
        {
          "output_type": "display_data",
          "data": {
            "text/plain": [
              "<Figure size 2160x432 with 1 Axes>"
            ],
            "image/png": "[encoded data removed]"
          },
          "metadata": {
            "needs_background": "light"
          }
        }
      ]
    },
    {
      "cell_type": "code",
      "source": [
        ""
      ],
      "metadata": {
        "id": "hxAtGYXX-CgV"
      },
      "execution_count": null,
      "outputs": []
    },
    {
      "cell_type": "markdown",
      "source": [
        "\n",
        "![image.png](data:image/png;base64,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)"
      ],
      "metadata": {
        "id": "Gur_8L6TsigP"
      }
    },
    {
      "cell_type": "code",
      "source": [
        "ratio=df.groupby(\"Has Table booking\").agg({\"Restaurant ID\": \"count\"}).reset_index().rename({\"Restaurant ID\":\"No. of Restaurant\"},axis=1)\n",
        "ratio"
      ],
      "metadata": {
        "colab": {
          "base_uri": "https://localhost:8080/",
          "height": 112
        },
        "id": "c2x1Cj0jFg0F",
        "outputId": "c0bbf4f8-0804-489f-93b7-29e2766dcf43"
      },
      "execution_count": 38,
      "outputs": [
        {
          "output_type": "execute_result",
          "data": {
            "text/plain": [
              "  Has Table booking  No. of Restaurant\n",
              "0                No               8393\n",
              "1               Yes               1158"
            ],
            "text/html": [
              "\n",
              "  <div id=\"df-a55b3ff9-4724-4e09-b024-c603a6f2c030\">\n",
              "    <div class=\"colab-df-container\">\n",
              "      <div>\n",
              "<style scoped>\n",
              "    .dataframe tbody tr th:only-of-type {\n",
              "        vertical-align: middle;\n",
              "    }\n",
              "\n",
              "    .dataframe tbody tr th {\n",
              "        vertical-align: top;\n",
              "    }\n",
              "\n",
              "    .dataframe thead th {\n",
              "        text-align: right;\n",
              "    }\n",
              "</style>\n",
              "<table border=\"1\" class=\"dataframe\">\n",
              "  <thead>\n",
              "    <tr style=\"text-align: right;\">\n",
              "      <th></th>\n",
              "      <th>Has Table booking</th>\n",
              "      <th>No. of Restaurant</th>\n",
              "    </tr>\n",
              "  </thead>\n",
              "  <tbody>\n",
              "    <tr>\n",
              "      <th>0</th>\n",
              "      <td>No</td>\n",
              "      <td>8393</td>\n",
              "    </tr>\n",
              "    <tr>\n",
              "      <th>1</th>\n",
              "      <td>Yes</td>\n",
              "      <td>1158</td>\n",
              "    </tr>\n",
              "  </tbody>\n",
              "</table>\n",
              "</div>\n",
              "      <button class=\"colab-df-convert\" onclick=\"convertToInteractive('df-a55b3ff9-4724-4e09-b024-c603a6f2c030')\"\n",
              "              title=\"Convert this dataframe to an interactive table.\"\n",
              "              style=\"display:none;\">\n",
              "        \n",
              "  <svg xmlns=\"http://www.w3.org/2000/svg\" height=\"24px\"viewBox=\"0 0 24 24\"\n",
              "       width=\"24px\">\n",
              "    <path d=\"M0 0h24v24H0V0z\" fill=\"none\"/>\n",
              "    <path d=\"M18.56 5.44l.94 2.06.94-2.06 2.06-.94-2.06-.94-.94-2.06-.94 2.06-2.06.94zm-11 1L8.5 8.5l.94-2.06 2.06-.94-2.06-.94L8.5 2.5l-.94 2.06-2.06.94zm10 10l.94 2.06.94-2.06 2.06-.94-2.06-.94-.94-2.06-.94 2.06-2.06.94z\"/><path d=\"M17.41 7.96l-1.37-1.37c-.4-.4-.92-.59-1.43-.59-.52 0-1.04.2-1.43.59L10.3 9.45l-7.72 7.72c-.78.78-.78 2.05 0 2.83L4 21.41c.39.39.9.59 1.41.59.51 0 1.02-.2 1.41-.59l7.78-7.78 2.81-2.81c.8-.78.8-2.07 0-2.86zM5.41 20L4 18.59l7.72-7.72 1.47 1.35L5.41 20z\"/>\n",
              "  </svg>\n",
              "      </button>\n",
              "      \n",
              "  <style>\n",
              "    .colab-df-container {\n",
              "      display:flex;\n",
              "      flex-wrap:wrap;\n",
              "      gap: 12px;\n",
              "    }\n",
              "\n",
              "    .colab-df-convert {\n",
              "      background-color: #E8F0FE;\n",
              "      border: none;\n",
              "      border-radius: 50%;\n",
              "      cursor: pointer;\n",
              "      display: none;\n",
              "      fill: #1967D2;\n",
              "      height: 32px;\n",
              "      padding: 0 0 0 0;\n",
              "      width: 32px;\n",
              "    }\n",
              "\n",
              "    .colab-df-convert:hover {\n",
              "      background-color: #E2EBFA;\n",
              "      box-shadow: 0px 1px 2px rgba(60, 64, 67, 0.3), 0px 1px 3px 1px rgba(60, 64, 67, 0.15);\n",
              "      fill: #174EA6;\n",
              "    }\n",
              "\n",
              "    [theme=dark] .colab-df-convert {\n",
              "      background-color: #3B4455;\n",
              "      fill: #D2E3FC;\n",
              "    }\n",
              "\n",
              "    [theme=dark] .colab-df-convert:hover {\n",
              "      background-color: #434B5C;\n",
              "      box-shadow: 0px 1px 3px 1px rgba(0, 0, 0, 0.15);\n",
              "      filter: drop-shadow(0px 1px 2px rgba(0, 0, 0, 0.3));\n",
              "      fill: #FFFFFF;\n",
              "    }\n",
              "  </style>\n",
              "\n",
              "      <script>\n",
              "        const buttonEl =\n",
              "          document.querySelector('#df-a55b3ff9-4724-4e09-b024-c603a6f2c030 button.colab-df-convert');\n",
              "        buttonEl.style.display =\n",
              "          google.colab.kernel.accessAllowed ? 'block' : 'none';\n",
              "\n",
              "        async function convertToInteractive(key) {\n",
              "          const element = document.querySelector('#df-a55b3ff9-4724-4e09-b024-c603a6f2c030');\n",
              "          const dataTable =\n",
              "            await google.colab.kernel.invokeFunction('convertToInteractive',\n",
              "                                                     [key], {});\n",
              "          if (!dataTable) return;\n",
              "\n",
              "          const docLinkHtml = 'Like what you see? Visit the ' +\n",
              "            '<a target=\"_blank\" href=https://colab.research.google.com/notebooks/data_table.ipynb>data table notebook</a>'\n",
              "            + ' to learn more about interactive tables.';\n",
              "          element.innerHTML = '';\n",
              "          dataTable['output_type'] = 'display_data';\n",
              "          await google.colab.output.renderOutput(dataTable, element);\n",
              "          const docLink = document.createElement('div');\n",
              "          docLink.innerHTML = docLinkHtml;\n",
              "          element.appendChild(docLink);\n",
              "        }\n",
              "      </script>\n",
              "    </div>\n",
              "  </div>\n",
              "  "
            ]
          },
          "metadata": {},
          "execution_count": 38
        }
      ]
    },
    {
      "cell_type": "code",
      "source": [
        "sns.barplot(x='Has Table booking',y='No. of Restaurant',data=ratio,palette='flare')"
      ],
      "metadata": {
        "colab": {
          "base_uri": "https://localhost:8080/",
          "height": 392
        },
        "id": "bMrEGfduEL-O",
        "outputId": "81864cdc-c66f-46a4-9345-119139f3b7a2"
      },
      "execution_count": 39,
      "outputs": [
        {
          "output_type": "execute_result",
          "data": {
            "text/plain": [
              "<matplotlib.axes._subplots.AxesSubplot at 0x7f187fed91d0>"
            ]
          },
          "metadata": {},
          "execution_count": 39
        },
        {
          "output_type": "display_data",
          "data": {
            "text/plain": [
              "<Figure size 2160x432 with 1 Axes>"
            ],
            "image/png": "[encoded data removed]"
          },
          "metadata": {
            "needs_background": "light"
          }
        }
      ]
    },
    {
      "cell_type": "code",
      "source": [
        "#Conclusion:  No of restaurants which provides only table booking very less as compared to the one which does not\n",
        "#Ratio:0.13"
      ],
      "metadata": {
        "id": "jV-BAYkYEMBC"
      },
      "execution_count": 40,
      "outputs": []
    },
    {
      "cell_type": "code",
      "source": [
        "int(ratio[ratio[\"Has Table booking\"]=='Yes'][\"No. of Restaurant\"])/int(ratio[ratio[\"Has Table booking\"]=='No'][\"No. of Restaurant\"])"
      ],
      "metadata": {
        "colab": {
          "base_uri": "https://localhost:8080/",
          "height": 0
        },
        "id": "YWnDToXmEMDo",
        "outputId": "305af8be-8587-43e5-8bd1-c9f1bf6a6a6c"
      },
      "execution_count": 41,
      "outputs": [
        {
          "output_type": "execute_result",
          "data": {
            "text/plain": [
              "0.13797211962349576"
            ]
          },
          "metadata": {},
          "execution_count": 41
        }
      ]
    },
    {
      "cell_type": "code",
      "source": [
        "x=pd.DataFrame()"
      ],
      "metadata": {
        "id": "3r3pBk-wtkxp"
      },
      "execution_count": 42,
      "outputs": []
    },
    {
      "cell_type": "markdown",
      "source": [
        "![image.png](data:image/png;base64,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)"
      ],
      "metadata": {
        "id": "USONLQmPt-zJ"
      }
    },
    {
      "cell_type": "code",
      "source": [
        "online=df.groupby(\"Has Online delivery\").agg({\"Restaurant ID\": \"count\"}).reset_index().rename({\"Restaurant ID\":\"No. of Restaurant\"},axis=1)\n",
        "online"
      ],
      "metadata": {
        "colab": {
          "base_uri": "https://localhost:8080/",
          "height": 112
        },
        "id": "Ixmmb6XXt_Re",
        "outputId": "1438661c-e37a-483a-e589-e31c9740be6b"
      },
      "execution_count": 43,
      "outputs": [
        {
          "output_type": "execute_result",
          "data": {
            "text/plain": [
              "  Has Online delivery  No. of Restaurant\n",
              "0                  No               7100\n",
              "1                 Yes               2451"
            ],
            "text/html": [
              "\n",
              "  <div id=\"df-a0f1ea7f-8530-4f54-97e9-d3d647af9d68\">\n",
              "    <div class=\"colab-df-container\">\n",
              "      <div>\n",
              "<style scoped>\n",
              "    .dataframe tbody tr th:only-of-type {\n",
              "        vertical-align: middle;\n",
              "    }\n",
              "\n",
              "    .dataframe tbody tr th {\n",
              "        vertical-align: top;\n",
              "    }\n",
              "\n",
              "    .dataframe thead th {\n",
              "        text-align: right;\n",
              "    }\n",
              "</style>\n",
              "<table border=\"1\" class=\"dataframe\">\n",
              "  <thead>\n",
              "    <tr style=\"text-align: right;\">\n",
              "      <th></th>\n",
              "      <th>Has Online delivery</th>\n",
              "      <th>No. of Restaurant</th>\n",
              "    </tr>\n",
              "  </thead>\n",
              "  <tbody>\n",
              "    <tr>\n",
              "      <th>0</th>\n",
              "      <td>No</td>\n",
              "      <td>7100</td>\n",
              "    </tr>\n",
              "    <tr>\n",
              "      <th>1</th>\n",
              "      <td>Yes</td>\n",
              "      <td>2451</td>\n",
              "    </tr>\n",
              "  </tbody>\n",
              "</table>\n",
              "</div>\n",
              "      <button class=\"colab-df-convert\" onclick=\"convertToInteractive('df-a0f1ea7f-8530-4f54-97e9-d3d647af9d68')\"\n",
              "              title=\"Convert this dataframe to an interactive table.\"\n",
              "              style=\"display:none;\">\n",
              "        \n",
              "  <svg xmlns=\"http://www.w3.org/2000/svg\" height=\"24px\"viewBox=\"0 0 24 24\"\n",
              "       width=\"24px\">\n",
              "    <path d=\"M0 0h24v24H0V0z\" fill=\"none\"/>\n",
              "    <path d=\"M18.56 5.44l.94 2.06.94-2.06 2.06-.94-2.06-.94-.94-2.06-.94 2.06-2.06.94zm-11 1L8.5 8.5l.94-2.06 2.06-.94-2.06-.94L8.5 2.5l-.94 2.06-2.06.94zm10 10l.94 2.06.94-2.06 2.06-.94-2.06-.94-.94-2.06-.94 2.06-2.06.94z\"/><path d=\"M17.41 7.96l-1.37-1.37c-.4-.4-.92-.59-1.43-.59-.52 0-1.04.2-1.43.59L10.3 9.45l-7.72 7.72c-.78.78-.78 2.05 0 2.83L4 21.41c.39.39.9.59 1.41.59.51 0 1.02-.2 1.41-.59l7.78-7.78 2.81-2.81c.8-.78.8-2.07 0-2.86zM5.41 20L4 18.59l7.72-7.72 1.47 1.35L5.41 20z\"/>\n",
              "  </svg>\n",
              "      </button>\n",
              "      \n",
              "  <style>\n",
              "    .colab-df-container {\n",
              "      display:flex;\n",
              "      flex-wrap:wrap;\n",
              "      gap: 12px;\n",
              "    }\n",
              "\n",
              "    .colab-df-convert {\n",
              "      background-color: #E8F0FE;\n",
              "      border: none;\n",
              "      border-radius: 50%;\n",
              "      cursor: pointer;\n",
              "      display: none;\n",
              "      fill: #1967D2;\n",
              "      height: 32px;\n",
              "      padding: 0 0 0 0;\n",
              "      width: 32px;\n",
              "    }\n",
              "\n",
              "    .colab-df-convert:hover {\n",
              "      background-color: #E2EBFA;\n",
              "      box-shadow: 0px 1px 2px rgba(60, 64, 67, 0.3), 0px 1px 3px 1px rgba(60, 64, 67, 0.15);\n",
              "      fill: #174EA6;\n",
              "    }\n",
              "\n",
              "    [theme=dark] .colab-df-convert {\n",
              "      background-color: #3B4455;\n",
              "      fill: #D2E3FC;\n",
              "    }\n",
              "\n",
              "    [theme=dark] .colab-df-convert:hover {\n",
              "      background-color: #434B5C;\n",
              "      box-shadow: 0px 1px 3px 1px rgba(0, 0, 0, 0.15);\n",
              "      filter: drop-shadow(0px 1px 2px rgba(0, 0, 0, 0.3));\n",
              "      fill: #FFFFFF;\n",
              "    }\n",
              "  </style>\n",
              "\n",
              "      <script>\n",
              "        const buttonEl =\n",
              "          document.querySelector('#df-a0f1ea7f-8530-4f54-97e9-d3d647af9d68 button.colab-df-convert');\n",
              "        buttonEl.style.display =\n",
              "          google.colab.kernel.accessAllowed ? 'block' : 'none';\n",
              "\n",
              "        async function convertToInteractive(key) {\n",
              "          const element = document.querySelector('#df-a0f1ea7f-8530-4f54-97e9-d3d647af9d68');\n",
              "          const dataTable =\n",
              "            await google.colab.kernel.invokeFunction('convertToInteractive',\n",
              "                                                     [key], {});\n",
              "          if (!dataTable) return;\n",
              "\n",
              "          const docLinkHtml = 'Like what you see? Visit the ' +\n",
              "            '<a target=\"_blank\" href=https://colab.research.google.com/notebooks/data_table.ipynb>data table notebook</a>'\n",
              "            + ' to learn more about interactive tables.';\n",
              "          element.innerHTML = '';\n",
              "          dataTable['output_type'] = 'display_data';\n",
              "          await google.colab.output.renderOutput(dataTable, element);\n",
              "          const docLink = document.createElement('div');\n",
              "          docLink.innerHTML = docLinkHtml;\n",
              "          element.appendChild(docLink);\n",
              "        }\n",
              "      </script>\n",
              "    </div>\n",
              "  </div>\n",
              "  "
            ]
          },
          "metadata": {},
          "execution_count": 43
        }
      ]
    },
    {
      "cell_type": "code",
      "source": [
        "sns.barplot(x='Has Online delivery',y='No. of Restaurant',data=online,palette='magma')"
      ],
      "metadata": {
        "colab": {
          "base_uri": "https://localhost:8080/",
          "height": 392
        },
        "id": "pVcr8Cl_Jpv2",
        "outputId": "a4202bf3-4796-4b9a-e8cc-ce279af5a4d8"
      },
      "execution_count": 44,
      "outputs": [
        {
          "output_type": "execute_result",
          "data": {
            "text/plain": [
              "<matplotlib.axes._subplots.AxesSubplot at 0x7f187c83b2d0>"
            ]
          },
          "metadata": {},
          "execution_count": 44
        },
        {
          "output_type": "display_data",
          "data": {
            "text/plain": [
              "<Figure size 2160x432 with 1 Axes>"
            ],
            "image/png": "[encoded data removed]"
          },
          "metadata": {
            "needs_background": "light"
          }
        }
      ]
    },
    {
      "cell_type": "code",
      "source": [
        "int(online[online[\"Has Online delivery\"]=='Yes'][\"No. of Restaurant\"])/int(online[online[\"Has Online delivery\"]=='No'][\"No. of Restaurant\"])"
      ],
      "metadata": {
        "colab": {
          "base_uri": "https://localhost:8080/",
          "height": 0
        },
        "id": "QQkP0QyGJpyb",
        "outputId": "bfdd10c8-525a-4370-e183-2f14503a798f"
      },
      "execution_count": 45,
      "outputs": [
        {
          "output_type": "execute_result",
          "data": {
            "text/plain": [
              "0.3452112676056338"
            ]
          },
          "metadata": {},
          "execution_count": 45
        }
      ]
    },
    {
      "cell_type": "code",
      "source": [
        "plt.pie(online[\"No. of Restaurant\"],labels=online[\"Has Online delivery\"],autopct='%1.2f%%')"
      ],
      "metadata": {
        "colab": {
          "base_uri": "https://localhost:8080/",
          "height": 464
        },
        "id": "gwvQKTYsKMBK",
        "outputId": "06057897-0086-467f-d6f9-9133e4ddb4d0"
      },
      "execution_count": 46,
      "outputs": [
        {
          "output_type": "execute_result",
          "data": {
            "text/plain": [
              "([<matplotlib.patches.Wedge at 0x7f187c7c3bd0>,\n",
              "  <matplotlib.patches.Wedge at 0x7f187c7cf410>],\n",
              " [Text(-0.7614681082348079, 0.7938301582462732, 'No'),\n",
              "  Text(0.7614681825585476, -0.7938300869524803, 'Yes')],\n",
              " [Text(-0.4153462408553497, 0.4329982681343308, '74.34%'),\n",
              "  Text(0.41534628139557145, -0.43299822924680736, '25.66%')])"
            ]
          },
          "metadata": {},
          "execution_count": 46
        },
        {
          "output_type": "display_data",
          "data": {
            "text/plain": [
              "<Figure size 2160x432 with 1 Axes>"
            ],
            "image/png": "[encoded data removed]"
          },
          "metadata": {}
        }
      ]
    },
    {
      "cell_type": "code",
      "source": [
        "#Conclusion:  74.34% restaurants  doesnt have online delivery "
      ],
      "metadata": {
        "id": "TAq3-63RJp02"
      },
      "execution_count": 47,
      "outputs": []
    },
    {
      "cell_type": "markdown",
      "source": [
        "![image.png](data:image/png;base64,iVBORw0KGgoAAAANSUhEUgAAA6gAAAA6EAYAAADtl6i+AAAMbGlDQ1BJQ0MgUHJvZmlsZQAASImVVwdYU8kWnluSkJDQAqFICb0JIr1ICaFFEJAq2AhJIKHEmBBU7OiigmtBRBQruiqi6OoKyKIiYndR7H2xoKKsi7ooisqbkICu+8r3zvfNnT9nzvynZObeGQA0+7gSSQ6qBUCuOE8aFx7MnJCSyiQ9BQjQBlpAD/hweTIJKzY2CkAZ6v8u725AayhXnRRc/xz/r6LDF8h4ACCTIE7ny3i5EDcDgG/kSaR5ABAVessZeRIFXgCxrhQGCHGZAmcq8W4FTlfipkGbhDg2xJcBUKNyudJMADTuQT0zn5cJeTQ+Qewi5ovEAGiOhDiAJ+TyIVbEPjI3d5oCV0BsB+0lEMN4gHf6N5yZf+NPH+bncjOHsTKvQVELEckkOdxZ/2dp/rfk5siHfNjARhVKI+IU+cMa3sqeFqnAVIi7xenRMYpaQ9wn4ivrDgBKEcojEpX2qDFPxob1AwyIXfjckEiIjSEOE+dER6n06RmiMA7EcLWgM0V5nASIDSBeKpCFxqtstkqnxal8oXUZUjZLpT/LlQ76Vfh6IM9OZKn43wgFHBU/plEgTEiGmAKxVb4oKRpiDYidZdnxkSqbMQVCdvSQjVQep4jfCuI4gTg8WMmP5WdIw+JU9sW5sqF8sa1CESdahQ/mCRMilPXBWnncwfhhLthlgZiVOMQjkE2IGsqFLwgJVeaOPReIE+NVPH2SvOA45VycIsmJVdnjFoKccIXeAmJ3WX68ai6elAcXp5Ifz5DkxSYo48QLsrhjY5Xx4KtAFGCDEMAEctjSwTSQBURt3fXd8JdyJAxwgRRkAgFwUmmGZiQPjojhMx4UgD8gEgDZ8LzgwVEByIf6z8Na5dMJZAyO5g/OyAZPIc4FkSAH/pYPzhIPe0sCT6BG9A/vXNh4MN4c2BTj/14/pP2qYUFNlEojH/LI1ByyJIYSQ4gRxDCiPW6EB+B+eBR8BsHminvjPkN5fLUnPCW0Ex4RrhM6CLenigql30U5DnRA/jBVLdK/rQVuAzk98GDcH7JDZpyBGwEn3B36YeGB0LMH1LJVcSuqwvyO+28ZfPNvqOzILmSUrE8OItt9P1PDQcNjmEVR62/ro4w1fbje7OGR7/2zv6k+H/aR31tiS7FD2BnsBHYOa8LqARM7jjVgF7GjCjy8up4Mrq4hb3GD8WRDHtE//HFVPhWVlLnUuHS5fFKO5Qlm5ik2HnuaZJZUlCnMY7Lg10HA5Ih5ziOZri6urgAovjXK19dbxuA3BGGc/6pbZA6A/6yBgYGmr7pI+M49dBRu/ztfdbad8DVxHoCz63hyab5ShyseBPiW0IQ7zRCYAktgB/NxBZ7ADwSBUDAWxIAEkAKmwCoL4TqXghlgDlgIikAJWAXWgg1gC9gOdoN94CCoB03gBDgNLoDL4Dq4C1dPJ3gJesA70I8gCAmhIXTEEDFDrBFHxBXxRgKQUCQKiUNSkDQkExEjcmQOsggpQUqRDcg2pBr5GTmCnEDOIe3IbeQh0oW8QT6iGEpFdVET1AYdhXqjLDQSTUAno5nodLQAXYyuQCvQKnQvWoeeQC+g19EO9CXaiwFMHWNg5pgT5o2xsRgsFcvApNg8rBgrx6qwWqwR/s9XsQ6sG/uAE3E6zsSd4AqOwBNxHj4dn4cvxzfgu/E6vBW/ij/Ee/AvBBrBmOBI8CVwCBMImYQZhCJCOWEn4TDhFNxLnYR3RCKRQbQlesG9mELMIs4mLiduIu4nNhPbiY+JvSQSyZDkSPInxZC4pDxSEWk9aS/pOOkKqZPUp6auZqbmqhamlqomVitUK1fbo3ZM7YraM7V+shbZmuxLjiHzybPIK8k7yI3kS+ROcj9Fm2JL8ackULIoCykVlFrKKco9ylt1dXULdR/18eoi9QXqFeoH1M+qP1T/QNWhOlDZ1ElUOXUFdRe1mXqb+pZGo9nQgmiptDzaClo17STtAa1Pg67hrMHR4GvM16jUqNO4ovFKk6xprcnSnKJZoFmueUjzkma3FlnLRoutxdWap1WpdUTrplavNl17tHaMdq72cu092ue0n+uQdGx0QnX4Oot1tuuc1HlMx+iWdDadR19E30E/Re/UJera6nJ0s3RLdPfptun26Onouesl6c3Uq9Q7qtfBwBg2DA4jh7GScZBxg/FR30SfpS/QX6Zfq39F/73BCIMgA4FBscF+g+sGHw2ZhqGG2YarDesN7xvhRg5G441mGG02OmXUPUJ3hN8I3ojiEQdH3DFGjR2M44xnG283vmjca2JqEm4iMVlvctKk25RhGmSaZVpmesy0y4xuFmAmMiszO272gqnHZDFzmBXMVmaPubF5hLncfJt5m3m/ha1FokWhxX6L+5YUS2/LDMsyyxbLHiszq3FWc6xqrO5Yk629rYXW66zPWL+3sbVJtlliU2/z3NbAlmNbYFtje8+OZhdoN92uyu6aPdHe2z7bfpP9ZQfUwcNB6FDpcMkRdfR0FDlucmwfSRjpM1I8smrkTSeqE8sp36nG6aEzwznKudC53vnVKKtRqaNWjzoz6ouLh0uOyw6Xu6N1Ro8dXTi6cfQbVwdXnmul6zU3mluY23y3BrfX7o7uAvfN7rc86B7jPJZ4tHh89vTylHrWenZ5WXmleW30uumt6x3rvdz7rA/BJ9hnvk+TzwdfT98834O+f/o5+WX77fF7PsZ2jGDMjjGP/S38uf7b/DsCmAFpAVsDOgLNA7mBVYGPgiyD+EE7g56x7FlZrL2sV8EuwdLgw8Hv2b7suezmECwkPKQ4pC1UJzQxdEPogzCLsMywmrCecI/w2eHNEYSIyIjVETc5Jhwep5rTM9Zr7NyxrZHUyPjIDZGPohyipFGN49BxY8etGXcv2jpaHF0fA2I4MWti7sfaxk6P/XU8cXzs+MrxT+NGx82JOxNPj58avyf+XUJwwsqEu4l2ifLEliTNpElJ1Unvk0OSS5M7JoyaMHfChRSjFFFKQyopNSl1Z2rvxNCJayd2TvKYVDTpxmTbyTMnn5tiNCVnytGpmlO5Uw+lEdKS0/akfeLGcKu4vemc9I3pPTw2bx3vJT+IX8bvEvgLSgXPMvwzSjOeZ/pnrsnsEgYKy4XdIrZog+h1VkTWlqz32THZu7IHcpJz9ueq5ablHhHriLPFrdNMp82c1i5xlBRJOqb7Tl87vUcaKd0pQ2STZQ15uvBQf1FuJ/9B/jA/IL8yv29G0oxDM7VnimdenOUwa9msZwVhBT/NxmfzZrfMMZ+zcM7Duay52+Yh89Lntcy3nL94fueC8AW7F1IWZi/8rdClsLTwr0XJixoXmyxesPjxD+E/1BRpFEmLbi7xW7JlKb5UtLRtmduy9cu+FPOLz5e4lJSXfFrOW37+x9E/Vvw4sCJjRdtKz5WbVxFXiVfdWB24enepdmlB6eM149bUlTHLisv+Wjt17bly9/It6yjr5Os6KqIqGtZbrV+1/tMG4YbrlcGV+zcab1y28f0m/qYrm4M2124x2VKy5eNW0dZb28K31VXZVJVvJ27P3/50R9KOMz95/1S902hnyc7Pu8S7OnbH7W6t9qqu3mO8Z2UNWiOv6do7ae/lfSH7GmqdarftZ+wvOQAOyA+8+Dnt5xsHIw+2HPI+VPuL9S8bD9MPF9chdbPqeuqF9R0NKQ3tR8YeaWn0azz8q/Ovu5rMmyqP6h1deYxybPGxgeMFx3ubJc3dJzJPPG6Z2nL35IST11rHt7adijx19nTY6ZNnWGeOn/U/23TO99yR897n6y94Xqi76HHx8G8evx1u82yru+R1qeGyz+XG9jHtx64EXjlxNeTq6WucaxeuR19vv5F449bNSTc7bvFvPb+dc/v1nfw7/XcX3CPcK76vdb/8gfGDqt/tf9/f4dlx9GHIw4uP4h/dfcx7/PKJ7MmnzsVPaU/Ln5k9q37u+rypK6zr8ouJLzpfSl72dxf9of3Hxld2r375M+jPiz0TejpfS18PvFn+1vDtrr/c/2rpje198C73Xf/74j7Dvt0fvD+c+Zj88Vn/jE+kTxWf7T83fon8cm8gd2BAwpVyB48CGGxoRgYAb3YBQEsBgA7PEJSJyrvgoCDK++sgAv8JK++Lg+IJQC3sFMd4djMAB2CzWQC5Ya84wicEAdTNbbipRJbh5qrkosKbEKFvYOCtCQCkRgA+SwcG+jcNDHzeAYO9DUDzdOUdVCFEeGfYGqJAt9dMHPI/LMr76Tc5ft8DRQTu4Pv+XzpskV4qbbRbAAAAOGVYSWZNTQAqAAAACAABh2kABAAAAAEAAAAaAAAAAAACoAIABAAAAAEAAAOooAMABAAAAAEAAAA6AAAAABMElv4AADY+SURBVHgB7Z15gFxFve8bSMKeBAghLC/pCEoAISOKRBHTDPACl3AJyiOgCWmIggrvAsoFN+4McO9TRFmCgogwE19YZd8UBWaQR4xsSUAhXgnTWUggAlkQQjbmvft+vy9N/aZrztLnnO6e+c4f53eq6ldVv/rU2lXnnMnl+EcCJEACJEACJEACJEACJEACJEACJEACJEACJEACJEACJEACJEACJEACJEACJEACJEACJEACJEACJEACJEACJEACJEACJEACJEACJEACJEACJEACJEACJEACJEACJEACJEACJEACJEACJEACJEACJEACJEACJEACJEACJEACJEACJEACJEACJEACJEACJEACJEACJEACJEACJEACJEACJEACJEACJEACJEACJEACJEACJEACJEACJEACJEACJEACJEACJEACJEACJEACJEACJEACJEACJEACJEACJEACJEACJEACJEACJEACJEACJEACJEACJEACJEACJEACJEACJEACJEACJEACJEACJEACJEACJEACJEACJEACJEACJEACJEACJEACJEACJEACJEACJBCRwBYR9etcfZ8xYuAll4ncb7TIJ+fUueERzTvvHIlwyhkiS4tErngtYkJUT4RAf2l31cKaUpQUTjlO5FvrRC5bKjKp68i8pHTe2SLPKIqcMEnkytUiF5dE4ho3HuJTkgAJkEBSBDivJEUy3XQ4b6TLt6+mznZTXc3yd1B1/BibBEig/ghw3ZdNnUwpSj5p70cElYb1HUSI4WkQqJf2b8vG/mCJ0E0CJNCwBDbfXEz/ZJPIrxZF/qxN5NUq/6ce7I3Oi3/W15OKkmN3t8iFXVlbkE1+C7RcKOfUYjb5MpfKBPpLu6tc+vC+j3eILtrtBTpe+FK4sU1C5mq8Iws+TfHP50Wu6haJfKy8S9MVrVwubjzEpySBOATGFyTWbG3fM027jJMm4/QdApxX6rsuOW/Ud/3Uq3VsN8nUDH8HJcORqZAACdQPAa77sqmLqPsRaVkVtb6j7oukZTfTbWwC9dL+LcWo/cHGp5sESIAE0icwoPcsdh0h4TfdIvKwQu/6CL3yCrlraxf5ta+K3LhRJK99g8COw6Qcn/mcyGUlkXPniWyUa18pR6PwDrJzu+1E49Siq3lEp7h/r9INzeXOniY+QzRgeUluvn6uyC1F5DYfqjcq4sZzU6GLBKIRmDhe9D9TUKnRv3am3Kx9Vz0oSIAE6o4A543eq+TT4yR8mP6OeOIxcb+9pvd4fT2U7UZqmOvuvt7Sqysf20d1/PpK7EadRxrV7qTaTX8vf1IckU7cfRHEpySBLAhw3s6CcuPmwfbRuHWXpOV9dn2AV+hf7xJceIPr/W5xP9wh8uIWkT9Q+Qf1hz4k3lwV7fSu/eXJlXp58np6UeoS9fx8V3p1m2bK04uSetxy9Jd2V20dRH3i7fo2yfG3Oq58VjdkfXY8YsYfjE8+ffjHjYf4lCQQhwDaM9r3FS1xUmGcvkqA80p91yznjd7rZ0mXhGNd9YVJvev3l1C2G6np6UWRaB9Rfz/Uy+8gKQWvSROYXpQU47aPpO1herUh0KjzSFy7+8q6L275s2plUfcj0rIran1H3RdJy26m29gE0mr/04vCJe68HbU/NHYt9D/rpxelzHHbR/8j1jdLXO/rg2DqnjdQf3KtRB2eF4kXYaYeL+677hHZ43qR+Hy+IPJHuiG8clUPTXqQAAmQQK8Evnpqr8E9AkfkXa+li1y3zxU3ni89+pNAGAKz9X9zH3VYGG3qkAAJ1BMBzhv1VBuNYwvbTePUFS0lARIgARIggXohEHVfpF7sph0kQAIkQAIk0DcImANUfKL36IJbvAv1E5jeg1NXPfeHTvEYp9IEf+Ac2yS3R+uT6R8ZJW58arNLD0Du0QPbefM+iJrKzREFSXacytFqz99L4v/w4yI7OkXa62lF8cHB8//+pbhfXWo1XfckLf++TeJ/n5b3zwmVF5/+mHiCpH+QlmtYXtyvl0S+pLxv1k82r1sn/rgOHix3U08TeehYhIgcrs6zznH9V5TEfbuWyw0tu/BK96H6puG+mv4yjT93vuje/6DIDRvKcaPcpV0Oa0tzQXyOHC9ySF7kc9qebr9L3GsiftouK15iXc/rAB0/jp0oYQdrfQ3Oi3u2lu/O23vGDePzpaJojcqLvKVdZKkkslAQ+fEmkbuI+OB6mPIeNFS88AXx/1T3vquixbv+atHftOmDLJybpOtjSlGS313tvfZGcTcdKHLKNJG4tl0nd3/Ugzn4Qw7RdI6ZJD6fGCUS9fW89q9Hfyv+CxYgZmWZz4v/yUWRz3WKfFhlc0HcR4wXOTQvstp2X+04LVaUr0nXWznl3u9G5iUc7XxJSdw3tYu01ylF8bHtYZttxP/Yo0QerLwXLxL3I1qfOLAV3+qvadvz0TFi4wkniVw4T2TQPLKzflr+tCmiv1pE7udX6o0RvnJsr/PdJJ03P6nj2/KSJDDrNpEvmX6yn9o9bbKE75gXOV/71x23inv5ayLjXrFuOuY4SWGgJvQnHXcf0np/LWI+SfcHH9+441hYXtvqp+CPPEJiYL2ZHyXuhdo/XtB29cD94u8b3+PON0HzBsqDdjv9LPFZt0rkz64RuX49NCtLlPfrX5HwzVTt8oB5a/8mUTykIPIAbeeYL/+i7emxORL+N9PexTeXw7g8RtPDOgfhE7Wd7paHj8gH7hGJed0NzeWSnreQvl0H7qPl1uE0t0D76y13SIwlSxEzmky63aCek2rXKE0+L3d2Pn/yGfE/+zyRe2v/eVn7z39cIv6+fiOhuZzlnfTvB+QzfITcHX+UyIPGi0xqPkx6fITdQTLpcbTe+lVa7QPjPubLavcZar0uiTpvJvX737ZPX3usdj2a9Dxi21Va43zSdlvecDcX5C6p/YSk+kdW5QcHK9Pej0B+aY2bSD9I4veib1/E7id26u+AsL//mgtiAfZBg+InzSPtdYiPb1L9AOn7yvFwp2g0F0QmtT+SVfsXq8tXO76mta5Djs0FuUtq/EO6XNeBRGVp6znsPGrjJdU+ku6vXNdJvXNdV7n9B/pe2yYqeLX6zS5xYwEemEBIhfs63HyQn09u6hb9b53TewZRX/3HxH+nKbfPDvjfpPrWmuVdbrmOn2Q1Krujfkoh7KerDi9IfiuNXSiHT76s+sN0IxpWf07T88Xz+YML0oHcUk/Kr1aevvjWf06HpLDHHkgpmky6HLbdLVN+bSHL9aLq438O+0pTK17Wnh2Gio/9FJ2tJ7jnafnsK/sXBPTnoHZ+b4fYgXzCyoe748Xb3bS3tOvDlv/SFrEb46EtL/qRaJWv+FRsSevBxrPudcrnzID6se3+wQ7Js71NpE3XusO2+6TH6bTrrUy+9zvLb6HWjy+WbQ+onxUaz/KF+/1uSfHcgPr05evzT9ueM4qSM8oxP4AP7MSDYIi3VsuPcCttOf5FOWH9g3SsRD/BxtE5Gm+D5mf14X5Vy7H3GGuJ67bt4zWNd0+H6CE9n8Q8hAMyN/WyK+3+YPnGHcfKFvd+94kmCf+r8vLxsf5YV3wkXzn9uPONnTcqp57LfUzbg7Ur7DpyWlFSRny0+0GD3BwH6kn7D1vE3zefIB3I97pF/5uecSTsegDpQaKfu1bmcmnNW2OUs/0XJbDHytVabmtfWHdS7Satdo1y2PEG/6rl2Q7RsFzg3sn8TkB6Via97rbjyg1tkiPGSdhnZdT5MO3x0XLyuW15446j9dqvkm4fae0zYLxCu8pqXRK1vpP+/W/bpW2PSa1Hk5pHsh7nk7LbjsNYxyW9n5B0/0iq/LadBbmz2o9Ia9y09R31d+DUokvoZp0Ho45PSOWVLrlD/H9rRYgrs+KR9DrELUUul3Q/QPq2XtPaH8mq/aNcViY9b1tuaY1/XNdJTWLetvUKd7XzaNLtI63+ynWd1DjXdWj5EaVdAD2gP5wjJuNV32orCcLEjIn6u63iP6Eg8rhJIu3/VMWG0C76hLFola924A1aiFxtFhrYSLq8RdLEk9iXqBsbqv/oLuf54TscFKJ8YTe+0jpAxQbZRrX3tja3XM0FcX+7VeS7qgf77f/kwxs55+kG2l2aHvSxkX++hkPiiTnJpXy9qEXuER/1i3hYoJ1SFD1MpNDHxlQ5xXB3SZfDtjvYBzm3Q+wCtxnK7f1u8Yee5W1LUyte1o5fqP2wG+XAAxhna/13armhZ2W1B6jNBbEM7eWNLnEjHzwYgXAccBzeGS/e5ptLPFzTrg87kaFc67Td/Ezr4UaV31DusA//rP0twwXjzcRJook3ZOwPdNTrgU1I0ZVZtfukx+m0682l5HdZfkHzla89YNzG/8Y5S9vBS6becQDimz/9llYOSdueWi1o0c/e7pZyY7z+V+W6Sv2hB65wYx78Xy0SH+1tvYnnexALtG37QPqQOPCbXpQYyA/tAXqoJ6RrJeyDftLzMPJH+pDrlEfQOGbt9bkx3tkHxpZ2SQzMv5N13Pux1o+tl6c6KufQXBB/zCdh5xs7b1ROveyL9QI4Yd1W1qh8hw0axLujrbLexVpu6EGiPU4pSjz8sAYP6EHiSwbIBet38EH/gT7SRzjkqDxSEIl6TGveekjrF3Y9oW780D94nNgBTq90iXuzzVw7w7qaC6KJ8kZtN+CRVrtGOYLGGxyk/qBFYuB/d+ONWKTjk0mvu33jCsa/pObDtMdHHy/r7ytv2HEU7ahe+1VS7SPtfYZar0vC1nfSv//Dtsdq+19S80jW43xSdgeNw1gfYD2D9Sl+r2Fe8+0npNU/kiq/bWdB7l+0iQbKDQ5J7UekPW7a+o76O3Bq0SWE/VPwgNwn4IHNg3TdA33Ij5vf/1nzgB2Q1a5DQCutfoD0bb3Cfshq+zHySbv9Ix+fTGreRvpZceO6TohjvPTt81U7jybVPtLur1zXSXtYoL93MU5B9td1HcalQLnIgPupLkwCI0ZUOEQnajwJ74uOidpuUB5ZqBzDDry+hQg+rWDfFMGbJ5VTz+XwhiA6mtVbbvjV+gD1v+kbc3vmraWV3T9qEX90mCc7KuvBd3pR7qD/vJYf4T6JT2z9o9uN/+WiL4b4f1E3PpEfJN7c6D22P3R6UcKQXthyIEXb7pDO3W2i4WvnP9dw6Pvaa73wwsGL7Y+trSBRWeKHHMoJWe0Bqs3tJW1/SP/UotWo7I4aL6v6sBMZHvDAwWfl0pR9L2uRe/B4Ufn42iNizjccb25DiCvTbvdJj9NZ1ZtLye+y/Hz9HynY9oDxEwfg0IPEG/p2nrM/uKEfVaZtD+ZZtF+0yyA7q30DFQc/eIDH5jelKD6wCxJvlu7l2ahoaXXj4SBWfHtebftAPr/S/ohPNtmYPvuaC65mVv3BtpOo45hrtd9lxzs88Lab+XKATeFEz7oCG1FWH+6o8wbiBUlsjKK+3+mWGL6DKqyT7UEwPuWG/DB/Y9xA+thoh56V+CTjMx0SgnjYALL6cNsvTnxBOSPcJ209Jj1v2XX6sSHt8tkb1T9qu7E80mrXvvEGD7Liif2o5fXpTy9KCNpT1HW3HVfQrpOaD7MaH318rL8tb9Rx1Lajeu9X04tCIG77SGufoVbrkqj1nfbvf9sek+5/aP9x55Faj/Nx7faNw0ntJ4BrWv0D6cctP+IHSaxn0t6PSHvctPUd9Xeg/T2HL45gnYDxEwdGPq54oBD687oqa2bNA/aktQ5Jqx/YekU5kurHWbX/yq3A7zu9KGEob9R1XdrcuK6T+sF+CurJt8+X9DxabftIq79yXSftgus64RB83dxV2S3vut8que6kXE/OkZSC/oflW2+I3uKSm7O10w0Ndn2qSXQGqOrbKq//Re9x8T/LrmvvXa9eQvE/mxaWwlk0b5GrVy1nN7Wya5weoG+rXitLcnPzzLJOpbtHOsV3ownE/5wz3jVzLi9J1ieeLtLXzh+4V8Jx3TWPO1fWC69Pa73pl5dzG9TMGT917bWucy8Sn2c7bUhjumtVHz9tF14P3BOO2+EFV++6q8Tta4/Qvr8ddyL3K7hun2t5SUKSavdJj9O1qjcfr2r9v32upNDZWTmlpUvFf74J33VoZf1qfevNnrjlQTl8/zPoNw9UTvnUU8X/5QWVw3/3W9d/iDp9B2Oudi73Wkl8TvuqyI12ItQIt86SG7t++3RBFVTUqj9EHcdcq/2uY4pu2PXt4l6m/cANLbt+fa/c23XSZ/R/YpY1s7nD/9x8X7PD/+Q89oTK+R8/UfwHajDWUw895OqP1/kb6673NPhSnRdc7bLr3XflfoZZn40tiP/WMLAcpaq7tOetJSXXvG+fLW48cOKG1t5Vq3b9jhb9y1PlZt262rPozQKM20nNh7UaH3sr44fDoo6j/a1f1Xqf4cN1lcR91PrO+vd/0v2vWmaNNs77yru8JCFJ/a5CPo3eP7Laj0h73ER9JCXXr5eUft3ppji56Lrhwpc1/ocJn+VZF2bNI+11SFb9YHlJiCfVj7Nq/2J17a7LS5J3Uty4rhOeYff56m0ezaq/CqX0r1zXRWNcP+1xgGv4spK4R+ZFpnWAJqnncvhkxKQJ4jM6L3KEShzUwB4JzeU2w01M+VE9QEX0hZ1yt1Y3iuDfVyReff/CSVKi8eNFon530IIOz+uNimo5u6mVXXvly/f/dbeDurtecf19LtNsc7trfJ9+1v5rNcOgg6oVr7mWba3OLbaQm02bRNYLL9sPSyWxDw86iMt/xULYr9EYIbWqj2cej8Znr4Krf/EV4j5XN4zd0LJru/Lt/7/b3bh9zqTbfdLjdK3qzcerWv/Vq8KlsMKobT/EeCTkrDd74hZrTQDXN/XBrm7NAPPkGpxIeTJ+05Mu5ud3/uGJqN5YnvgOThEb4S+WxOdzeZF7jBKJa636Q9RxDPb6JD6Ra/936dPzfTFcfzyBO7dT/PcsirTpiW/611eXSh4dnSIPL4g8aZrIW9tF4nqi+sN9e6fcYSMN/ns14U7kyyWRKz3t0tXO5Z6d4/qg3Y8eKf4vLnDD47rSnrd+dJVYdntB5GdVLlwi7jvbRV51ncg/mXKLb/rXWrfr10tSRhzEpF/i6nJIev6p1fgYlkLUcbS/9qta7TOErcewelHrG+lifZH27/+k+x/sjysbZZwPKl/Sv6tsfo3aP0bm3ZKktR+R9rjpliI516yZktYZRZF750U26Tpw3jxxjztYJHjiwT08yCeh5WvWPLJah6TdD5Lux6gv1Exa7R/p10omzY3rOqnJsPt89TqPpt1fs2rvXNdFI10/7dGcRGFDBQNzWhtIl7YIsPNbK4NbVRJ/7EcOqqwW23fEKDfqGtfZZ1z4lGDnb6RI9qBRH1TLrSxJ+NZ5kWlfdzYb+Fiwha2HF0pi4QaVT9dog6taThvRwAMSqhdew4a6hr6j/F3fvu+ql/rwkcan9rY3CqivoH6G8GUlSWB2p8ikrmHbfdLjdL3XW1J8bTqeFxWtWmbuerMnbsG7NSIOkoLSgX6QXlLhmN+RnvngSK6v9IfBg6WEeOAO5Q27oQt9y2tQHiG1kTfpBtjhBcn/KJVDdB4eqOv3ZvUXrVwOG2dwQw43697VJYSEk74XEAdtFS5+kFZW89Yd94gl//0wkfifnp8qiPvkoiuvaRf3maeKzOraV9t1Vvx8+YSdf/rK+Nhf+1Wt9xl87S8r/3r9/R+2/1XLqVHG+WrLifhhf1dBv9H7R9r7EVmNm6iPpOWTj0uKi0oiR+VFTj5OJA5QJ58hblzx4B4e5IN/o/NAOayst34Qth+n3f4tp3p3h+XGdZ3UZNh9vnqbR+utv2bdL7iuE+K1//3uOUBt1hbx+YLc4CD1lZIGxBTNBYl4fqtIXC+8SO6uvlKk3fjCN9T3zyNGdfJV82bCrgmli4NAWLetOXCCf1byxmslp93zIv9cEnnaySKf+ZNIvIGB/1F1593in9Z18Wo35cUlcR8w2vWnSwjUC68Vq9waGZ533f3FVS/14eONT+2tKIkG6uk7Os7ObPfFrC//pMfpeq+3+qJfe2t6zKe1N6mhLNg575q7fJHr7iv9YZXOS/jCAT5RG3VdZ3lhXeJSy851512S1zVtInFOif9tigNjLONLJdHDxpm4ytelVa57h3vWs4uXlvOo5i7reeuRTrEWEp9Eu/gH4j+hIPIbRZEP3yvyvntEpn3tq+06bW5Jpd9Xxsf+1q+aC9IC0tpnaJR1Sb3+/k+qf4ZNB+M7ZL2N82HLkZRec0FSSqt/JGVnUDpp70dkPW4GlTdqOPb1bmqXmN9tFTm5KPJ7l4g8oSASVzy4Bzdko/NAOSCbC3LXqP0g7fYPTn1Ncl0Xr0Yxf0JmPY82F8TutPor13Xx2kWtYqEdQmbdHnM580rCDde5KLZQ5yUtcoNv5btafteBTRKGJ6kPLbi680vi/vdWkfbgVHxzOdgBd7USG01IB6/0f3QMfHqXeBLLauHAAv44eIbbytF58cGnNWx4XDf+ifzBBTeFC88VN97YxAILWlE52wFnOBIKkAvnuQoj8+LeU6Ubmr4rbjnSt0xyqBdeS0puifEJ6H0D+g3+t9iYvBu/UV31Uh9B/BaWXI3m8a673l1Jj9ONUm/1Xi9Z2Wd/IGK8wSfpfHYc1WDt3FcO648HIT6u6yobDveovNx9XCX87QNwfa0/2PJNCtkOho8QQnhgELxeNAeO8M9KrlkjOd3f7uaIT/lOnub636x6dl0HLcsH69P9A9oT4p8wAXci8Wk13yf8e6yr8m58n6tW89ZTc8Sifzpc5LxO10L8nnF903fZemv0dg1iPdoHAupE9rXxsdH6Vdz2cWjBbUBJ7zPU+7okq9//LuX0XD3aQb66vLIa55O2u7pSl2On3T+QU9rlz2o/olbjJjhWK2+6zU1hdF7c3/wXkbure604c3hwT509RKPzQIGy6gfIL2mZVfuPanePfh81gZT1ua5LBnDceTRu+0i7v3Jdl0y7CJtKj3aQDxuzsl7c9lg5tTC+5gAVBvy63Y38paK4739M5H56YIL/1Yj/1YMNhlvaRO/ZuSIPPFDke6tE4oqDw52GwUck0vtJi7j3zbvh1bp+3ykprNaENlP582vlBge+6p3Dhu2FreKzwvPpVXwCGfG+Mk3udtsDPiLH6oZVZ4e4d8m74dW68D/QNpiEDhlrPNSJDdmfXFE53OdrBxyU4wCzIWcPnJ94SlLEAgDN8DptNzua9mDzH5UXnylFGxLPHbcc8XKLHqteeD36O7F9ZcktwwztN/jhjlAcrD76hPjgAADhjSrrpT6C+N2sb8xAD+P4CZPgU1kOGCD+x6gexvvK2un5Jj1ON0q9pUe0sVJ+eYFr79bq/NdvG/9txP3DFpH2CUVXu3Fd+J8lHfqFiEMLblkwz16v8yjWNatKonefvtGIWH2tP/zqKpRM5HFFkaepFFf5uv1guZ95i8gtNQgPws36ZVm3lnezzDiOT/k2F1yrZpmNMjc0l/vdI+LzeskNuUHXfcM8665/1nnga61uvMsNbzc0lwNH+Dfr+hO/G6yEXlrzFn5nYJzY3azLkT/W+9vl4SPSrhPd0PRcfbVdW55hfz+kR9pNua+Nj43Wr+K2j7T3Gep9XZLV73+3t6TnijqP1Ms4H9Xu9Ai6KafdP5Bb2uXPaj8irXETnNKW+N/0czvdnC4z+333t0s4HtxztcuuRueBkmTVD5Bf0jKr9h/V7rjzdtR84upzXSfkgvb50ppH47aPtPsr13Vxe1S8eFHXB2m1x3jW9xILB36zO0QJT7Rb+W63hK9TacPhv48euOLgcIPRX9kl6dzbIbJL3TY9uItF0bPXk9Qfegs1HasH93da5Q76kG93i/9ctWeVuhH+jrqRDmRzQe6gB7lG9f/a5Ya/r/5vGv8LzhE933WB0Z9arKx5e5v4ww7IpzvE/xGV73VX1it1VU4Xvrvqmxs2Pur3zxr/FU86k3VjDhxgH9rDYx2S011tIvEpZ+iv74Yl1clqyxG13cFaPHCAckNiYxF6kPXCCw8SwF7I1Voff9J626huhL/RJSWBO6l2Dj4vmfRPLSKkdxk3Xtr1Ebaf+0qHBdJ8wwX80T/Rv37fISmh/0Hvu62Vc8iq3Sc9Tqddb5Vp9fSNyi9ue7hP6xX1iS9K9LQomk9W9vzB2I9yYD7F/Ar/paa9r+3uvVxxy7FJ00W+48b1ng++cAF9SCwMbWzbPqBvJeZpywF6QeNs2v0hLl/LI8iNgy+0C5Qfcom2iz92SEpY5yEc6xY8aBKUX9x5IyhdG44Hk+w6EXY/q+Wx8Xzu6UUJwToK6WAd95Sm9zflhXDI5zQcvH35zGiTEMSDXKzpojzT1B6kk9a89fEm1x7UN9aZt6q9sA/2Yj4cmYeF1cmo7Qac027XdrwJ+v1UHYVcrtp1d9xxJep8mPb4GJZj3PIi/UbrV3HbR9r7DOBZr+sS2Jf27/+47TFq/4s6j9TLOB/VbtRb3HE47H5CVv0jbvnBIaxMez8irXET5Yta33H73bd0XxHrGiuP1f042OWT9cbDZ2eQf9r9IGq9wt6w/Rj6abd/5BNWxp23kX5W3LiuE+IYB+w+X1rzaNz2kXZ/Rfvjus5tF77zJfCC7C/rOpQ3UOIgBwM0Ntyx8YCOB7m6W5KcpRsRvjeXTi6K3mtdIhEfEhtbV7RIuF2ITdH4Elq+flEXAEgHGxVljcp3pxfF/+8ee5DenA7R+3xBpO+KNx7AA/EhuzQfPNn/4xZJCeHf1IWOL/0XjJ2YcKw+NmbvbnPTRz6QSO+IguhhY/g/NR+brnWDHzaqkS4kNixtPLjHF+RuvuaH/BHfSvD7XitSSEbGLUfcdodP56F86Fd4A9tXqnrh9X3lj41QlAMSG3544xEHNwjHgt5XTrRL6PvaOeKj/UD/y0WE9C7jxkOqadVH1PLDHiu31VfXrtJxYE23aICTlejHD3WIHt4ktulm3e7RP5Map9OqN8vJ547KL257uEPrHfX8b60+i6L5Z2XPLvqgDg46fAc/+PIFPhmOeQTt3Ve6uOXAgRO4frLJl4P45/MioQ/7hg6tHA/jJvTbtB6/oesDHOwgHBIPqpwVsI6wuabVH+LytfaFdePN0huUF9aT4AOJ+RYPlI0LOAC3+Vc7b9j0gtxYD8N+yDMj1jPymVCQO2zI2X6F9Fd0id7lLSLxprO4/Ff0W9+DmGj/R0+qnEbS89bAgZLPjdouMM+hnFaiXXw2YruoXJqyb9x2k3a7jjoflUtU3R3mdV99+H4/xB1X4s6HaY2PYenFLa9Nv9H6Vdz2kdY+A3hifKu3dQnsS/v3f9z2GLX/gXPYeaRexvmodqPe4o7DUfcTsuofYesN5Y8rv98qMdPaj0h63EQ5o9Z33H6HF2PwAgjWO6/q+g79BnYFyXrhEWRnUHha/SBqvcLOqP0Y8dJu/8gnrIw7b2fNjes6qVG7z4fxIK3fS3HbR1r9Fe0a8zbXdUIkaN8d3PrLug7ljS3xRDQ6HD6FhQPXsAlDH//7EhMH/JEO3EOGwqd3iU/w4sn93rV7hqI8n9KNE/yPrJ6avfvgf8bizZPR+cr6KB82UhGvsnYuh3KF5YF0kP4nmsRnZ88n27AwCrtRhvTRLnBw/jF98zjoQBDxIbfWTzIeoHZC+uxFvKRk3HLEbXfb6QEXyh21HIgHTpBZ8UJ73VvrG/3HlgPtAO0Q8awe3FHbeVT9uPkgnk8mVR9xy+Ozy/qjng7ScW4vrT8snKy+z12rdg/7qx2nUa6k6g3phZVh+cVtD3hiOGy/C2t3rewBL8xjGK+t3ZjHfOHQj1sOtBccbCC9IInxfhud54L0h+i6B+sE6KNceDIT6yiEVytRPswnkFHnlbh8q7Uf8THP4AAb5YBd0IsqER/1EzV+XH20f7SjuOnYeOgv6Fd4UtjqxXXjhynaa9C/avDlg3G/2nkL61usV/Hkv+9Txj57ovon1W7SatdoX7Azavni6mM8Q30E/X6AfVH7X1LzYVLjY1heccsbNv1671dR2wfKjXkT82NS+wxIHxL9BuMn7EU4JMZZXzj0kq5vrP9gn28eh30YH2GPlXHtq7b/RZ1HUA6MK1mN85ZXVLvRnsDZpudzY12A8cmnB/+s+kfU8sO+qBLzYtL7ET47kho3w9Y32kPUeQ/24/c9xgP0R4RXK7PmUa29iJ9WPwhbr7ADMmo/Rrys2z/y9UnMcxh/g9Z1SCdrbsgX4yZ+J0L65kvEiyur7c9B+SbVH9OaR+O2j7T6q+WJdoh1E+y1elg3+cKhn3R9YxyHfb52CvtQj7DHyrj2YR6BPRiHbPo+d9T1AcqBcaVW6zpfeehPAiRAAiRAAiRAAiRAAiRAAiRAAiRAAiRAAiRAAiRAAiRAAiRAAiRAAiRAAiRAAiRAAiRAAiRAAiRAAiRAAiRAAiRAAiRAAiRAAiRAAiRAAiRAAiRAAiRAAiRAAiRAAiRAAiRAAiRAAiRAAiRAAiRAAiRAAiRAAiRAAiRAAiRAAiRAAiRAAiRAAiRAAiRAAiRAAiRAAiRAAiRAAiRAAiRAAiRAAiRAAiRAAiRAAiRAAiRAAiRAAiRAAiRAAiRAAiRAAiRAAiRAAiRAAiRAAiRAAiRAAiRAAiRAAiRAAiRAAiRAAiRAAiRAAiRAAiRAAiRAAiRAAiRAAiRAAiRAAiRAAiRAAiRAAiRAAiRAAiRAAiRAAiRAAiRAAiRAAiRAAiRAAiRAAiRAAiRAAiRAAiRAAiRAAiRAAiRAAiRAAiRAAiRAAiRAAiRAAiRAAiRAAiRAAiRAAiRAAiRAAiRAAiRAAiRAAiRAAiRAAiRAAiRAAiRAAiRAAiRAAiRAAiRAAiRAAiRAAiRAAiRAAiRAAiRAAiRAAiRAAiRAAiRAAiRAAiRAAiRAAiRAAiRAAiRAAiRAAmEJbBFWMZzePmNE75LLRO43WuSTc8LFp1Y4AlOKonfKcSLfWidy2VKRvJLAfxHYdYRw+P63RH7qMJH/p1Nk1tfzzpEcTzlDZGmRyBWvZW0J8yMBEiABEiABEiABEiABEiABEiABEiABEiABEiABEiABEiCBjAicVJSMurtFLuzKKON+ls3jHS7nC/Rgqp9hYHEDCBxWEAX0x7XaLwOipRa8QMcD2DO1WDmr8QXxn63tfGZbZT36kgAJkAAJkAAJkAAJkAAJkAAJkAAJkAAJkAAJkAAJkAAJkEDyBDavnOSnx4n/P00Suf3gynp91be/l7+v1mvS5dpxmKR4jPaTTzQlnUP/TG/ieCn3ZwoiTymK3HobkbySAAmQAAmQAAmQAAmQAAmQAAmQAAmQAAmQAAmQAAmQAAmQQHoEPAeod94iWT54t8gjm9MzoR5T7u/lr8c6qUebjp8oVj2g/WSmynq0tZFsuvthsfbhTpFXtopc+65IXkmABEiABEiABEiABEiABEiABEiABEiABEiABEiABEiABEggPQID0kuaKZMACZBAHAKz9X8mH6X/szVOGoxDAiRAAiRAAiRAAiRAAiRAAiRAAiRAAiRAAiRAAiRAAiRAAvEI6AHqEQWJPkY/QTok7yY38Thx72b8H7hH/EslkUHX5oJoHKmf6EQ+zz0u/rffJXLNGpFB17Fq79GTRPMjo0RuqRG7FsnNPWrnvHkaYERW5TfZfuAcoPVwrL7RePBYCRqcFzlb+dx5+wdRYt1su51EO/IIkeCXV24LldcLyumB+0Vv06ZY2fWIlM+L18lFkc91isSbhs0FcR+h7WNoXtxx24fEzuX2b5K7QwoiD1C+G1XhL8r3MT24+9sCDTBisH7KeuppEnCopgO14Xpz1jnwEbmiJPL2e1z/uK6PjZGYE44SOVbtQHt/MKF88CnrQ/WT3vtqPstKku/c+SLvf1Dkhg0iq72OzEsKXyqKXFISeVO7yJ3108nTzxL3ulUif3aNyPXrRfqu6Adf/4pobKaKl18tN7a9Dxkq/h98qln7y+C8+D+vHB79rbgXeNqPhOZyvn7w5DOicfZ5IvfWfF5eJO7/uESktU98eSUBEiABEiABEiABEiABEiABEiABEiABEiABEiABEiABEkiUwCMdklx3dzR5RtE14yR1I51lXRLe1iYS/j75ourvOsJN17ru6wiXHvLZ1C363zrHpiTupMpfOXW/7w56MBM2/3nKZ4lKlO8CT7mQM/43519NPMT3yTkdksJH8kipOmnbx4OafnubpOuzA/5h28fAgZLeD1tEov6Rjk++1y363/Tw/FxBwn3xff7LuyRetdcTJ0kK76qdvvw2avhvOlx716q/z44t9cmDq9vceL584I92sscevpTFf0GXm+7UYmV9204Wajxo4wAZ+UMer3yg55PTihKCeOAyaJAb47N6cFwydiOeleu6Jf6ZnvaD1G35Hu6QkGdV2nTh3kkPjpEOJQmQAAmQAAmQAAmQAAmQAAmQAAmQAAmQAAmQAAmQAAmQQIoEJhQk8fN14/9tPQjAxv1NbW449EblxR9XezCA+JBz9YDgPM1nhqb7vsnvihak6MqtthI30nulS9zfbRWJchynByl/6HD1cVCyizmgRTyUK275Jbfw11+0ufaBw7Xqf7Zy6jTlQPkhfQeoO+qBy8ouN5+l6kY9TFZeP24RvfXdrv5THeKu9pp2+4B9F2s5wAcS7XhKUTRx0IXyQQ8Sbxwi3e31DVRwu6tNQqC/okvcaEeQeJMS6USV6Gcbut38/qL54cD3SrXnTfWHXZBo/778L2px04c+yoEDxVOKoocHJJD+vR2+lMU/qQNU5ILxBPnfpuVHuE8+qHYi3h0mHvrNW12SAvQe13gTtb8UChJuHxBBPz6wqbIFQf0AB6k/aJH4v9V88eZs5VTpSwIkQAIkQAIkQAIkQAIkQAIkQAIkQAIkQAIkQAIkQAIkkCoB+4bjF/TAIChT38HA3W0SE28G2nR+ruE4qLBvnFn9Q/TNMF960MdBCN4sRPpHFqBRWcYtf+XUevriANfa1draU/fDPjhYRjkgfQeol+kBDPRwsLZbwJuCeNMR8SBxMP1hm6Lcp90+wPUf3WIV7MabqD5bt9lGQp7pcOPhgM4Xb3rR1X++y6dZnT8ORlGe1zWf4eZBAOSyj37i1x5w4kAUepBIx3L7chEaleUXdVyAXZB4Q9TGSvoAFQfZyPcdrXffQSPGA/uAwCQzvtl+86LyDhpv5qse7Lm5zRIQt68f4IEPvAlcOTZ9SYAESIAESIAESIAESIAESIAESIAESIAESIAESIAESIAE0iWwebrJLy9J+ieeLtL3PxIfuFfCcd01j7vK8sk54u9LD7HeekPuFpfgI3K3vOvO2oX/LYn/1bpBDZjx094tOfciCX+2s3c9hB5TxJ3I69tFLlvq+lvXr7U+FpbckM+Y//nphkZ3LS9JnKTax3g9WN9WTXlP5aVX6Y1HvPuuBMyY6SqMLYh7az1gdUOzcx2ad/Oa1S7uFa+5/nC9tEDuTj8XPr3LcYbbypLo32x42FQe6RSfjSZgvzHGIyXnLXdIwu9r+qimY0+onOHxE8V/oAajnA895OofXnDd12n7CRpv7m934+1n0nFDy6539PbLU+Vm3bpyGO9IgARIgARIgARIgARIgARIgARIgARIgARIgARIgARIgASyJjAg3QzXavJBBw/2IGhrjbfFFnKzaVNlOw/Sg59JEyR8dF7kCJU4oBypbgnN5TbDTY2ktadUEkNw4BtkFg5cfHqb68G4/d+lT8/3xXD98Qbd3E7x37Mo0qYnvvGvSbePvcwnU18uiW0rV4Wz8dk5rh7ayeiR4v+iHky6Wum7bHt5dlG4PN8JWe698m56O6i76xXX3+eyw8juGt+nn5T/q/ogQEenpIiDz5OmifvWdpG4nqj+cN/eKXfr18NH5F4F133xFeI+92zX37q2Mx67G7fP+XpJQpYEPNjgi09/EiABEiABEiABEiABEiABEiABEiABEiABEiABEiABEiCBJAnYk48k046Q1sb3Iij/P9VLW0T//NbK8VaVxB/JDqqsVjPfYUPdrN8pue5qXYP1f3XiABnprQ55oAZ9c66UG5RHSLYybPsYPsq1a3XJdQe5fC/+DdoqKGY64ZvpCe5OeTf9sAejbiy/a+chbhje6FzjentdL5QkaIPKp81BtDdiQgE3zZSEcIB6VEHcQ7SfDdRxrln9JTSXm6Xx4Manc7eHh0r0zyAeCF9WkoizO0XySgIkQAIkQAIkQAIkQAIkQAIkQAIkQAIkQAIkQAIkQAIk0EgE6uQANSyy5oJont8qEtcLL5K7q68UaQ8K8b8p988jRm3lCnOQOTxhu1Zp+nhTFZ+03TViPjsbffsp5NpS7Jn7UvOGbdTyDtcDN5vy4hq9GYg3gf9eEovQTnx2WrvDuhevdjVRzweMdv3r1XXnXWLZNW0icd6N/22KBwkw3OGN7ycfd0uET+euKIk/eH9Hx5eZ7a4+XSRAAiRAAiRAAiRAAiRAAiRAAiRAAiRAAiRAAiRAAiRAAn2RgOd/oOINNBQZBwlw10oeWnBznl8S97+3irQHp+Kby+mXgOEMlGmXf0nJNQH/k3XfMa6/de2xh/iMyduQyu5XSq7/pPGu2+caPkJCPl9wNV40B5RuaO1dtrz45PD+TeFsO2GCq4dPq/o+rdyjnbjRE3PZ9nJkyHo8IqTewnmuqSPz4t5TpRtaf641+uqn/R+k+JTv5GmuzTe3ixsH1G5oLrew5Po0h+ToxqKLBEiABEiABEiABEiABEiABEiABEiABEiABEiABEiABEigMQl4DlDxBhYK1TxW7vA/Sa2EXtryPX2zEvnsnZe7nYbBRyT+B+hPWsS9b94ND3KlXf5HfycWrCy5lsy4VtyDzDeHcbD66BMSHvZA+1dXuekfVxT3aSrd0Fxue/3078xbJARv7oHHrF/aGPXl/t0jYg8OPmHdDfo/LIeZdoLwf54kd19rhY/Iyw0/NzSXs28S75IXjQPMgS0+DWvjh3XfYd6UPL4oMScU3BTQL1tbxf+7Kl2tnq4nnhI/HNRiWLiuTfx39HBDSqPycjelCJ/ayFn3uvniU77NBdd/1m2u27puNul8qSgaJ2g7sfpwDxggd8eo3n4BD0QgHiUJkAAJkAAJkAAJkAAJkAAJkAAJkAAJkAAJkAAJkAAJkEADEJihByd4QwtycZcY/6bKaUW3MCepG/oLVc/V6uk6UA+cEA8SB0KIMVb1NnSLD/RWaj73doh/l7oRbmWxiBQry7jlr5ya3/fCVgmz9q3W8v1Jy7NR3dB7w5TvgnMq57GVfsv0r0Yf6SxR/z92SPy3u117wBkHSJVzCe+bdvuAJdOLcve+Kc976n5Ky/u3LtEDD8jnNBz8RKvndVd9UxfpIj64/VnTf0VlzxTC+eysB5jLPfYiH9Qn7Fhk9Nd2957fZD34s9zQvx7rkPh3tYnEp7Ghvz4g/QVdEg/2TS2K217jthM8eIDxCflAPqv22/ysGweh8429SAe8weH3mi44Qc93gB23fNZOukmABEiABEiABEiABEiABEiABEiABEiABEiABEiABEiABDIksIseDM3WgwEcCEBu6hZjjtYDF5j2RXVD7yU9gEC4T+ITq4iHAyi8SWrjnVwUn9c0fcSDxEHgFS2iZw9Ep2h8Ce15jVv+nimF8/l+q+j5Dn5wAIo34C7RcqG83/IcoCJ3vFl6Q5v4gA/iQ4L70x2iN24cUkhGZtU+YC3e0MTBHQ76UF7IFV0S43LlGvWN0dOLEh8HlEgXEgfUsCuuxCd1cbCOfoh83umWlG9tE4l2jAP4NRoelP/4gmjgANHmg/wgu7pE/3utIn3XF1QP8XCQaPXjthOkg36PfCDPDOgniA+57XZyd1WbSPBDelai/h/qEH28OY70IKstH9KhJAESIAESIAESIAESIAESIAESIAESIAESIAESIAESIAESqCEBHMTgDdCgT3oO1k/B4o2wsKZvpwcWW28TLgbeUMXBEg5i4Y9U4B4yFD7RZNTyR0u9rL3ZZnK/t376c/c9ymEfvsPB8lAtD+J9WKe3e+jn86KFT85Gra/e8ugtLKv2YW3AgdgnmiQEb5BavbhuvLGKT7d+TOsR9RU3XV88cGzS8gwcWFlzG+1PYfuVTQXx0E4g8Was1fe50b7C9kOUD/F86fr8ER/jik8vqj/65UH6gMFeWs8+/r70YV/c8vnSpT8JkAAJkAAJkAAJkAAJkAAJkAAJkAAJkAAJkAAJkAAJkAAJkAAJkAAJkAAJkAAJkAAJkAAJkAAJkAAJkAAJkAAJkAAJkAAJkAAJkAAJkAAJkAAJkAAJkAAJkAAJkAAJkAAJkAAJkAAJkAAJkAAJkAAJkAAJkAAJkAAJkAAJkAAJkAAJkAAJkAAJkAAJkAAJkAAJkAAJkAAJkAAJkAAJkAAJkAAJkAAJkAAJkAAJkAAJkAAJkAAJkAAJkAAJkAAJkAAJkAAJkAAJkAAJkAAJkAAJkAAJkAAJkAAJkAAJkAAJkAAJkAAJkAAJkAAJkAAJkAAJkAAJkAAJkAAJpEzg/wLURN6IFK/HXgAAAABJRU5ErkJggg==)"
      ],
      "metadata": {
        "id": "bB-1xvu1ukqm"
      }
    },
    {
      "cell_type": "code",
      "source": [
        "diff=df.groupby(\"Has Online delivery\").agg({\"Votes\" :\"sum\"}).reset_index()\n",
        "diff"
      ],
      "metadata": {
        "id": "iKrZKbm6ulEP",
        "colab": {
          "base_uri": "https://localhost:8080/",
          "height": 112
        },
        "outputId": "ca7e2688-a6b0-4cca-f504-b8e2e33169ec"
      },
      "execution_count": 48,
      "outputs": [
        {
          "output_type": "execute_result",
          "data": {
            "text/plain": [
              "  Has Online delivery   Votes\n",
              "0                  No  980731\n",
              "1                 Yes  517914"
            ],
            "text/html": [
              "\n",
              "  <div id=\"df-40fd5747-5ef0-48e6-831d-83399f8cb5f7\">\n",
              "    <div class=\"colab-df-container\">\n",
              "      <div>\n",
              "<style scoped>\n",
              "    .dataframe tbody tr th:only-of-type {\n",
              "        vertical-align: middle;\n",
              "    }\n",
              "\n",
              "    .dataframe tbody tr th {\n",
              "        vertical-align: top;\n",
              "    }\n",
              "\n",
              "    .dataframe thead th {\n",
              "        text-align: right;\n",
              "    }\n",
              "</style>\n",
              "<table border=\"1\" class=\"dataframe\">\n",
              "  <thead>\n",
              "    <tr style=\"text-align: right;\">\n",
              "      <th></th>\n",
              "      <th>Has Online delivery</th>\n",
              "      <th>Votes</th>\n",
              "    </tr>\n",
              "  </thead>\n",
              "  <tbody>\n",
              "    <tr>\n",
              "      <th>0</th>\n",
              "      <td>No</td>\n",
              "      <td>980731</td>\n",
              "    </tr>\n",
              "    <tr>\n",
              "      <th>1</th>\n",
              "      <td>Yes</td>\n",
              "      <td>517914</td>\n",
              "    </tr>\n",
              "  </tbody>\n",
              "</table>\n",
              "</div>\n",
              "      <button class=\"colab-df-convert\" onclick=\"convertToInteractive('df-40fd5747-5ef0-48e6-831d-83399f8cb5f7')\"\n",
              "              title=\"Convert this dataframe to an interactive table.\"\n",
              "              style=\"display:none;\">\n",
              "        \n",
              "  <svg xmlns=\"http://www.w3.org/2000/svg\" height=\"24px\"viewBox=\"0 0 24 24\"\n",
              "       width=\"24px\">\n",
              "    <path d=\"M0 0h24v24H0V0z\" fill=\"none\"/>\n",
              "    <path d=\"M18.56 5.44l.94 2.06.94-2.06 2.06-.94-2.06-.94-.94-2.06-.94 2.06-2.06.94zm-11 1L8.5 8.5l.94-2.06 2.06-.94-2.06-.94L8.5 2.5l-.94 2.06-2.06.94zm10 10l.94 2.06.94-2.06 2.06-.94-2.06-.94-.94-2.06-.94 2.06-2.06.94z\"/><path d=\"M17.41 7.96l-1.37-1.37c-.4-.4-.92-.59-1.43-.59-.52 0-1.04.2-1.43.59L10.3 9.45l-7.72 7.72c-.78.78-.78 2.05 0 2.83L4 21.41c.39.39.9.59 1.41.59.51 0 1.02-.2 1.41-.59l7.78-7.78 2.81-2.81c.8-.78.8-2.07 0-2.86zM5.41 20L4 18.59l7.72-7.72 1.47 1.35L5.41 20z\"/>\n",
              "  </svg>\n",
              "      </button>\n",
              "      \n",
              "  <style>\n",
              "    .colab-df-container {\n",
              "      display:flex;\n",
              "      flex-wrap:wrap;\n",
              "      gap: 12px;\n",
              "    }\n",
              "\n",
              "    .colab-df-convert {\n",
              "      background-color: #E8F0FE;\n",
              "      border: none;\n",
              "      border-radius: 50%;\n",
              "      cursor: pointer;\n",
              "      display: none;\n",
              "      fill: #1967D2;\n",
              "      height: 32px;\n",
              "      padding: 0 0 0 0;\n",
              "      width: 32px;\n",
              "    }\n",
              "\n",
              "    .colab-df-convert:hover {\n",
              "      background-color: #E2EBFA;\n",
              "      box-shadow: 0px 1px 2px rgba(60, 64, 67, 0.3), 0px 1px 3px 1px rgba(60, 64, 67, 0.15);\n",
              "      fill: #174EA6;\n",
              "    }\n",
              "\n",
              "    [theme=dark] .colab-df-convert {\n",
              "      background-color: #3B4455;\n",
              "      fill: #D2E3FC;\n",
              "    }\n",
              "\n",
              "    [theme=dark] .colab-df-convert:hover {\n",
              "      background-color: #434B5C;\n",
              "      box-shadow: 0px 1px 3px 1px rgba(0, 0, 0, 0.15);\n",
              "      filter: drop-shadow(0px 1px 2px rgba(0, 0, 0, 0.3));\n",
              "      fill: #FFFFFF;\n",
              "    }\n",
              "  </style>\n",
              "\n",
              "      <script>\n",
              "        const buttonEl =\n",
              "          document.querySelector('#df-40fd5747-5ef0-48e6-831d-83399f8cb5f7 button.colab-df-convert');\n",
              "        buttonEl.style.display =\n",
              "          google.colab.kernel.accessAllowed ? 'block' : 'none';\n",
              "\n",
              "        async function convertToInteractive(key) {\n",
              "          const element = document.querySelector('#df-40fd5747-5ef0-48e6-831d-83399f8cb5f7');\n",
              "          const dataTable =\n",
              "            await google.colab.kernel.invokeFunction('convertToInteractive',\n",
              "                                                     [key], {});\n",
              "          if (!dataTable) return;\n",
              "\n",
              "          const docLinkHtml = 'Like what you see? Visit the ' +\n",
              "            '<a target=\"_blank\" href=https://colab.research.google.com/notebooks/data_table.ipynb>data table notebook</a>'\n",
              "            + ' to learn more about interactive tables.';\n",
              "          element.innerHTML = '';\n",
              "          dataTable['output_type'] = 'display_data';\n",
              "          await google.colab.output.renderOutput(dataTable, element);\n",
              "          const docLink = document.createElement('div');\n",
              "          docLink.innerHTML = docLinkHtml;\n",
              "          element.appendChild(docLink);\n",
              "        }\n",
              "      </script>\n",
              "    </div>\n",
              "  </div>\n",
              "  "
            ]
          },
          "metadata": {},
          "execution_count": 48
        }
      ]
    },
    {
      "cell_type": "code",
      "source": [
        "sns.barplot(x='Has Online delivery',y='Votes',data=diff,palette='magma')"
      ],
      "metadata": {
        "colab": {
          "base_uri": "https://localhost:8080/",
          "height": 405
        },
        "id": "fegYAHSnu6Hg",
        "outputId": "9791949c-5597-4deb-d7d8-1b33f4ea0441"
      },
      "execution_count": 49,
      "outputs": [
        {
          "output_type": "execute_result",
          "data": {
            "text/plain": [
              "<matplotlib.axes._subplots.AxesSubplot at 0x7f187c76f210>"
            ]
          },
          "metadata": {},
          "execution_count": 49
        },
        {
          "output_type": "display_data",
          "data": {
            "text/plain": [
              "<Figure size 2160x432 with 1 Axes>"
            ],
            "image/png": "[encoded data removed]"
          },
          "metadata": {
            "needs_background": "light"
          }
        }
      ]
    },
    {
      "cell_type": "code",
      "source": [
        "int(diff[diff[\"Has Online delivery\"]=='Yes'][\"Votes\"])-int(diff[diff[\"Has Online delivery\"]=='No'][\"Votes\"])"
      ],
      "metadata": {
        "colab": {
          "base_uri": "https://localhost:8080/",
          "height": 0
        },
        "id": "P82CdQWYEoG2",
        "outputId": "b989fbd6-e824-4214-fcde-1aa5cba6f0b6"
      },
      "execution_count": 50,
      "outputs": [
        {
          "output_type": "execute_result",
          "data": {
            "text/plain": [
              "-462817"
            ]
          },
          "metadata": {},
          "execution_count": 50
        }
      ]
    },
    {
      "cell_type": "code",
      "source": [
        "#there is difference of \"462817\" Votes between no of votes for the restaurant that delivers and the restaurant that do not\n",
        "#Surpsisingly restaurant that do not deliver has more votes"
      ],
      "metadata": {
        "id": "rFCQST2vE-k7"
      },
      "execution_count": 51,
      "outputs": []
    },
    {
      "cell_type": "markdown",
      "source": [
        "week2:**Task**\n",
        "\n",
        "\n",
        "\n",
        "\n",
        "\n"
      ],
      "metadata": {
        "id": "JQnYxDR0AKId"
      }
    },
    {
      "cell_type": "markdown",
      "source": [
        "![image.png](data:image/png;base64,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)"
      ],
      "metadata": {
        "id": "PCLKneOyA0-c"
      }
    },
    {
      "cell_type": "code",
      "source": [
        "c=df[\"Cuisines\"].value_counts().reset_index().head(10).rename({\"index\":\"Cuisines\",\"Cuisines\" :\"Count. of Cuisines\"},axis='columns')\n",
        "c"
      ],
      "metadata": {
        "colab": {
          "base_uri": "https://localhost:8080/",
          "height": 364
        },
        "id": "9u1B47a2A1XH",
        "outputId": "8cdc89d0-b469-4457-b91a-f7a64b3621b4"
      },
      "execution_count": 52,
      "outputs": [
        {
          "output_type": "execute_result",
          "data": {
            "text/plain": [
              "                         Cuisines  Count. of Cuisines\n",
              "0                    North Indian                 945\n",
              "1           North Indian, Chinese                 511\n",
              "2                       Fast Food                 354\n",
              "3                         Chinese                 354\n",
              "4           North Indian, Mughlai                 334\n",
              "5                            Cafe                 299\n",
              "6                          Bakery                 218\n",
              "7  North Indian, Mughlai, Chinese                 197\n",
              "8                Bakery, Desserts                 170\n",
              "9                     Street Food                 149"
            ],
            "text/html": [
              "\n",
              "  <div id=\"df-44c1a2d1-5fd4-4fac-97f8-72805f395865\">\n",
              "    <div class=\"colab-df-container\">\n",
              "      <div>\n",
              "<style scoped>\n",
              "    .dataframe tbody tr th:only-of-type {\n",
              "        vertical-align: middle;\n",
              "    }\n",
              "\n",
              "    .dataframe tbody tr th {\n",
              "        vertical-align: top;\n",
              "    }\n",
              "\n",
              "    .dataframe thead th {\n",
              "        text-align: right;\n",
              "    }\n",
              "</style>\n",
              "<table border=\"1\" class=\"dataframe\">\n",
              "  <thead>\n",
              "    <tr style=\"text-align: right;\">\n",
              "      <th></th>\n",
              "      <th>Cuisines</th>\n",
              "      <th>Count. of Cuisines</th>\n",
              "    </tr>\n",
              "  </thead>\n",
              "  <tbody>\n",
              "    <tr>\n",
              "      <th>0</th>\n",
              "      <td>North Indian</td>\n",
              "      <td>945</td>\n",
              "    </tr>\n",
              "    <tr>\n",
              "      <th>1</th>\n",
              "      <td>North Indian, Chinese</td>\n",
              "      <td>511</td>\n",
              "    </tr>\n",
              "    <tr>\n",
              "      <th>2</th>\n",
              "      <td>Fast Food</td>\n",
              "      <td>354</td>\n",
              "    </tr>\n",
              "    <tr>\n",
              "      <th>3</th>\n",
              "      <td>Chinese</td>\n",
              "      <td>354</td>\n",
              "    </tr>\n",
              "    <tr>\n",
              "      <th>4</th>\n",
              "      <td>North Indian, Mughlai</td>\n",
              "      <td>334</td>\n",
              "    </tr>\n",
              "    <tr>\n",
              "      <th>5</th>\n",
              "      <td>Cafe</td>\n",
              "      <td>299</td>\n",
              "    </tr>\n",
              "    <tr>\n",
              "      <th>6</th>\n",
              "      <td>Bakery</td>\n",
              "      <td>218</td>\n",
              "    </tr>\n",
              "    <tr>\n",
              "      <th>7</th>\n",
              "      <td>North Indian, Mughlai, Chinese</td>\n",
              "      <td>197</td>\n",
              "    </tr>\n",
              "    <tr>\n",
              "      <th>8</th>\n",
              "      <td>Bakery, Desserts</td>\n",
              "      <td>170</td>\n",
              "    </tr>\n",
              "    <tr>\n",
              "      <th>9</th>\n",
              "      <td>Street Food</td>\n",
              "      <td>149</td>\n",
              "    </tr>\n",
              "  </tbody>\n",
              "</table>\n",
              "</div>\n",
              "      <button class=\"colab-df-convert\" onclick=\"convertToInteractive('df-44c1a2d1-5fd4-4fac-97f8-72805f395865')\"\n",
              "              title=\"Convert this dataframe to an interactive table.\"\n",
              "              style=\"display:none;\">\n",
              "        \n",
              "  <svg xmlns=\"http://www.w3.org/2000/svg\" height=\"24px\"viewBox=\"0 0 24 24\"\n",
              "       width=\"24px\">\n",
              "    <path d=\"M0 0h24v24H0V0z\" fill=\"none\"/>\n",
              "    <path d=\"M18.56 5.44l.94 2.06.94-2.06 2.06-.94-2.06-.94-.94-2.06-.94 2.06-2.06.94zm-11 1L8.5 8.5l.94-2.06 2.06-.94-2.06-.94L8.5 2.5l-.94 2.06-2.06.94zm10 10l.94 2.06.94-2.06 2.06-.94-2.06-.94-.94-2.06-.94 2.06-2.06.94z\"/><path d=\"M17.41 7.96l-1.37-1.37c-.4-.4-.92-.59-1.43-.59-.52 0-1.04.2-1.43.59L10.3 9.45l-7.72 7.72c-.78.78-.78 2.05 0 2.83L4 21.41c.39.39.9.59 1.41.59.51 0 1.02-.2 1.41-.59l7.78-7.78 2.81-2.81c.8-.78.8-2.07 0-2.86zM5.41 20L4 18.59l7.72-7.72 1.47 1.35L5.41 20z\"/>\n",
              "  </svg>\n",
              "      </button>\n",
              "      \n",
              "  <style>\n",
              "    .colab-df-container {\n",
              "      display:flex;\n",
              "      flex-wrap:wrap;\n",
              "      gap: 12px;\n",
              "    }\n",
              "\n",
              "    .colab-df-convert {\n",
              "      background-color: #E8F0FE;\n",
              "      border: none;\n",
              "      border-radius: 50%;\n",
              "      cursor: pointer;\n",
              "      display: none;\n",
              "      fill: #1967D2;\n",
              "      height: 32px;\n",
              "      padding: 0 0 0 0;\n",
              "      width: 32px;\n",
              "    }\n",
              "\n",
              "    .colab-df-convert:hover {\n",
              "      background-color: #E2EBFA;\n",
              "      box-shadow: 0px 1px 2px rgba(60, 64, 67, 0.3), 0px 1px 3px 1px rgba(60, 64, 67, 0.15);\n",
              "      fill: #174EA6;\n",
              "    }\n",
              "\n",
              "    [theme=dark] .colab-df-convert {\n",
              "      background-color: #3B4455;\n",
              "      fill: #D2E3FC;\n",
              "    }\n",
              "\n",
              "    [theme=dark] .colab-df-convert:hover {\n",
              "      background-color: #434B5C;\n",
              "      box-shadow: 0px 1px 3px 1px rgba(0, 0, 0, 0.15);\n",
              "      filter: drop-shadow(0px 1px 2px rgba(0, 0, 0, 0.3));\n",
              "      fill: #FFFFFF;\n",
              "    }\n",
              "  </style>\n",
              "\n",
              "      <script>\n",
              "        const buttonEl =\n",
              "          document.querySelector('#df-44c1a2d1-5fd4-4fac-97f8-72805f395865 button.colab-df-convert');\n",
              "        buttonEl.style.display =\n",
              "          google.colab.kernel.accessAllowed ? 'block' : 'none';\n",
              "\n",
              "        async function convertToInteractive(key) {\n",
              "          const element = document.querySelector('#df-44c1a2d1-5fd4-4fac-97f8-72805f395865');\n",
              "          const dataTable =\n",
              "            await google.colab.kernel.invokeFunction('convertToInteractive',\n",
              "                                                     [key], {});\n",
              "          if (!dataTable) return;\n",
              "\n",
              "          const docLinkHtml = 'Like what you see? Visit the ' +\n",
              "            '<a target=\"_blank\" href=https://colab.research.google.com/notebooks/data_table.ipynb>data table notebook</a>'\n",
              "            + ' to learn more about interactive tables.';\n",
              "          element.innerHTML = '';\n",
              "          dataTable['output_type'] = 'display_data';\n",
              "          await google.colab.output.renderOutput(dataTable, element);\n",
              "          const docLink = document.createElement('div');\n",
              "          docLink.innerHTML = docLinkHtml;\n",
              "          element.appendChild(docLink);\n",
              "        }\n",
              "      </script>\n",
              "    </div>\n",
              "  </div>\n",
              "  "
            ]
          },
          "metadata": {},
          "execution_count": 52
        }
      ]
    },
    {
      "cell_type": "code",
      "source": [
        "plt.rcParams['figure.figsize']=(30,6)\n",
        "sns.barplot(x='Cuisines',y='Count. of Cuisines',data=c,palette='mako')\n",
        "plt.title(\"Top 10 cuisine acorss all the cities\")"
      ],
      "metadata": {
        "colab": {
          "base_uri": "https://localhost:8080/",
          "height": 409
        },
        "id": "5-5HEfsY4H0Q",
        "outputId": "f034cbf0-ea65-49f6-f92f-5fc6972cad23"
      },
      "execution_count": 53,
      "outputs": [
        {
          "output_type": "execute_result",
          "data": {
            "text/plain": [
              "Text(0.5, 1.0, 'Top 10 cuisine acorss all the cities')"
            ]
          },
          "metadata": {},
          "execution_count": 53
        },
        {
          "output_type": "display_data",
          "data": {
            "text/plain": [
              "<Figure size 2160x432 with 1 Axes>"
            ],
            "image/png": "[encoded data removed]"
          },
          "metadata": {
            "needs_background": "light"
          }
        }
      ]
    },
    {
      "cell_type": "code",
      "source": [
        "plt.pie(c[\"Count. of Cuisines\"],labels=c[\"Cuisines\"],autopct='%1.2f%%')"
      ],
      "metadata": {
        "colab": {
          "base_uri": "https://localhost:8080/",
          "height": 893
        },
        "id": "wlBM6cWDFdlP",
        "outputId": "04f4525c-10a2-4b1d-945f-2ac37d9e86dd"
      },
      "execution_count": 54,
      "outputs": [
        {
          "output_type": "execute_result",
          "data": {
            "text/plain": [
              "([<matplotlib.patches.Wedge at 0x7f187c636490>,\n",
              "  <matplotlib.patches.Wedge at 0x7f187c636bd0>,\n",
              "  <matplotlib.patches.Wedge at 0x7f187c6413d0>,\n",
              "  <matplotlib.patches.Wedge at 0x7f187c641dd0>,\n",
              "  <matplotlib.patches.Wedge at 0x7f187c64a950>,\n",
              "  <matplotlib.patches.Wedge at 0x7f187c6552d0>,\n",
              "  <matplotlib.patches.Wedge at 0x7f187c6557d0>,\n",
              "  <matplotlib.patches.Wedge at 0x7f187c661050>,\n",
              "  <matplotlib.patches.Wedge at 0x7f187c64a590>,\n",
              "  <matplotlib.patches.Wedge at 0x7f187c64a650>],\n",
              " [Text(0.7335674636606228, 0.819682119030616, 'North Indian'),\n",
              "  Text(-0.5893433631658553, 0.9288026702655193, 'North Indian, Chinese'),\n",
              "  Text(-1.0695669205605947, 0.25695642129070567, 'Fast Food'),\n",
              "  Text(-1.0156578084359724, -0.42242066256640176, 'Chinese'),\n",
              "  Text(-0.5885167416932667, -0.9293266620229621, 'North Indian, Mughlai'),\n",
              "  Text(-0.001468010939087877, -1.0999990204286014, 'Cafe'),\n",
              "  Text(0.4870112613457864, -0.9863163951402139, 'Bakery'),\n",
              "  Text(0.8101505161499852, -0.7440807356610658, 'North Indian, Mughlai, Chinese'),\n",
              "  Text(1.0060114877036386, -0.44490548053301426, 'Bakery, Desserts'),\n",
              "  Text(1.0903483121505928, -0.14539793048855149, 'Street Food')],\n",
              " [Text(0.4001277074512487, 0.44709933765306326, '26.76%'),\n",
              "  Text(-0.32146001627228465, 0.5066196383266469, '14.47%'),\n",
              "  Text(-0.5834001384875971, 0.14015804797674855, '10.03%'),\n",
              "  Text(-0.553995168237803, -0.23041127049076454, '10.03%'),\n",
              "  Text(-0.3210091318326909, -0.5069054520125248, '9.46%'),\n",
              "  Text(-0.0008007332395024783, -0.599999465688328, '8.47%'),\n",
              "  Text(0.26564250618861074, -0.5379907609855711, '6.17%'),\n",
              "  Text(0.4419002815363555, -0.40586221945149037, '5.58%'),\n",
              "  Text(0.5487335387474391, -0.24267571665437138, '4.81%'),\n",
              "  Text(0.5947354429912324, -0.07930796208466444, '4.22%')])"
            ]
          },
          "metadata": {},
          "execution_count": 54
        },
        {
          "output_type": "display_data",
          "data": {
            "text/plain": [
              "<Figure size 2160x432 with 1 Axes>"
            ],
            "image/png": "[encoded data removed]"
          },
          "metadata": {}
        }
      ]
    },
    {
      "cell_type": "markdown",
      "source": [
        "\n",
        "*********************************************************************\n",
        "\n",
        "\n",
        "\n",
        "\n",
        "\n",
        "\n",
        "\n",
        "\n",
        "\n"
      ],
      "metadata": {
        "id": "nDbB-0-ek4wd"
      }
    },
    {
      "cell_type": "markdown",
      "source": [
        "![image.png](data:image/png;base64,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)"
      ],
      "metadata": {
        "id": "9P7bnmZ9BFT5"
      }
    },
    {
      "cell_type": "code",
      "source": [
        "p=df.groupby([\"City\",\"Cuisines\"]).agg({\"Cuisines\" :\"count\"}).rename({\"Cuisines\" :\"No. of Cuisines\"},axis='columns').reset_index()\n",
        "p"
      ],
      "metadata": {
        "colab": {
          "base_uri": "https://localhost:8080/",
          "height": 425
        },
        "id": "fj2KwLnzBFxn",
        "outputId": "ecca0eee-eb6d-44ec-da95-8a93966804d1"
      },
      "execution_count": 55,
      "outputs": [
        {
          "output_type": "execute_result",
          "data": {
            "text/plain": [
              "           City                            Cuisines  No. of Cuisines\n",
              "0     Abu Dhabi                            American                2\n",
              "1     Abu Dhabi                  American, Desserts                1\n",
              "2     Abu Dhabi          American, Mexican, Seafood                1\n",
              "3     Abu Dhabi                               Asian                1\n",
              "4     Abu Dhabi                             Chinese                1\n",
              "...         ...                                 ...              ...\n",
              "3026  €¡stanbul                     Restaurant Cafe                2\n",
              "3027  €¡stanbul           Restaurant Cafe, Desserts                1\n",
              "3028  €¡stanbul  Restaurant Cafe, Turkish, Desserts                1\n",
              "3029  €¡stanbul                             Turkish                1\n",
              "3030  €¡stanbul     World Cuisine, Patisserie, Cafe                1\n",
              "\n",
              "[3031 rows x 3 columns]"
            ],
            "text/html": [
              "\n",
              "  <div id=\"df-dd719a79-98e0-4105-9c97-0467efcf3bdd\">\n",
              "    <div class=\"colab-df-container\">\n",
              "      <div>\n",
              "<style scoped>\n",
              "    .dataframe tbody tr th:only-of-type {\n",
              "        vertical-align: middle;\n",
              "    }\n",
              "\n",
              "    .dataframe tbody tr th {\n",
              "        vertical-align: top;\n",
              "    }\n",
              "\n",
              "    .dataframe thead th {\n",
              "        text-align: right;\n",
              "    }\n",
              "</style>\n",
              "<table border=\"1\" class=\"dataframe\">\n",
              "  <thead>\n",
              "    <tr style=\"text-align: right;\">\n",
              "      <th></th>\n",
              "      <th>City</th>\n",
              "      <th>Cuisines</th>\n",
              "      <th>No. of Cuisines</th>\n",
              "    </tr>\n",
              "  </thead>\n",
              "  <tbody>\n",
              "    <tr>\n",
              "      <th>0</th>\n",
              "      <td>Abu Dhabi</td>\n",
              "      <td>American</td>\n",
              "      <td>2</td>\n",
              "    </tr>\n",
              "    <tr>\n",
              "      <th>1</th>\n",
              "      <td>Abu Dhabi</td>\n",
              "      <td>American, Desserts</td>\n",
              "      <td>1</td>\n",
              "    </tr>\n",
              "    <tr>\n",
              "      <th>2</th>\n",
              "      <td>Abu Dhabi</td>\n",
              "      <td>American, Mexican, Seafood</td>\n",
              "      <td>1</td>\n",
              "    </tr>\n",
              "    <tr>\n",
              "      <th>3</th>\n",
              "      <td>Abu Dhabi</td>\n",
              "      <td>Asian</td>\n",
              "      <td>1</td>\n",
              "    </tr>\n",
              "    <tr>\n",
              "      <th>4</th>\n",
              "      <td>Abu Dhabi</td>\n",
              "      <td>Chinese</td>\n",
              "      <td>1</td>\n",
              "    </tr>\n",
              "    <tr>\n",
              "      <th>...</th>\n",
              "      <td>...</td>\n",
              "      <td>...</td>\n",
              "      <td>...</td>\n",
              "    </tr>\n",
              "    <tr>\n",
              "      <th>3026</th>\n",
              "      <td>€¡stanbul</td>\n",
              "      <td>Restaurant Cafe</td>\n",
              "      <td>2</td>\n",
              "    </tr>\n",
              "    <tr>\n",
              "      <th>3027</th>\n",
              "      <td>€¡stanbul</td>\n",
              "      <td>Restaurant Cafe, Desserts</td>\n",
              "      <td>1</td>\n",
              "    </tr>\n",
              "    <tr>\n",
              "      <th>3028</th>\n",
              "      <td>€¡stanbul</td>\n",
              "      <td>Restaurant Cafe, Turkish, Desserts</td>\n",
              "      <td>1</td>\n",
              "    </tr>\n",
              "    <tr>\n",
              "      <th>3029</th>\n",
              "      <td>€¡stanbul</td>\n",
              "      <td>Turkish</td>\n",
              "      <td>1</td>\n",
              "    </tr>\n",
              "    <tr>\n",
              "      <th>3030</th>\n",
              "      <td>€¡stanbul</td>\n",
              "      <td>World Cuisine, Patisserie, Cafe</td>\n",
              "      <td>1</td>\n",
              "    </tr>\n",
              "  </tbody>\n",
              "</table>\n",
              "<p>3031 rows × 3 columns</p>\n",
              "</div>\n",
              "      <button class=\"colab-df-convert\" onclick=\"convertToInteractive('df-dd719a79-98e0-4105-9c97-0467efcf3bdd')\"\n",
              "              title=\"Convert this dataframe to an interactive table.\"\n",
              "              style=\"display:none;\">\n",
              "        \n",
              "  <svg xmlns=\"http://www.w3.org/2000/svg\" height=\"24px\"viewBox=\"0 0 24 24\"\n",
              "       width=\"24px\">\n",
              "    <path d=\"M0 0h24v24H0V0z\" fill=\"none\"/>\n",
              "    <path d=\"M18.56 5.44l.94 2.06.94-2.06 2.06-.94-2.06-.94-.94-2.06-.94 2.06-2.06.94zm-11 1L8.5 8.5l.94-2.06 2.06-.94-2.06-.94L8.5 2.5l-.94 2.06-2.06.94zm10 10l.94 2.06.94-2.06 2.06-.94-2.06-.94-.94-2.06-.94 2.06-2.06.94z\"/><path d=\"M17.41 7.96l-1.37-1.37c-.4-.4-.92-.59-1.43-.59-.52 0-1.04.2-1.43.59L10.3 9.45l-7.72 7.72c-.78.78-.78 2.05 0 2.83L4 21.41c.39.39.9.59 1.41.59.51 0 1.02-.2 1.41-.59l7.78-7.78 2.81-2.81c.8-.78.8-2.07 0-2.86zM5.41 20L4 18.59l7.72-7.72 1.47 1.35L5.41 20z\"/>\n",
              "  </svg>\n",
              "      </button>\n",
              "      \n",
              "  <style>\n",
              "    .colab-df-container {\n",
              "      display:flex;\n",
              "      flex-wrap:wrap;\n",
              "      gap: 12px;\n",
              "    }\n",
              "\n",
              "    .colab-df-convert {\n",
              "      background-color: #E8F0FE;\n",
              "      border: none;\n",
              "      border-radius: 50%;\n",
              "      cursor: pointer;\n",
              "      display: none;\n",
              "      fill: #1967D2;\n",
              "      height: 32px;\n",
              "      padding: 0 0 0 0;\n",
              "      width: 32px;\n",
              "    }\n",
              "\n",
              "    .colab-df-convert:hover {\n",
              "      background-color: #E2EBFA;\n",
              "      box-shadow: 0px 1px 2px rgba(60, 64, 67, 0.3), 0px 1px 3px 1px rgba(60, 64, 67, 0.15);\n",
              "      fill: #174EA6;\n",
              "    }\n",
              "\n",
              "    [theme=dark] .colab-df-convert {\n",
              "      background-color: #3B4455;\n",
              "      fill: #D2E3FC;\n",
              "    }\n",
              "\n",
              "    [theme=dark] .colab-df-convert:hover {\n",
              "      background-color: #434B5C;\n",
              "      box-shadow: 0px 1px 3px 1px rgba(0, 0, 0, 0.15);\n",
              "      filter: drop-shadow(0px 1px 2px rgba(0, 0, 0, 0.3));\n",
              "      fill: #FFFFFF;\n",
              "    }\n",
              "  </style>\n",
              "\n",
              "      <script>\n",
              "        const buttonEl =\n",
              "          document.querySelector('#df-dd719a79-98e0-4105-9c97-0467efcf3bdd button.colab-df-convert');\n",
              "        buttonEl.style.display =\n",
              "          google.colab.kernel.accessAllowed ? 'block' : 'none';\n",
              "\n",
              "        async function convertToInteractive(key) {\n",
              "          const element = document.querySelector('#df-dd719a79-98e0-4105-9c97-0467efcf3bdd');\n",
              "          const dataTable =\n",
              "            await google.colab.kernel.invokeFunction('convertToInteractive',\n",
              "                                                     [key], {});\n",
              "          if (!dataTable) return;\n",
              "\n",
              "          const docLinkHtml = 'Like what you see? Visit the ' +\n",
              "            '<a target=\"_blank\" href=https://colab.research.google.com/notebooks/data_table.ipynb>data table notebook</a>'\n",
              "            + ' to learn more about interactive tables.';\n",
              "          element.innerHTML = '';\n",
              "          dataTable['output_type'] = 'display_data';\n",
              "          await google.colab.output.renderOutput(dataTable, element);\n",
              "          const docLink = document.createElement('div');\n",
              "          docLink.innerHTML = docLinkHtml;\n",
              "          element.appendChild(docLink);\n",
              "        }\n",
              "      </script>\n",
              "    </div>\n",
              "  </div>\n",
              "  "
            ]
          },
          "metadata": {},
          "execution_count": 55
        }
      ]
    },
    {
      "cell_type": "code",
      "source": [
        "p[\"rank\"]=p.groupby(['City'])['No. of Cuisines'].rank(method='first',ascending=False)\n",
        "p=p[p[\"rank\"]==1]\n",
        "p"
      ],
      "metadata": {
        "colab": {
          "base_uri": "https://localhost:8080/",
          "height": 425
        },
        "id": "_Pq3p0A2BIAM",
        "outputId": "edaab0da-8f49-440f-fe02-7e3c1f4f526b"
      },
      "execution_count": 56,
      "outputs": [
        {
          "output_type": "execute_result",
          "data": {
            "text/plain": [
              "                 City                                          Cuisines  \\\n",
              "0           Abu Dhabi                                          American   \n",
              "28               Agra                             North Indian, Mughlai   \n",
              "32          Ahmedabad  Cafe, American, Continental, Armenian, Fast Food   \n",
              "66             Albany                                      North Indian   \n",
              "79          Allahabad                             North Indian, Chinese   \n",
              "...               ...                                               ...   \n",
              "3000          Weirton                           Burger, Greek, Sandwich   \n",
              "3003  Wellington City                                              Cafe   \n",
              "3018   Winchester Bay                            Burger, Seafood, Steak   \n",
              "3019          Yorkton                                             Asian   \n",
              "3022        €¡stanbul                                              Cafe   \n",
              "\n",
              "      No. of Cuisines  rank  \n",
              "0                   2   1.0  \n",
              "28                  5   1.0  \n",
              "32                  1   1.0  \n",
              "66                  3   1.0  \n",
              "79                  3   1.0  \n",
              "...               ...   ...  \n",
              "3000                1   1.0  \n",
              "3003                3   1.0  \n",
              "3018                1   1.0  \n",
              "3019                1   1.0  \n",
              "3022                3   1.0  \n",
              "\n",
              "[141 rows x 4 columns]"
            ],
            "text/html": [
              "\n",
              "  <div id=\"df-52e37ce7-5a40-4ad7-970e-64f090b6e218\">\n",
              "    <div class=\"colab-df-container\">\n",
              "      <div>\n",
              "<style scoped>\n",
              "    .dataframe tbody tr th:only-of-type {\n",
              "        vertical-align: middle;\n",
              "    }\n",
              "\n",
              "    .dataframe tbody tr th {\n",
              "        vertical-align: top;\n",
              "    }\n",
              "\n",
              "    .dataframe thead th {\n",
              "        text-align: right;\n",
              "    }\n",
              "</style>\n",
              "<table border=\"1\" class=\"dataframe\">\n",
              "  <thead>\n",
              "    <tr style=\"text-align: right;\">\n",
              "      <th></th>\n",
              "      <th>City</th>\n",
              "      <th>Cuisines</th>\n",
              "      <th>No. of Cuisines</th>\n",
              "      <th>rank</th>\n",
              "    </tr>\n",
              "  </thead>\n",
              "  <tbody>\n",
              "    <tr>\n",
              "      <th>0</th>\n",
              "      <td>Abu Dhabi</td>\n",
              "      <td>American</td>\n",
              "      <td>2</td>\n",
              "      <td>1.0</td>\n",
              "    </tr>\n",
              "    <tr>\n",
              "      <th>28</th>\n",
              "      <td>Agra</td>\n",
              "      <td>North Indian, Mughlai</td>\n",
              "      <td>5</td>\n",
              "      <td>1.0</td>\n",
              "    </tr>\n",
              "    <tr>\n",
              "      <th>32</th>\n",
              "      <td>Ahmedabad</td>\n",
              "      <td>Cafe, American, Continental, Armenian, Fast Food</td>\n",
              "      <td>1</td>\n",
              "      <td>1.0</td>\n",
              "    </tr>\n",
              "    <tr>\n",
              "      <th>66</th>\n",
              "      <td>Albany</td>\n",
              "      <td>North Indian</td>\n",
              "      <td>3</td>\n",
              "      <td>1.0</td>\n",
              "    </tr>\n",
              "    <tr>\n",
              "      <th>79</th>\n",
              "      <td>Allahabad</td>\n",
              "      <td>North Indian, Chinese</td>\n",
              "      <td>3</td>\n",
              "      <td>1.0</td>\n",
              "    </tr>\n",
              "    <tr>\n",
              "      <th>...</th>\n",
              "      <td>...</td>\n",
              "      <td>...</td>\n",
              "      <td>...</td>\n",
              "      <td>...</td>\n",
              "    </tr>\n",
              "    <tr>\n",
              "      <th>3000</th>\n",
              "      <td>Weirton</td>\n",
              "      <td>Burger, Greek, Sandwich</td>\n",
              "      <td>1</td>\n",
              "      <td>1.0</td>\n",
              "    </tr>\n",
              "    <tr>\n",
              "      <th>3003</th>\n",
              "      <td>Wellington City</td>\n",
              "      <td>Cafe</td>\n",
              "      <td>3</td>\n",
              "      <td>1.0</td>\n",
              "    </tr>\n",
              "    <tr>\n",
              "      <th>3018</th>\n",
              "      <td>Winchester Bay</td>\n",
              "      <td>Burger, Seafood, Steak</td>\n",
              "      <td>1</td>\n",
              "      <td>1.0</td>\n",
              "    </tr>\n",
              "    <tr>\n",
              "      <th>3019</th>\n",
              "      <td>Yorkton</td>\n",
              "      <td>Asian</td>\n",
              "      <td>1</td>\n",
              "      <td>1.0</td>\n",
              "    </tr>\n",
              "    <tr>\n",
              "      <th>3022</th>\n",
              "      <td>€¡stanbul</td>\n",
              "      <td>Cafe</td>\n",
              "      <td>3</td>\n",
              "      <td>1.0</td>\n",
              "    </tr>\n",
              "  </tbody>\n",
              "</table>\n",
              "<p>141 rows × 4 columns</p>\n",
              "</div>\n",
              "      <button class=\"colab-df-convert\" onclick=\"convertToInteractive('df-52e37ce7-5a40-4ad7-970e-64f090b6e218')\"\n",
              "              title=\"Convert this dataframe to an interactive table.\"\n",
              "              style=\"display:none;\">\n",
              "        \n",
              "  <svg xmlns=\"http://www.w3.org/2000/svg\" height=\"24px\"viewBox=\"0 0 24 24\"\n",
              "       width=\"24px\">\n",
              "    <path d=\"M0 0h24v24H0V0z\" fill=\"none\"/>\n",
              "    <path d=\"M18.56 5.44l.94 2.06.94-2.06 2.06-.94-2.06-.94-.94-2.06-.94 2.06-2.06.94zm-11 1L8.5 8.5l.94-2.06 2.06-.94-2.06-.94L8.5 2.5l-.94 2.06-2.06.94zm10 10l.94 2.06.94-2.06 2.06-.94-2.06-.94-.94-2.06-.94 2.06-2.06.94z\"/><path d=\"M17.41 7.96l-1.37-1.37c-.4-.4-.92-.59-1.43-.59-.52 0-1.04.2-1.43.59L10.3 9.45l-7.72 7.72c-.78.78-.78 2.05 0 2.83L4 21.41c.39.39.9.59 1.41.59.51 0 1.02-.2 1.41-.59l7.78-7.78 2.81-2.81c.8-.78.8-2.07 0-2.86zM5.41 20L4 18.59l7.72-7.72 1.47 1.35L5.41 20z\"/>\n",
              "  </svg>\n",
              "      </button>\n",
              "      \n",
              "  <style>\n",
              "    .colab-df-container {\n",
              "      display:flex;\n",
              "      flex-wrap:wrap;\n",
              "      gap: 12px;\n",
              "    }\n",
              "\n",
              "    .colab-df-convert {\n",
              "      background-color: #E8F0FE;\n",
              "      border: none;\n",
              "      border-radius: 50%;\n",
              "      cursor: pointer;\n",
              "      display: none;\n",
              "      fill: #1967D2;\n",
              "      height: 32px;\n",
              "      padding: 0 0 0 0;\n",
              "      width: 32px;\n",
              "    }\n",
              "\n",
              "    .colab-df-convert:hover {\n",
              "      background-color: #E2EBFA;\n",
              "      box-shadow: 0px 1px 2px rgba(60, 64, 67, 0.3), 0px 1px 3px 1px rgba(60, 64, 67, 0.15);\n",
              "      fill: #174EA6;\n",
              "    }\n",
              "\n",
              "    [theme=dark] .colab-df-convert {\n",
              "      background-color: #3B4455;\n",
              "      fill: #D2E3FC;\n",
              "    }\n",
              "\n",
              "    [theme=dark] .colab-df-convert:hover {\n",
              "      background-color: #434B5C;\n",
              "      box-shadow: 0px 1px 3px 1px rgba(0, 0, 0, 0.15);\n",
              "      filter: drop-shadow(0px 1px 2px rgba(0, 0, 0, 0.3));\n",
              "      fill: #FFFFFF;\n",
              "    }\n",
              "  </style>\n",
              "\n",
              "      <script>\n",
              "        const buttonEl =\n",
              "          document.querySelector('#df-52e37ce7-5a40-4ad7-970e-64f090b6e218 button.colab-df-convert');\n",
              "        buttonEl.style.display =\n",
              "          google.colab.kernel.accessAllowed ? 'block' : 'none';\n",
              "\n",
              "        async function convertToInteractive(key) {\n",
              "          const element = document.querySelector('#df-52e37ce7-5a40-4ad7-970e-64f090b6e218');\n",
              "          const dataTable =\n",
              "            await google.colab.kernel.invokeFunction('convertToInteractive',\n",
              "                                                     [key], {});\n",
              "          if (!dataTable) return;\n",
              "\n",
              "          const docLinkHtml = 'Like what you see? Visit the ' +\n",
              "            '<a target=\"_blank\" href=https://colab.research.google.com/notebooks/data_table.ipynb>data table notebook</a>'\n",
              "            + ' to learn more about interactive tables.';\n",
              "          element.innerHTML = '';\n",
              "          dataTable['output_type'] = 'display_data';\n",
              "          await google.colab.output.renderOutput(dataTable, element);\n",
              "          const docLink = document.createElement('div');\n",
              "          docLink.innerHTML = docLinkHtml;\n",
              "          element.appendChild(docLink);\n",
              "        }\n",
              "      </script>\n",
              "    </div>\n",
              "  </div>\n",
              "  "
            ]
          },
          "metadata": {},
          "execution_count": 56
        }
      ]
    },
    {
      "cell_type": "markdown",
      "source": [
        "![image.png](data:image/png;base64,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)"
      ],
      "metadata": {
        "id": "_MYhNuJiCjju"
      }
    },
    {
      "cell_type": "code",
      "source": [
        "df_cost=df.groupby(\"Restaurant Name\").agg({\"Average Cost for two\" :\"mean\"}).reset_index().sort_values(by='Average Cost for two',ascending=True)"
      ],
      "metadata": {
        "id": "DG7JIjIDCkGB"
      },
      "execution_count": 57,
      "outputs": []
    },
    {
      "cell_type": "code",
      "source": [
        "df_cost"
      ],
      "metadata": {
        "colab": {
          "base_uri": "https://localhost:8080/",
          "height": 425
        },
        "id": "yMK4B_BLDFln",
        "outputId": "ced59dcc-f143-49a0-b31d-ffdae90e83cf"
      },
      "execution_count": 58,
      "outputs": [
        {
          "output_type": "execute_result",
          "data": {
            "text/plain": [
              "                    Restaurant Name  Average Cost for two\n",
              "1746                  Cookie Shoppe                   0.0\n",
              "486   Atmosphere Grill Cafe Sheesha                   0.0\n",
              "2808           HI Lite Bar & Lounge                   0.0\n",
              "2852  Happy Joe's Pizza & Ice Cream                   0.0\n",
              "511                          Azteca                   0.0\n",
              "...                             ...                   ...\n",
              "505     Avec Moi Restaurant and Bar              350000.0\n",
              "41                   3 Wise Monkeys              450000.0\n",
              "6170                     Sushi Masa              500000.0\n",
              "5897                           Skye              800000.0\n",
              "5594       Satoo - Hotel Shangri-La              800000.0\n",
              "\n",
              "[7445 rows x 2 columns]"
            ],
            "text/html": [
              "\n",
              "  <div id=\"df-77be2a88-3ba0-4742-b6ad-f61a5e7d24c9\">\n",
              "    <div class=\"colab-df-container\">\n",
              "      <div>\n",
              "<style scoped>\n",
              "    .dataframe tbody tr th:only-of-type {\n",
              "        vertical-align: middle;\n",
              "    }\n",
              "\n",
              "    .dataframe tbody tr th {\n",
              "        vertical-align: top;\n",
              "    }\n",
              "\n",
              "    .dataframe thead th {\n",
              "        text-align: right;\n",
              "    }\n",
              "</style>\n",
              "<table border=\"1\" class=\"dataframe\">\n",
              "  <thead>\n",
              "    <tr style=\"text-align: right;\">\n",
              "      <th></th>\n",
              "      <th>Restaurant Name</th>\n",
              "      <th>Average Cost for two</th>\n",
              "    </tr>\n",
              "  </thead>\n",
              "  <tbody>\n",
              "    <tr>\n",
              "      <th>1746</th>\n",
              "      <td>Cookie Shoppe</td>\n",
              "      <td>0.0</td>\n",
              "    </tr>\n",
              "    <tr>\n",
              "      <th>486</th>\n",
              "      <td>Atmosphere Grill Cafe Sheesha</td>\n",
              "      <td>0.0</td>\n",
              "    </tr>\n",
              "    <tr>\n",
              "      <th>2808</th>\n",
              "      <td>HI Lite Bar &amp; Lounge</td>\n",
              "      <td>0.0</td>\n",
              "    </tr>\n",
              "    <tr>\n",
              "      <th>2852</th>\n",
              "      <td>Happy Joe's Pizza &amp; Ice Cream</td>\n",
              "      <td>0.0</td>\n",
              "    </tr>\n",
              "    <tr>\n",
              "      <th>511</th>\n",
              "      <td>Azteca</td>\n",
              "      <td>0.0</td>\n",
              "    </tr>\n",
              "    <tr>\n",
              "      <th>...</th>\n",
              "      <td>...</td>\n",
              "      <td>...</td>\n",
              "    </tr>\n",
              "    <tr>\n",
              "      <th>505</th>\n",
              "      <td>Avec Moi Restaurant and Bar</td>\n",
              "      <td>350000.0</td>\n",
              "    </tr>\n",
              "    <tr>\n",
              "      <th>41</th>\n",
              "      <td>3 Wise Monkeys</td>\n",
              "      <td>450000.0</td>\n",
              "    </tr>\n",
              "    <tr>\n",
              "      <th>6170</th>\n",
              "      <td>Sushi Masa</td>\n",
              "      <td>500000.0</td>\n",
              "    </tr>\n",
              "    <tr>\n",
              "      <th>5897</th>\n",
              "      <td>Skye</td>\n",
              "      <td>800000.0</td>\n",
              "    </tr>\n",
              "    <tr>\n",
              "      <th>5594</th>\n",
              "      <td>Satoo - Hotel Shangri-La</td>\n",
              "      <td>800000.0</td>\n",
              "    </tr>\n",
              "  </tbody>\n",
              "</table>\n",
              "<p>7445 rows × 2 columns</p>\n",
              "</div>\n",
              "      <button class=\"colab-df-convert\" onclick=\"convertToInteractive('df-77be2a88-3ba0-4742-b6ad-f61a5e7d24c9')\"\n",
              "              title=\"Convert this dataframe to an interactive table.\"\n",
              "              style=\"display:none;\">\n",
              "        \n",
              "  <svg xmlns=\"http://www.w3.org/2000/svg\" height=\"24px\"viewBox=\"0 0 24 24\"\n",
              "       width=\"24px\">\n",
              "    <path d=\"M0 0h24v24H0V0z\" fill=\"none\"/>\n",
              "    <path d=\"M18.56 5.44l.94 2.06.94-2.06 2.06-.94-2.06-.94-.94-2.06-.94 2.06-2.06.94zm-11 1L8.5 8.5l.94-2.06 2.06-.94-2.06-.94L8.5 2.5l-.94 2.06-2.06.94zm10 10l.94 2.06.94-2.06 2.06-.94-2.06-.94-.94-2.06-.94 2.06-2.06.94z\"/><path d=\"M17.41 7.96l-1.37-1.37c-.4-.4-.92-.59-1.43-.59-.52 0-1.04.2-1.43.59L10.3 9.45l-7.72 7.72c-.78.78-.78 2.05 0 2.83L4 21.41c.39.39.9.59 1.41.59.51 0 1.02-.2 1.41-.59l7.78-7.78 2.81-2.81c.8-.78.8-2.07 0-2.86zM5.41 20L4 18.59l7.72-7.72 1.47 1.35L5.41 20z\"/>\n",
              "  </svg>\n",
              "      </button>\n",
              "      \n",
              "  <style>\n",
              "    .colab-df-container {\n",
              "      display:flex;\n",
              "      flex-wrap:wrap;\n",
              "      gap: 12px;\n",
              "    }\n",
              "\n",
              "    .colab-df-convert {\n",
              "      background-color: #E8F0FE;\n",
              "      border: none;\n",
              "      border-radius: 50%;\n",
              "      cursor: pointer;\n",
              "      display: none;\n",
              "      fill: #1967D2;\n",
              "      height: 32px;\n",
              "      padding: 0 0 0 0;\n",
              "      width: 32px;\n",
              "    }\n",
              "\n",
              "    .colab-df-convert:hover {\n",
              "      background-color: #E2EBFA;\n",
              "      box-shadow: 0px 1px 2px rgba(60, 64, 67, 0.3), 0px 1px 3px 1px rgba(60, 64, 67, 0.15);\n",
              "      fill: #174EA6;\n",
              "    }\n",
              "\n",
              "    [theme=dark] .colab-df-convert {\n",
              "      background-color: #3B4455;\n",
              "      fill: #D2E3FC;\n",
              "    }\n",
              "\n",
              "    [theme=dark] .colab-df-convert:hover {\n",
              "      background-color: #434B5C;\n",
              "      box-shadow: 0px 1px 3px 1px rgba(0, 0, 0, 0.15);\n",
              "      filter: drop-shadow(0px 1px 2px rgba(0, 0, 0, 0.3));\n",
              "      fill: #FFFFFF;\n",
              "    }\n",
              "  </style>\n",
              "\n",
              "      <script>\n",
              "        const buttonEl =\n",
              "          document.querySelector('#df-77be2a88-3ba0-4742-b6ad-f61a5e7d24c9 button.colab-df-convert');\n",
              "        buttonEl.style.display =\n",
              "          google.colab.kernel.accessAllowed ? 'block' : 'none';\n",
              "\n",
              "        async function convertToInteractive(key) {\n",
              "          const element = document.querySelector('#df-77be2a88-3ba0-4742-b6ad-f61a5e7d24c9');\n",
              "          const dataTable =\n",
              "            await google.colab.kernel.invokeFunction('convertToInteractive',\n",
              "                                                     [key], {});\n",
              "          if (!dataTable) return;\n",
              "\n",
              "          const docLinkHtml = 'Like what you see? Visit the ' +\n",
              "            '<a target=\"_blank\" href=https://colab.research.google.com/notebooks/data_table.ipynb>data table notebook</a>'\n",
              "            + ' to learn more about interactive tables.';\n",
              "          element.innerHTML = '';\n",
              "          dataTable['output_type'] = 'display_data';\n",
              "          await google.colab.output.renderOutput(dataTable, element);\n",
              "          const docLink = document.createElement('div');\n",
              "          docLink.innerHTML = docLinkHtml;\n",
              "          element.appendChild(docLink);\n",
              "        }\n",
              "      </script>\n",
              "    </div>\n",
              "  </div>\n",
              "  "
            ]
          },
          "metadata": {},
          "execution_count": 58
        }
      ]
    },
    {
      "cell_type": "markdown",
      "source": [
        "![image.png](data:image/png;base64,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)"
      ],
      "metadata": {
        "id": "67yyMJO2EEA6"
      }
    },
    {
      "cell_type": "code",
      "source": [
        "df_rating=df[df[\"Aggregate rating\"]==0]"
      ],
      "metadata": {
        "id": "leqd2YYYEEf-"
      },
      "execution_count": 59,
      "outputs": []
    },
    {
      "cell_type": "code",
      "source": [
        "df_rating[\"Country\"].value_counts()"
      ],
      "metadata": {
        "colab": {
          "base_uri": "https://localhost:8080/",
          "height": 0
        },
        "id": "hOlCOfHOEQ5v",
        "outputId": "b8ce589c-e38d-4e08-87ae-52d48554c689"
      },
      "execution_count": 60,
      "outputs": [
        {
          "output_type": "execute_result",
          "data": {
            "text/plain": [
              "India             2139\n",
              "Brazil               5\n",
              "United States        3\n",
              "United Kingdom       1\n",
              "Name: Country, dtype: int64"
            ]
          },
          "metadata": {},
          "execution_count": 60
        }
      ]
    },
    {
      "cell_type": "code",
      "source": [
        "#most zero ratings is from India might be casue of the busines also reside in india acc to this data"
      ],
      "metadata": {
        "id": "Lyk2dh86Gs6L"
      },
      "execution_count": 61,
      "outputs": []
    },
    {
      "cell_type": "code",
      "source": [
        "df_rating[\"City\"].value_counts()"
      ],
      "metadata": {
        "colab": {
          "base_uri": "https://localhost:8080/",
          "height": 0
        },
        "id": "J5GkP4OGEflk",
        "outputId": "d19d447f-19f1-463a-a092-e69c1e6923d1"
      },
      "execution_count": 62,
      "outputs": [
        {
          "output_type": "execute_result",
          "data": {
            "text/plain": [
              "New Delhi         1425\n",
              "Noida              384\n",
              "Gurgaon            228\n",
              "Faridabad          100\n",
              "SÌ£o Paulo           3\n",
              "Ghaziabad            2\n",
              "Davenport            2\n",
              "Rio de Janeiro       1\n",
              "BrasÌ_lia            1\n",
              "Pocatello            1\n",
              "Birmingham           1\n",
              "Name: City, dtype: int64"
            ]
          },
          "metadata": {},
          "execution_count": 62
        }
      ]
    },
    {
      "cell_type": "code",
      "source": [
        "#at city granularity max zero rating in from New Delhi"
      ],
      "metadata": {
        "id": "ZKSv0EmeG23O"
      },
      "execution_count": 63,
      "outputs": []
    },
    {
      "cell_type": "code",
      "source": [
        "df_rating[\"Restaurant Name\"].value_counts()"
      ],
      "metadata": {
        "colab": {
          "base_uri": "https://localhost:8080/",
          "height": 0
        },
        "id": "9soi8ucvEh8q",
        "outputId": "79ef27e8-f110-4d84-f930-e4f5afdcdb81"
      },
      "execution_count": 64,
      "outputs": [
        {
          "output_type": "execute_result",
          "data": {
            "text/plain": [
              "Cafe Coffee Day            16\n",
              "Baskin Robbins             12\n",
              "Aggarwal Sweets            10\n",
              "Bikaner Sweets              7\n",
              "Green Chick Chop            7\n",
              "                           ..\n",
              "Gurgaon Mughlai Chicken     1\n",
              "Shree Shyam Bhojnalaya      1\n",
              "Best Pizza Hut              1\n",
              "The Burger Chef             1\n",
              "Damascena Coffee House      1\n",
              "Name: Restaurant Name, Length: 1947, dtype: int64"
            ]
          },
          "metadata": {},
          "execution_count": 64
        }
      ]
    },
    {
      "cell_type": "code",
      "source": [
        "# max zero rating is for CCD"
      ],
      "metadata": {
        "id": "phkCjKDiG_Ro"
      },
      "execution_count": 65,
      "outputs": []
    },
    {
      "cell_type": "markdown",
      "source": [
        "![image.png](data:image/png;base64,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)"
      ],
      "metadata": {
        "id": "8XwqlvG7EwFH"
      }
    },
    {
      "cell_type": "code",
      "source": [
        "df[\"Rating text\"].unique()"
      ],
      "metadata": {
        "colab": {
          "base_uri": "https://localhost:8080/",
          "height": 0
        },
        "id": "N-hRJP2hEwi6",
        "outputId": "346276b1-2c13-4228-851e-8a67fd28a6da"
      },
      "execution_count": 67,
      "outputs": [
        {
          "output_type": "execute_result",
          "data": {
            "text/plain": [
              "array(['Very Good', 'Excellent', 'Good', 'Average', 'Not rated', 'Poor'],\n",
              "      dtype=object)"
            ]
          },
          "metadata": {},
          "execution_count": 67
        }
      ]
    },
    {
      "cell_type": "code",
      "source": [
        "price=df.groupby([\"Price range\",\"Rating text\"]).agg({\"Rating text\" :\"count\"}).rename({\"Rating text\":\"ct of text\"},axis='columns').reset_index()\n",
        "price"
      ],
      "metadata": {
        "id": "jHU9GyGqFeX9",
        "colab": {
          "base_uri": "https://localhost:8080/",
          "height": 805
        },
        "outputId": "40728c42-7380-4eaf-8115-af800559418d"
      },
      "execution_count": 68,
      "outputs": [
        {
          "output_type": "execute_result",
          "data": {
            "text/plain": [
              "    Price range Rating text  ct of text\n",
              "0             1     Average        1898\n",
              "1             1   Excellent          32\n",
              "2             1        Good         608\n",
              "3             1   Not rated        1700\n",
              "4             1        Poor          62\n",
              "5             1   Very Good         144\n",
              "6             2     Average        1425\n",
              "7             2   Excellent          69\n",
              "8             2        Good         794\n",
              "9             2   Not rated         402\n",
              "10            2        Poor          98\n",
              "11            2   Very Good         325\n",
              "12            3     Average         313\n",
              "13            3   Excellent         126\n",
              "14            3        Good         498\n",
              "15            3   Not rated          35\n",
              "16            3        Poor          20\n",
              "17            3   Very Good         416\n",
              "18            4     Average         101\n",
              "19            4   Excellent          74\n",
              "20            4        Good         200\n",
              "21            4   Not rated          11\n",
              "22            4        Poor           6\n",
              "23            4   Very Good         194"
            ],
            "text/html": [
              "\n",
              "  <div id=\"df-bc771587-83a0-4529-a600-5e088a5f9697\">\n",
              "    <div class=\"colab-df-container\">\n",
              "      <div>\n",
              "<style scoped>\n",
              "    .dataframe tbody tr th:only-of-type {\n",
              "        vertical-align: middle;\n",
              "    }\n",
              "\n",
              "    .dataframe tbody tr th {\n",
              "        vertical-align: top;\n",
              "    }\n",
              "\n",
              "    .dataframe thead th {\n",
              "        text-align: right;\n",
              "    }\n",
              "</style>\n",
              "<table border=\"1\" class=\"dataframe\">\n",
              "  <thead>\n",
              "    <tr style=\"text-align: right;\">\n",
              "      <th></th>\n",
              "      <th>Price range</th>\n",
              "      <th>Rating text</th>\n",
              "      <th>ct of text</th>\n",
              "    </tr>\n",
              "  </thead>\n",
              "  <tbody>\n",
              "    <tr>\n",
              "      <th>0</th>\n",
              "      <td>1</td>\n",
              "      <td>Average</td>\n",
              "      <td>1898</td>\n",
              "    </tr>\n",
              "    <tr>\n",
              "      <th>1</th>\n",
              "      <td>1</td>\n",
              "      <td>Excellent</td>\n",
              "      <td>32</td>\n",
              "    </tr>\n",
              "    <tr>\n",
              "      <th>2</th>\n",
              "      <td>1</td>\n",
              "      <td>Good</td>\n",
              "      <td>608</td>\n",
              "    </tr>\n",
              "    <tr>\n",
              "      <th>3</th>\n",
              "      <td>1</td>\n",
              "      <td>Not rated</td>\n",
              "      <td>1700</td>\n",
              "    </tr>\n",
              "    <tr>\n",
              "      <th>4</th>\n",
              "      <td>1</td>\n",
              "      <td>Poor</td>\n",
              "      <td>62</td>\n",
              "    </tr>\n",
              "    <tr>\n",
              "      <th>5</th>\n",
              "      <td>1</td>\n",
              "      <td>Very Good</td>\n",
              "      <td>144</td>\n",
              "    </tr>\n",
              "    <tr>\n",
              "      <th>6</th>\n",
              "      <td>2</td>\n",
              "      <td>Average</td>\n",
              "      <td>1425</td>\n",
              "    </tr>\n",
              "    <tr>\n",
              "      <th>7</th>\n",
              "      <td>2</td>\n",
              "      <td>Excellent</td>\n",
              "      <td>69</td>\n",
              "    </tr>\n",
              "    <tr>\n",
              "      <th>8</th>\n",
              "      <td>2</td>\n",
              "      <td>Good</td>\n",
              "      <td>794</td>\n",
              "    </tr>\n",
              "    <tr>\n",
              "      <th>9</th>\n",
              "      <td>2</td>\n",
              "      <td>Not rated</td>\n",
              "      <td>402</td>\n",
              "    </tr>\n",
              "    <tr>\n",
              "      <th>10</th>\n",
              "      <td>2</td>\n",
              "      <td>Poor</td>\n",
              "      <td>98</td>\n",
              "    </tr>\n",
              "    <tr>\n",
              "      <th>11</th>\n",
              "      <td>2</td>\n",
              "      <td>Very Good</td>\n",
              "      <td>325</td>\n",
              "    </tr>\n",
              "    <tr>\n",
              "      <th>12</th>\n",
              "      <td>3</td>\n",
              "      <td>Average</td>\n",
              "      <td>313</td>\n",
              "    </tr>\n",
              "    <tr>\n",
              "      <th>13</th>\n",
              "      <td>3</td>\n",
              "      <td>Excellent</td>\n",
              "      <td>126</td>\n",
              "    </tr>\n",
              "    <tr>\n",
              "      <th>14</th>\n",
              "      <td>3</td>\n",
              "      <td>Good</td>\n",
              "      <td>498</td>\n",
              "    </tr>\n",
              "    <tr>\n",
              "      <th>15</th>\n",
              "      <td>3</td>\n",
              "      <td>Not rated</td>\n",
              "      <td>35</td>\n",
              "    </tr>\n",
              "    <tr>\n",
              "      <th>16</th>\n",
              "      <td>3</td>\n",
              "      <td>Poor</td>\n",
              "      <td>20</td>\n",
              "    </tr>\n",
              "    <tr>\n",
              "      <th>17</th>\n",
              "      <td>3</td>\n",
              "      <td>Very Good</td>\n",
              "      <td>416</td>\n",
              "    </tr>\n",
              "    <tr>\n",
              "      <th>18</th>\n",
              "      <td>4</td>\n",
              "      <td>Average</td>\n",
              "      <td>101</td>\n",
              "    </tr>\n",
              "    <tr>\n",
              "      <th>19</th>\n",
              "      <td>4</td>\n",
              "      <td>Excellent</td>\n",
              "      <td>74</td>\n",
              "    </tr>\n",
              "    <tr>\n",
              "      <th>20</th>\n",
              "      <td>4</td>\n",
              "      <td>Good</td>\n",
              "      <td>200</td>\n",
              "    </tr>\n",
              "    <tr>\n",
              "      <th>21</th>\n",
              "      <td>4</td>\n",
              "      <td>Not rated</td>\n",
              "      <td>11</td>\n",
              "    </tr>\n",
              "    <tr>\n",
              "      <th>22</th>\n",
              "      <td>4</td>\n",
              "      <td>Poor</td>\n",
              "      <td>6</td>\n",
              "    </tr>\n",
              "    <tr>\n",
              "      <th>23</th>\n",
              "      <td>4</td>\n",
              "      <td>Very Good</td>\n",
              "      <td>194</td>\n",
              "    </tr>\n",
              "  </tbody>\n",
              "</table>\n",
              "</div>\n",
              "      <button class=\"colab-df-convert\" onclick=\"convertToInteractive('df-bc771587-83a0-4529-a600-5e088a5f9697')\"\n",
              "              title=\"Convert this dataframe to an interactive table.\"\n",
              "              style=\"display:none;\">\n",
              "        \n",
              "  <svg xmlns=\"http://www.w3.org/2000/svg\" height=\"24px\"viewBox=\"0 0 24 24\"\n",
              "       width=\"24px\">\n",
              "    <path d=\"M0 0h24v24H0V0z\" fill=\"none\"/>\n",
              "    <path d=\"M18.56 5.44l.94 2.06.94-2.06 2.06-.94-2.06-.94-.94-2.06-.94 2.06-2.06.94zm-11 1L8.5 8.5l.94-2.06 2.06-.94-2.06-.94L8.5 2.5l-.94 2.06-2.06.94zm10 10l.94 2.06.94-2.06 2.06-.94-2.06-.94-.94-2.06-.94 2.06-2.06.94z\"/><path d=\"M17.41 7.96l-1.37-1.37c-.4-.4-.92-.59-1.43-.59-.52 0-1.04.2-1.43.59L10.3 9.45l-7.72 7.72c-.78.78-.78 2.05 0 2.83L4 21.41c.39.39.9.59 1.41.59.51 0 1.02-.2 1.41-.59l7.78-7.78 2.81-2.81c.8-.78.8-2.07 0-2.86zM5.41 20L4 18.59l7.72-7.72 1.47 1.35L5.41 20z\"/>\n",
              "  </svg>\n",
              "      </button>\n",
              "      \n",
              "  <style>\n",
              "    .colab-df-container {\n",
              "      display:flex;\n",
              "      flex-wrap:wrap;\n",
              "      gap: 12px;\n",
              "    }\n",
              "\n",
              "    .colab-df-convert {\n",
              "      background-color: #E8F0FE;\n",
              "      border: none;\n",
              "      border-radius: 50%;\n",
              "      cursor: pointer;\n",
              "      display: none;\n",
              "      fill: #1967D2;\n",
              "      height: 32px;\n",
              "      padding: 0 0 0 0;\n",
              "      width: 32px;\n",
              "    }\n",
              "\n",
              "    .colab-df-convert:hover {\n",
              "      background-color: #E2EBFA;\n",
              "      box-shadow: 0px 1px 2px rgba(60, 64, 67, 0.3), 0px 1px 3px 1px rgba(60, 64, 67, 0.15);\n",
              "      fill: #174EA6;\n",
              "    }\n",
              "\n",
              "    [theme=dark] .colab-df-convert {\n",
              "      background-color: #3B4455;\n",
              "      fill: #D2E3FC;\n",
              "    }\n",
              "\n",
              "    [theme=dark] .colab-df-convert:hover {\n",
              "      background-color: #434B5C;\n",
              "      box-shadow: 0px 1px 3px 1px rgba(0, 0, 0, 0.15);\n",
              "      filter: drop-shadow(0px 1px 2px rgba(0, 0, 0, 0.3));\n",
              "      fill: #FFFFFF;\n",
              "    }\n",
              "  </style>\n",
              "\n",
              "      <script>\n",
              "        const buttonEl =\n",
              "          document.querySelector('#df-bc771587-83a0-4529-a600-5e088a5f9697 button.colab-df-convert');\n",
              "        buttonEl.style.display =\n",
              "          google.colab.kernel.accessAllowed ? 'block' : 'none';\n",
              "\n",
              "        async function convertToInteractive(key) {\n",
              "          const element = document.querySelector('#df-bc771587-83a0-4529-a600-5e088a5f9697');\n",
              "          const dataTable =\n",
              "            await google.colab.kernel.invokeFunction('convertToInteractive',\n",
              "                                                     [key], {});\n",
              "          if (!dataTable) return;\n",
              "\n",
              "          const docLinkHtml = 'Like what you see? Visit the ' +\n",
              "            '<a target=\"_blank\" href=https://colab.research.google.com/notebooks/data_table.ipynb>data table notebook</a>'\n",
              "            + ' to learn more about interactive tables.';\n",
              "          element.innerHTML = '';\n",
              "          dataTable['output_type'] = 'display_data';\n",
              "          await google.colab.output.renderOutput(dataTable, element);\n",
              "          const docLink = document.createElement('div');\n",
              "          docLink.innerHTML = docLinkHtml;\n",
              "          element.appendChild(docLink);\n",
              "        }\n",
              "      </script>\n",
              "    </div>\n",
              "  </div>\n",
              "  "
            ]
          },
          "metadata": {},
          "execution_count": 68
        }
      ]
    },
    {
      "cell_type": "code",
      "source": [
        "sns.barplot(\"Price range\",\"ct of text\",hue='Rating text',data=price,palette='mako')"
      ],
      "metadata": {
        "colab": {
          "base_uri": "https://localhost:8080/",
          "height": 448
        },
        "id": "xb6CN-jvJoEC",
        "outputId": "209c1820-ba80-433f-93bb-63137947248d"
      },
      "execution_count": 69,
      "outputs": [
        {
          "output_type": "stream",
          "name": "stderr",
          "text": [
            "/usr/local/lib/python3.7/dist-packages/seaborn/_decorators.py:43: FutureWarning: Pass the following variables as keyword args: x, y. From version 0.12, the only valid positional argument will be `data`, and passing other arguments without an explicit keyword will result in an error or misinterpretation.\n",
            "  FutureWarning\n"
          ]
        },
        {
          "output_type": "execute_result",
          "data": {
            "text/plain": [
              "<matplotlib.axes._subplots.AxesSubplot at 0x7f187c61fe90>"
            ]
          },
          "metadata": {},
          "execution_count": 69
        },
        {
          "output_type": "display_data",
          "data": {
            "text/plain": [
              "<Figure size 2160x432 with 1 Axes>"
            ],
            "image/png": "[encoded data removed]"
          },
          "metadata": {
            "needs_background": "light"
          }
        }
      ]
    },
    {
      "cell_type": "code",
      "source": [
        "#Conclusion:Bad rating is max for cheap/low range restaurants "
      ],
      "metadata": {
        "id": "S8qfVPZfKHwe"
      },
      "execution_count": 70,
      "outputs": []
    },
    {
      "cell_type": "code",
      "source": [
        "delivery=df.groupby([\"Has Online delivery\",\"Rating text\"]).agg({\"Rating text\" :\"count\"}).rename({\"Rating text\":\"ct of text\"},axis='columns').reset_index()\n",
        "delivery"
      ],
      "metadata": {
        "colab": {
          "base_uri": "https://localhost:8080/",
          "height": 427
        },
        "id": "_a_wIq3oKi6I",
        "outputId": "3a194dfd-e570-4df3-ec60-930aba831a63"
      },
      "execution_count": 71,
      "outputs": [
        {
          "output_type": "execute_result",
          "data": {
            "text/plain": [
              "   Has Online delivery Rating text  ct of text\n",
              "0                   No     Average        2632\n",
              "1                   No   Excellent         262\n",
              "2                   No        Good        1282\n",
              "3                   No   Not rated        2052\n",
              "4                   No        Poor          70\n",
              "5                   No   Very Good         802\n",
              "6                  Yes     Average        1105\n",
              "7                  Yes   Excellent          39\n",
              "8                  Yes        Good         818\n",
              "9                  Yes   Not rated          96\n",
              "10                 Yes        Poor         116\n",
              "11                 Yes   Very Good         277"
            ],
            "text/html": [
              "\n",
              "  <div id=\"df-61c227d8-25c2-46b5-ab86-801dbc193d2a\">\n",
              "    <div class=\"colab-df-container\">\n",
              "      <div>\n",
              "<style scoped>\n",
              "    .dataframe tbody tr th:only-of-type {\n",
              "        vertical-align: middle;\n",
              "    }\n",
              "\n",
              "    .dataframe tbody tr th {\n",
              "        vertical-align: top;\n",
              "    }\n",
              "\n",
              "    .dataframe thead th {\n",
              "        text-align: right;\n",
              "    }\n",
              "</style>\n",
              "<table border=\"1\" class=\"dataframe\">\n",
              "  <thead>\n",
              "    <tr style=\"text-align: right;\">\n",
              "      <th></th>\n",
              "      <th>Has Online delivery</th>\n",
              "      <th>Rating text</th>\n",
              "      <th>ct of text</th>\n",
              "    </tr>\n",
              "  </thead>\n",
              "  <tbody>\n",
              "    <tr>\n",
              "      <th>0</th>\n",
              "      <td>No</td>\n",
              "      <td>Average</td>\n",
              "      <td>2632</td>\n",
              "    </tr>\n",
              "    <tr>\n",
              "      <th>1</th>\n",
              "      <td>No</td>\n",
              "      <td>Excellent</td>\n",
              "      <td>262</td>\n",
              "    </tr>\n",
              "    <tr>\n",
              "      <th>2</th>\n",
              "      <td>No</td>\n",
              "      <td>Good</td>\n",
              "      <td>1282</td>\n",
              "    </tr>\n",
              "    <tr>\n",
              "      <th>3</th>\n",
              "      <td>No</td>\n",
              "      <td>Not rated</td>\n",
              "      <td>2052</td>\n",
              "    </tr>\n",
              "    <tr>\n",
              "      <th>4</th>\n",
              "      <td>No</td>\n",
              "      <td>Poor</td>\n",
              "      <td>70</td>\n",
              "    </tr>\n",
              "    <tr>\n",
              "      <th>5</th>\n",
              "      <td>No</td>\n",
              "      <td>Very Good</td>\n",
              "      <td>802</td>\n",
              "    </tr>\n",
              "    <tr>\n",
              "      <th>6</th>\n",
              "      <td>Yes</td>\n",
              "      <td>Average</td>\n",
              "      <td>1105</td>\n",
              "    </tr>\n",
              "    <tr>\n",
              "      <th>7</th>\n",
              "      <td>Yes</td>\n",
              "      <td>Excellent</td>\n",
              "      <td>39</td>\n",
              "    </tr>\n",
              "    <tr>\n",
              "      <th>8</th>\n",
              "      <td>Yes</td>\n",
              "      <td>Good</td>\n",
              "      <td>818</td>\n",
              "    </tr>\n",
              "    <tr>\n",
              "      <th>9</th>\n",
              "      <td>Yes</td>\n",
              "      <td>Not rated</td>\n",
              "      <td>96</td>\n",
              "    </tr>\n",
              "    <tr>\n",
              "      <th>10</th>\n",
              "      <td>Yes</td>\n",
              "      <td>Poor</td>\n",
              "      <td>116</td>\n",
              "    </tr>\n",
              "    <tr>\n",
              "      <th>11</th>\n",
              "      <td>Yes</td>\n",
              "      <td>Very Good</td>\n",
              "      <td>277</td>\n",
              "    </tr>\n",
              "  </tbody>\n",
              "</table>\n",
              "</div>\n",
              "      <button class=\"colab-df-convert\" onclick=\"convertToInteractive('df-61c227d8-25c2-46b5-ab86-801dbc193d2a')\"\n",
              "              title=\"Convert this dataframe to an interactive table.\"\n",
              "              style=\"display:none;\">\n",
              "        \n",
              "  <svg xmlns=\"http://www.w3.org/2000/svg\" height=\"24px\"viewBox=\"0 0 24 24\"\n",
              "       width=\"24px\">\n",
              "    <path d=\"M0 0h24v24H0V0z\" fill=\"none\"/>\n",
              "    <path d=\"M18.56 5.44l.94 2.06.94-2.06 2.06-.94-2.06-.94-.94-2.06-.94 2.06-2.06.94zm-11 1L8.5 8.5l.94-2.06 2.06-.94-2.06-.94L8.5 2.5l-.94 2.06-2.06.94zm10 10l.94 2.06.94-2.06 2.06-.94-2.06-.94-.94-2.06-.94 2.06-2.06.94z\"/><path d=\"M17.41 7.96l-1.37-1.37c-.4-.4-.92-.59-1.43-.59-.52 0-1.04.2-1.43.59L10.3 9.45l-7.72 7.72c-.78.78-.78 2.05 0 2.83L4 21.41c.39.39.9.59 1.41.59.51 0 1.02-.2 1.41-.59l7.78-7.78 2.81-2.81c.8-.78.8-2.07 0-2.86zM5.41 20L4 18.59l7.72-7.72 1.47 1.35L5.41 20z\"/>\n",
              "  </svg>\n",
              "      </button>\n",
              "      \n",
              "  <style>\n",
              "    .colab-df-container {\n",
              "      display:flex;\n",
              "      flex-wrap:wrap;\n",
              "      gap: 12px;\n",
              "    }\n",
              "\n",
              "    .colab-df-convert {\n",
              "      background-color: #E8F0FE;\n",
              "      border: none;\n",
              "      border-radius: 50%;\n",
              "      cursor: pointer;\n",
              "      display: none;\n",
              "      fill: #1967D2;\n",
              "      height: 32px;\n",
              "      padding: 0 0 0 0;\n",
              "      width: 32px;\n",
              "    }\n",
              "\n",
              "    .colab-df-convert:hover {\n",
              "      background-color: #E2EBFA;\n",
              "      box-shadow: 0px 1px 2px rgba(60, 64, 67, 0.3), 0px 1px 3px 1px rgba(60, 64, 67, 0.15);\n",
              "      fill: #174EA6;\n",
              "    }\n",
              "\n",
              "    [theme=dark] .colab-df-convert {\n",
              "      background-color: #3B4455;\n",
              "      fill: #D2E3FC;\n",
              "    }\n",
              "\n",
              "    [theme=dark] .colab-df-convert:hover {\n",
              "      background-color: #434B5C;\n",
              "      box-shadow: 0px 1px 3px 1px rgba(0, 0, 0, 0.15);\n",
              "      filter: drop-shadow(0px 1px 2px rgba(0, 0, 0, 0.3));\n",
              "      fill: #FFFFFF;\n",
              "    }\n",
              "  </style>\n",
              "\n",
              "      <script>\n",
              "        const buttonEl =\n",
              "          document.querySelector('#df-61c227d8-25c2-46b5-ab86-801dbc193d2a button.colab-df-convert');\n",
              "        buttonEl.style.display =\n",
              "          google.colab.kernel.accessAllowed ? 'block' : 'none';\n",
              "\n",
              "        async function convertToInteractive(key) {\n",
              "          const element = document.querySelector('#df-61c227d8-25c2-46b5-ab86-801dbc193d2a');\n",
              "          const dataTable =\n",
              "            await google.colab.kernel.invokeFunction('convertToInteractive',\n",
              "                                                     [key], {});\n",
              "          if (!dataTable) return;\n",
              "\n",
              "          const docLinkHtml = 'Like what you see? Visit the ' +\n",
              "            '<a target=\"_blank\" href=https://colab.research.google.com/notebooks/data_table.ipynb>data table notebook</a>'\n",
              "            + ' to learn more about interactive tables.';\n",
              "          element.innerHTML = '';\n",
              "          dataTable['output_type'] = 'display_data';\n",
              "          await google.colab.output.renderOutput(dataTable, element);\n",
              "          const docLink = document.createElement('div');\n",
              "          docLink.innerHTML = docLinkHtml;\n",
              "          element.appendChild(docLink);\n",
              "        }\n",
              "      </script>\n",
              "    </div>\n",
              "  </div>\n",
              "  "
            ]
          },
          "metadata": {},
          "execution_count": 71
        }
      ]
    },
    {
      "cell_type": "code",
      "source": [
        "sns.barplot(\"Has Online delivery\",\"ct of text\",hue='Rating text',data=delivery,palette='magma')"
      ],
      "metadata": {
        "colab": {
          "base_uri": "https://localhost:8080/",
          "height": 448
        },
        "id": "ELHQj-eIKvpC",
        "outputId": "af115838-5612-4fd1-f983-57ab7c22cec7"
      },
      "execution_count": 72,
      "outputs": [
        {
          "output_type": "stream",
          "name": "stderr",
          "text": [
            "/usr/local/lib/python3.7/dist-packages/seaborn/_decorators.py:43: FutureWarning: Pass the following variables as keyword args: x, y. From version 0.12, the only valid positional argument will be `data`, and passing other arguments without an explicit keyword will result in an error or misinterpretation.\n",
            "  FutureWarning\n"
          ]
        },
        {
          "output_type": "execute_result",
          "data": {
            "text/plain": [
              "<matplotlib.axes._subplots.AxesSubplot at 0x7f187c4b6ad0>"
            ]
          },
          "metadata": {},
          "execution_count": 72
        },
        {
          "output_type": "display_data",
          "data": {
            "text/plain": [
              "<Figure size 2160x432 with 1 Axes>"
            ],
            "image/png": "[encoded data removed]"
          },
          "metadata": {
            "needs_background": "light"
          }
        }
      ]
    },
    {
      "cell_type": "code",
      "source": [
        "#Restaurants which didnt have only deliver has bad /poor ratings"
      ],
      "metadata": {
        "id": "BDBFtsbQK2sl"
      },
      "execution_count": 73,
      "outputs": []
    },
    {
      "cell_type": "code",
      "source": [
        "table=df.groupby([\"Has Table booking\",\"Rating text\"]).agg({\"Rating text\" :\"count\"}).rename({\"Rating text\":\"ct of text\"},axis='columns').reset_index()\n",
        "table"
      ],
      "metadata": {
        "colab": {
          "base_uri": "https://localhost:8080/",
          "height": 427
        },
        "id": "0QsRYgDoLCZH",
        "outputId": "b68969d7-c231-49c7-c646-f86d6b565d00"
      },
      "execution_count": 74,
      "outputs": [
        {
          "output_type": "execute_result",
          "data": {
            "text/plain": [
              "   Has Table booking Rating text  ct of text\n",
              "0                 No     Average        3343\n",
              "1                 No   Excellent         256\n",
              "2                 No        Good        1694\n",
              "3                 No   Not rated        2101\n",
              "4                 No        Poor         162\n",
              "5                 No   Very Good         837\n",
              "6                Yes     Average         394\n",
              "7                Yes   Excellent          45\n",
              "8                Yes        Good         406\n",
              "9                Yes   Not rated          47\n",
              "10               Yes        Poor          24\n",
              "11               Yes   Very Good         242"
            ],
            "text/html": [
              "\n",
              "  <div id=\"df-d3a7cad8-b7ef-4acb-b19b-63f9b31841bb\">\n",
              "    <div class=\"colab-df-container\">\n",
              "      <div>\n",
              "<style scoped>\n",
              "    .dataframe tbody tr th:only-of-type {\n",
              "        vertical-align: middle;\n",
              "    }\n",
              "\n",
              "    .dataframe tbody tr th {\n",
              "        vertical-align: top;\n",
              "    }\n",
              "\n",
              "    .dataframe thead th {\n",
              "        text-align: right;\n",
              "    }\n",
              "</style>\n",
              "<table border=\"1\" class=\"dataframe\">\n",
              "  <thead>\n",
              "    <tr style=\"text-align: right;\">\n",
              "      <th></th>\n",
              "      <th>Has Table booking</th>\n",
              "      <th>Rating text</th>\n",
              "      <th>ct of text</th>\n",
              "    </tr>\n",
              "  </thead>\n",
              "  <tbody>\n",
              "    <tr>\n",
              "      <th>0</th>\n",
              "      <td>No</td>\n",
              "      <td>Average</td>\n",
              "      <td>3343</td>\n",
              "    </tr>\n",
              "    <tr>\n",
              "      <th>1</th>\n",
              "      <td>No</td>\n",
              "      <td>Excellent</td>\n",
              "      <td>256</td>\n",
              "    </tr>\n",
              "    <tr>\n",
              "      <th>2</th>\n",
              "      <td>No</td>\n",
              "      <td>Good</td>\n",
              "      <td>1694</td>\n",
              "    </tr>\n",
              "    <tr>\n",
              "      <th>3</th>\n",
              "      <td>No</td>\n",
              "      <td>Not rated</td>\n",
              "      <td>2101</td>\n",
              "    </tr>\n",
              "    <tr>\n",
              "      <th>4</th>\n",
              "      <td>No</td>\n",
              "      <td>Poor</td>\n",
              "      <td>162</td>\n",
              "    </tr>\n",
              "    <tr>\n",
              "      <th>5</th>\n",
              "      <td>No</td>\n",
              "      <td>Very Good</td>\n",
              "      <td>837</td>\n",
              "    </tr>\n",
              "    <tr>\n",
              "      <th>6</th>\n",
              "      <td>Yes</td>\n",
              "      <td>Average</td>\n",
              "      <td>394</td>\n",
              "    </tr>\n",
              "    <tr>\n",
              "      <th>7</th>\n",
              "      <td>Yes</td>\n",
              "      <td>Excellent</td>\n",
              "      <td>45</td>\n",
              "    </tr>\n",
              "    <tr>\n",
              "      <th>8</th>\n",
              "      <td>Yes</td>\n",
              "      <td>Good</td>\n",
              "      <td>406</td>\n",
              "    </tr>\n",
              "    <tr>\n",
              "      <th>9</th>\n",
              "      <td>Yes</td>\n",
              "      <td>Not rated</td>\n",
              "      <td>47</td>\n",
              "    </tr>\n",
              "    <tr>\n",
              "      <th>10</th>\n",
              "      <td>Yes</td>\n",
              "      <td>Poor</td>\n",
              "      <td>24</td>\n",
              "    </tr>\n",
              "    <tr>\n",
              "      <th>11</th>\n",
              "      <td>Yes</td>\n",
              "      <td>Very Good</td>\n",
              "      <td>242</td>\n",
              "    </tr>\n",
              "  </tbody>\n",
              "</table>\n",
              "</div>\n",
              "      <button class=\"colab-df-convert\" onclick=\"convertToInteractive('df-d3a7cad8-b7ef-4acb-b19b-63f9b31841bb')\"\n",
              "              title=\"Convert this dataframe to an interactive table.\"\n",
              "              style=\"display:none;\">\n",
              "        \n",
              "  <svg xmlns=\"http://www.w3.org/2000/svg\" height=\"24px\"viewBox=\"0 0 24 24\"\n",
              "       width=\"24px\">\n",
              "    <path d=\"M0 0h24v24H0V0z\" fill=\"none\"/>\n",
              "    <path d=\"M18.56 5.44l.94 2.06.94-2.06 2.06-.94-2.06-.94-.94-2.06-.94 2.06-2.06.94zm-11 1L8.5 8.5l.94-2.06 2.06-.94-2.06-.94L8.5 2.5l-.94 2.06-2.06.94zm10 10l.94 2.06.94-2.06 2.06-.94-2.06-.94-.94-2.06-.94 2.06-2.06.94z\"/><path d=\"M17.41 7.96l-1.37-1.37c-.4-.4-.92-.59-1.43-.59-.52 0-1.04.2-1.43.59L10.3 9.45l-7.72 7.72c-.78.78-.78 2.05 0 2.83L4 21.41c.39.39.9.59 1.41.59.51 0 1.02-.2 1.41-.59l7.78-7.78 2.81-2.81c.8-.78.8-2.07 0-2.86zM5.41 20L4 18.59l7.72-7.72 1.47 1.35L5.41 20z\"/>\n",
              "  </svg>\n",
              "      </button>\n",
              "      \n",
              "  <style>\n",
              "    .colab-df-container {\n",
              "      display:flex;\n",
              "      flex-wrap:wrap;\n",
              "      gap: 12px;\n",
              "    }\n",
              "\n",
              "    .colab-df-convert {\n",
              "      background-color: #E8F0FE;\n",
              "      border: none;\n",
              "      border-radius: 50%;\n",
              "      cursor: pointer;\n",
              "      display: none;\n",
              "      fill: #1967D2;\n",
              "      height: 32px;\n",
              "      padding: 0 0 0 0;\n",
              "      width: 32px;\n",
              "    }\n",
              "\n",
              "    .colab-df-convert:hover {\n",
              "      background-color: #E2EBFA;\n",
              "      box-shadow: 0px 1px 2px rgba(60, 64, 67, 0.3), 0px 1px 3px 1px rgba(60, 64, 67, 0.15);\n",
              "      fill: #174EA6;\n",
              "    }\n",
              "\n",
              "    [theme=dark] .colab-df-convert {\n",
              "      background-color: #3B4455;\n",
              "      fill: #D2E3FC;\n",
              "    }\n",
              "\n",
              "    [theme=dark] .colab-df-convert:hover {\n",
              "      background-color: #434B5C;\n",
              "      box-shadow: 0px 1px 3px 1px rgba(0, 0, 0, 0.15);\n",
              "      filter: drop-shadow(0px 1px 2px rgba(0, 0, 0, 0.3));\n",
              "      fill: #FFFFFF;\n",
              "    }\n",
              "  </style>\n",
              "\n",
              "      <script>\n",
              "        const buttonEl =\n",
              "          document.querySelector('#df-d3a7cad8-b7ef-4acb-b19b-63f9b31841bb button.colab-df-convert');\n",
              "        buttonEl.style.display =\n",
              "          google.colab.kernel.accessAllowed ? 'block' : 'none';\n",
              "\n",
              "        async function convertToInteractive(key) {\n",
              "          const element = document.querySelector('#df-d3a7cad8-b7ef-4acb-b19b-63f9b31841bb');\n",
              "          const dataTable =\n",
              "            await google.colab.kernel.invokeFunction('convertToInteractive',\n",
              "                                                     [key], {});\n",
              "          if (!dataTable) return;\n",
              "\n",
              "          const docLinkHtml = 'Like what you see? Visit the ' +\n",
              "            '<a target=\"_blank\" href=https://colab.research.google.com/notebooks/data_table.ipynb>data table notebook</a>'\n",
              "            + ' to learn more about interactive tables.';\n",
              "          element.innerHTML = '';\n",
              "          dataTable['output_type'] = 'display_data';\n",
              "          await google.colab.output.renderOutput(dataTable, element);\n",
              "          const docLink = document.createElement('div');\n",
              "          docLink.innerHTML = docLinkHtml;\n",
              "          element.appendChild(docLink);\n",
              "        }\n",
              "      </script>\n",
              "    </div>\n",
              "  </div>\n",
              "  "
            ]
          },
          "metadata": {},
          "execution_count": 74
        }
      ]
    },
    {
      "cell_type": "code",
      "source": [
        "sns.barplot(\"Has Table booking\",\"ct of text\",hue='Rating text',data=table,palette='magma')"
      ],
      "metadata": {
        "colab": {
          "base_uri": "https://localhost:8080/",
          "height": 450
        },
        "id": "wAeEL51pLb6j",
        "outputId": "c4c5af18-b2f6-4979-8417-3640bcd5de8b"
      },
      "execution_count": 75,
      "outputs": [
        {
          "output_type": "stream",
          "name": "stderr",
          "text": [
            "/usr/local/lib/python3.7/dist-packages/seaborn/_decorators.py:43: FutureWarning: Pass the following variables as keyword args: x, y. From version 0.12, the only valid positional argument will be `data`, and passing other arguments without an explicit keyword will result in an error or misinterpretation.\n",
            "  FutureWarning\n"
          ]
        },
        {
          "output_type": "execute_result",
          "data": {
            "text/plain": [
              "<matplotlib.axes._subplots.AxesSubplot at 0x7f187c3fa310>"
            ]
          },
          "metadata": {},
          "execution_count": 75
        },
        {
          "output_type": "display_data",
          "data": {
            "text/plain": [
              "<Figure size 2160x432 with 1 Axes>"
            ],
            "image/png": "[encoded data removed]"
          },
          "metadata": {
            "needs_background": "light"
          }
        }
      ]
    },
    {
      "cell_type": "code",
      "source": [
        "#Conclusion:Since percentage of restaurants which do not have table booking option hence ratings are also biased but only within those also average rating is quite high for those"
      ],
      "metadata": {
        "id": "Tq2NIOi2Lif8"
      },
      "execution_count": 76,
      "outputs": []
    },
    {
      "cell_type": "code",
      "source": [
        "df.to_csv('restaurant.csv')"
      ],
      "metadata": {
        "id": "GEPJsA7Azad7"
      },
      "execution_count": null,
      "outputs": []
    },
    {
      "cell_type": "code",
      "source": [
        ""
      ],
      "metadata": {
        "id": "_3xduXkIzggv"
      },
      "execution_count": null,
      "outputs": []
    }
  ],
  "metadata": {
    "colab": {
      "name": "Restaurant Recommendation .ipynb",
      "provenance": []
    },
    "kernelspec": {
      "display_name": "Python 3",
      "name": "python3"
    },
    "language_info": {
      "name": "python"
    }
  },
  "nbformat": 4,
  "nbformat_minor": 0
}